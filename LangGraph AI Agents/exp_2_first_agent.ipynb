{
 "cells": [
  {
   "cell_type": "markdown",
   "metadata": {},
   "source": [
    "# First Agent"
   ]
  },
  {
   "cell_type": "code",
   "execution_count": 36,
   "metadata": {},
   "outputs": [],
   "source": [
    "import os\n",
    "import sys\n",
    "import random\n",
    "from pydantic import BaseModel\n",
    "\n",
    "from langchain_core.messages import HumanMessage, SystemMessage\n",
    "from langchain_openai import OpenAI, ChatOpenAI\n",
    "from langgraph.graph import StateGraph, START, END\n",
    "from langgraph.prebuilt import ToolNode\n",
    "from langchain_core.tools import tool\n",
    "\n",
    "sys.path.append(os.path.abspath(os.path.join(os.getcwd(), '..')))\n",
    "\n",
    "from lib.utils import set_chatgpt_env, set_langsmith_env"
   ]
  },
  {
   "cell_type": "code",
   "execution_count": 27,
   "metadata": {},
   "outputs": [],
   "source": [
    "set_langsmith_env()\n",
    "set_langsmith_env()"
   ]
  },
  {
   "cell_type": "code",
   "execution_count": 34,
   "metadata": {},
   "outputs": [],
   "source": [
    "llm = ChatOpenAI(model=\"gpt-4o\")\n",
    "\n",
    "# Define the schema\n",
    "class GmtTimeSchema(BaseModel):\n",
    "    city: str\n",
    "\n",
    "# Helper function to get the last message\n",
    "def get_last_message(state):\n",
    "    \"\"\"Returns the last message from the state.\"\"\"\n",
    "    return state.get(\"messages\", [])[-1] if state.get(\"messages\") else {}\n",
    "\n",
    "# Define the tool function\n",
    "@tool\n",
    "def gmt_time_tool(city: str) -> str:\n",
    "    \"\"\"Check local time in a specified city.\n",
    "    The API is randomly available every third call.\"\"\"\n",
    "    service_is_working = random.randint(0, 2)  # Randomly fails every third call\n",
    "    return f\"The local time in {city} is 6:30pm.\" if service_is_working != 2 else \"Error 404\"\n",
    "\n",
    "# Define function to simulate calling an LLM with tools\n",
    "def call_model_node(state):\n",
    "    \"\"\"Simulates an AI model invoking tools.\"\"\"\n",
    "    messages = state.get(\"messages\", [])\n",
    "    llm_with_tools = llm.bind_tools([gmt_time_tool])  # Simulated tool binding\n",
    "    result = llm_with_tools.invoke(messages)  # Simulate tool invocation\n",
    "    return {\"messages\": [result]}\n",
    "\n",
    "# Define function to decide whether to continue or end\n",
    "def should_continue(state):\n",
    "    \"\"\"Decides whether to continue processing or end.\"\"\"\n",
    "    last_message = get_last_message(state)\n",
    "    did_ai_called_any_tools = bool(last_message.get(\"tool_calls\"))\n",
    "    return \"tools\" if did_ai_called_any_tools else END\n",
    "\n",
    "tool_node = ToolNode([gmt_time_tool])\n",
    "\n",
    "# Create the state graph\n",
    "graph = StateGraph()\n",
    "graph.add_node(\"agent\", call_model_node)\n",
    "graph.add_node(\"tools\", tool_node)\n",
    "graph.add_edge(START, \"agent\")\n",
    "graph.add_edge(\"tools\", \"agent\")\n",
    "graph.add_conditional_edges(\"agent\", should_continue, {\"tools\": \"tools\", END: END})\n",
    "\n",
    "# Example state to pass to the graph\n",
    "state = {\"messages\": [{\"role\": \"user\", \"content\": \"What time is it in London?\"}]}  \n",
    "result = graph.run(state)\n",
    "\n",
    "print(result)\n"
   ]
  }
 ],
 "metadata": {
  "kernelspec": {
   "display_name": "agentic-3.11.2",
   "language": "python",
   "name": "python3"
  },
  "language_info": {
   "codemirror_mode": {
    "name": "ipython",
    "version": 3
   },
   "file_extension": ".py",
   "mimetype": "text/x-python",
   "name": "python",
   "nbconvert_exporter": "python",
   "pygments_lexer": "ipython3",
   "version": "3.11.2"
  }
 },
 "nbformat": 4,
 "nbformat_minor": 2
}
