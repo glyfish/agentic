{
 "cells": [
  {
   "cell_type": "markdown",
   "metadata": {},
   "source": [
    "# Multi-Agent Systems"
   ]
  },
  {
   "cell_type": "code",
   "execution_count": 1,
   "metadata": {},
   "outputs": [],
   "source": [
    "import os\n",
    "import sys\n",
    "import random\n",
    "import json\n",
    "from pydantic import BaseModel, Field\n",
    "from dataclasses import dataclass, field\n",
    "import plotext\n",
    "import numpy\n",
    "from enum import Enum\n",
    "import asyncio\n",
    "\n",
    "from typing import Annotated, Literal, Sequence, Union, List, Dict, Tuple, Optional\n",
    "from typing_extensions import TypedDict\n",
    "\n",
    "from langchain_core.messages import HumanMessage, SystemMessage, BaseMessage, FunctionMessage, \\\n",
    "                                    AIMessage, ToolCall\n",
    "\n",
    "from langchain_openai import ChatOpenAI\n",
    "from langchain_community.tools import TavilySearchResults\n",
    "from langgraph.graph import StateGraph, START, END\n",
    "from langgraph.prebuilt import ToolNode\n",
    "from langgraph.graph.message import add_messages\n",
    "from langchain_core.tools import tool\n",
    "from langgraph.checkpoint.memory import MemorySaver\n",
    "from langchain_core.messages import ToolMessage\n",
    "from langchain.output_parsers import JsonOutputKeyToolsParser\n",
    "from langchain.prompts import ChatPromptTemplate, MessagesPlaceholder\n",
    "\n",
    "from IPython.display import Image, display\n",
    "\n",
    "sys.path.append(os.path.abspath(os.path.join(os.getcwd(), '..')))\n",
    "\n",
    "from lib.utils import set_chatgpt_env, set_langsmith_env, set_tavily_env"
   ]
  },
  {
   "cell_type": "code",
   "execution_count": 2,
   "metadata": {},
   "outputs": [],
   "source": [
    "set_langsmith_env()\n",
    "set_chatgpt_env()\n",
    "set_tavily_env()"
   ]
  },
  {
   "cell_type": "markdown",
   "metadata": {},
   "source": [
    "## Plotting"
   ]
  },
  {
   "cell_type": "code",
   "execution_count": 3,
   "metadata": {},
   "outputs": [],
   "source": [
    "def generate_bar_graph(data: Dict[str, float], title: str) -> str:\n",
    "    \"\"\"\n",
    "    Generate a bar vertical graph from a dictionary of data.\n",
    "\n",
    "    Parameters\n",
    "    ----------\n",
    "        data (Dict[str, float])\n",
    "            A dictionary of data to be plotted.Where the keys are the categories and \n",
    "            the values are the values for each category.\n",
    "        title (str)\n",
    "            The title of the plot.\n",
    "\n",
    "    Returns\n",
    "    --------\n",
    "        str: The plot as a string.\n",
    "    \"\"\"\n",
    "\n",
    "    cats = list(data.keys())\n",
    "    vals = list(data.values())\n",
    "    plotext.clear_figure()\n",
    "    plotext.bar(cats, vals)\n",
    "    plotext.title(title)\n",
    "    return plotext.build()\n",
    "\n",
    "def generate_horizontal_bar_graph(data: Dict[str, float], title: str) -> str:\n",
    "    \"\"\"\n",
    "    Generate a horizontal bar graph from a dictionary of data.\n",
    "\n",
    "    Parameters\n",
    "    ----------\n",
    "        data (Dict[str, float])\n",
    "            A dictionary of data to be plotted.Where the keys are the categories and \n",
    "            the values are the values for each category.\n",
    "        title (str)\n",
    "            The title of the plot.\n",
    "\n",
    "    Returns\n",
    "    --------\n",
    "        str: The plot as a string.\n",
    "    \"\"\"\n",
    "    \n",
    "    cats = list(data.keys())\n",
    "    vals = list(data.values())\n",
    "    plotext.clear_figure()\n",
    "    plotext.bar(cats, vals, orientation=\"h\", width=0.5)\n",
    "    plotext.title(title)\n",
    "    return plotext.build()\n",
    "\n",
    "\n",
    "def generate_line_graph(x: List[float], y: List[float], title: str) -> str:\n",
    "    \"\"\"\n",
    "    Generate a line graph from a list of x and y values.\n",
    "\n",
    "    Parameters\n",
    "    ----------\n",
    "        x (List[float])\n",
    "            The x axis values for the plot.\n",
    "        y (List[float])\n",
    "            The y axis values for the plot.\n",
    "        title (str)\n",
    "            The title of the plot.\n",
    "\n",
    "    Returns\n",
    "    --------\n",
    "        str: The plot as a string.\n",
    "    \"\"\"\n",
    "\n",
    "    plotext.clear_figure()\n",
    "    plotext.plot(x, y)\n",
    "    plotext.title(title)\n",
    "    return plotext.build()\n",
    "\n",
    "\n",
    "def generate_scatter_plot(x: List[float], y: List[float], title: str) -> str:\n",
    "    \"\"\"\n",
    "    Generate a scatter plot from a list of x and y values.\n",
    "\n",
    "    Parameters\n",
    "    ----------\n",
    "        x (List[float])\n",
    "            The x axis values for the plot.\n",
    "        y (List[float])\n",
    "            The y axis values for the plot.\n",
    "        title (str)\n",
    "            The title of the plot.\n",
    "\n",
    "    Returns\n",
    "    --------\n",
    "        str: The plot as a string.  \n",
    "    \"\"\"\n",
    "\n",
    "    plotext.clear_figure()\n",
    "    plotext.scatter(x, y)\n",
    "    plotext.title(title)\n",
    "    return plotext.build()\n",
    "\n",
    "\n",
    "def generate_histogram(data: List[float], title: str, num_bins: int = 10) -> str:\n",
    "    \"\"\"\n",
    "    Generate a histogram from a list of data.\n",
    "\n",
    "    Parameters\n",
    "    ----------\n",
    "        data (List[float])\n",
    "            The data to be plotted.\n",
    "        num_bins (int)\n",
    "            The number of bins for the histogram.\n",
    "        title (str)\n",
    "            The title of the plot.\n",
    "\n",
    "    Returns\n",
    "    --------\n",
    "        str: The plot as a string.\n",
    "    \"\"\"\n",
    "\n",
    "    plotext.clear_figure()\n",
    "    plotext.hist(data, bins=num_bins)\n",
    "    plotext.title(title)\n",
    "    return plotext.build()\n",
    "\n",
    "\n",
    "def generate_multiple_line_graphs(data: Dict[str, Tuple[List[float], List[float]]], title: str) -> str:\n",
    "    \"\"\"\n",
    "    Generate a multiple line graph from a dictionary of data.\n",
    "\n",
    "    Parameters\n",
    "    ----------\n",
    "        data (Dict[str, Tuple[List[float], List[float]]])\n",
    "            A dictionary of data to be plotted.Where the keys are the categories and \n",
    "            the values are a tuple of x axis values and y axis   values.\n",
    "        title (str)\n",
    "            The title of the plot.\n",
    "\n",
    "    Returns\n",
    "    --------\n",
    "        str: The plot as a string.\n",
    "    \"\"\"\n",
    "\n",
    "    plotext.clear_figure()\n",
    "    for key, values in data.items():\n",
    "        plotext.plot(values[0], values[1], label=key)\n",
    "    plotext.title(title)\n",
    "    return plotext.build()"
   ]
  },
  {
   "cell_type": "code",
   "execution_count": 29,
   "metadata": {},
   "outputs": [
    {
     "name": "stdout",
     "output_type": "stream",
     "text": [
      "\u001b[48;5;15m                                  \u001b[0m\u001b[48;5;15m\u001b[38;5;0mBar Chart Example\u001b[0m\u001b[48;5;15m                             \u001b[0m\n",
      "\u001b[48;5;15m    \u001b[0m\u001b[48;5;15m\u001b[38;5;0m┌──────────────────────────────────────────────────────────────────────────┐\u001b[0m\n",
      "\u001b[48;5;15m\u001b[38;5;0m3.00┤\u001b[0m\u001b[48;5;15m                                                    \u001b[0m\u001b[48;5;15m\u001b[38;5;12m██████████████████████\u001b[0m\u001b[48;5;15m\u001b[38;5;0m│\u001b[0m\n",
      "\u001b[48;5;15m    \u001b[0m\u001b[48;5;15m\u001b[38;5;0m│\u001b[0m\u001b[48;5;15m                                                    \u001b[0m\u001b[48;5;15m\u001b[38;5;12m██████████████████████\u001b[0m\u001b[48;5;15m\u001b[38;5;0m│\u001b[0m\n",
      "\u001b[48;5;15m    \u001b[0m\u001b[48;5;15m\u001b[38;5;0m│\u001b[0m\u001b[48;5;15m                                                    \u001b[0m\u001b[48;5;15m\u001b[38;5;12m██████████████████████\u001b[0m\u001b[48;5;15m\u001b[38;5;0m│\u001b[0m\n",
      "\u001b[48;5;15m\u001b[38;5;0m2.50┤\u001b[0m\u001b[48;5;15m                                                    \u001b[0m\u001b[48;5;15m\u001b[38;5;12m██████████████████████\u001b[0m\u001b[48;5;15m\u001b[38;5;0m│\u001b[0m\n",
      "\u001b[48;5;15m    \u001b[0m\u001b[48;5;15m\u001b[38;5;0m│\u001b[0m\u001b[48;5;15m                                                    \u001b[0m\u001b[48;5;15m\u001b[38;5;12m██████████████████████\u001b[0m\u001b[48;5;15m\u001b[38;5;0m│\u001b[0m\n",
      "\u001b[48;5;15m    \u001b[0m\u001b[48;5;15m\u001b[38;5;0m│\u001b[0m\u001b[48;5;15m                                                    \u001b[0m\u001b[48;5;15m\u001b[38;5;12m██████████████████████\u001b[0m\u001b[48;5;15m\u001b[38;5;0m│\u001b[0m\n",
      "\u001b[48;5;15m\u001b[38;5;0m2.00┤\u001b[0m\u001b[48;5;15m                          \u001b[0m\u001b[48;5;15m\u001b[38;5;12m██████████████████████\u001b[0m\u001b[48;5;15m    \u001b[0m\u001b[48;5;15m\u001b[38;5;12m██████████████████████\u001b[0m\u001b[48;5;15m\u001b[38;5;0m│\u001b[0m\n",
      "\u001b[48;5;15m    \u001b[0m\u001b[48;5;15m\u001b[38;5;0m│\u001b[0m\u001b[48;5;15m                          \u001b[0m\u001b[48;5;15m\u001b[38;5;12m██████████████████████\u001b[0m\u001b[48;5;15m    \u001b[0m\u001b[48;5;15m\u001b[38;5;12m██████████████████████\u001b[0m\u001b[48;5;15m\u001b[38;5;0m│\u001b[0m\n",
      "\u001b[48;5;15m\u001b[38;5;0m1.50┤\u001b[0m\u001b[48;5;15m                          \u001b[0m\u001b[48;5;15m\u001b[38;5;12m██████████████████████\u001b[0m\u001b[48;5;15m    \u001b[0m\u001b[48;5;15m\u001b[38;5;12m██████████████████████\u001b[0m\u001b[48;5;15m\u001b[38;5;0m│\u001b[0m\n",
      "\u001b[48;5;15m    \u001b[0m\u001b[48;5;15m\u001b[38;5;0m│\u001b[0m\u001b[48;5;15m                          \u001b[0m\u001b[48;5;15m\u001b[38;5;12m██████████████████████\u001b[0m\u001b[48;5;15m    \u001b[0m\u001b[48;5;15m\u001b[38;5;12m██████████████████████\u001b[0m\u001b[48;5;15m\u001b[38;5;0m│\u001b[0m\n",
      "\u001b[48;5;15m    \u001b[0m\u001b[48;5;15m\u001b[38;5;0m│\u001b[0m\u001b[48;5;15m                          \u001b[0m\u001b[48;5;15m\u001b[38;5;12m██████████████████████\u001b[0m\u001b[48;5;15m    \u001b[0m\u001b[48;5;15m\u001b[38;5;12m██████████████████████\u001b[0m\u001b[48;5;15m\u001b[38;5;0m│\u001b[0m\n",
      "\u001b[48;5;15m\u001b[38;5;0m1.00┤\u001b[0m\u001b[48;5;15m\u001b[38;5;12m██████████████████████\u001b[0m\u001b[48;5;15m    \u001b[0m\u001b[48;5;15m\u001b[38;5;12m██████████████████████\u001b[0m\u001b[48;5;15m    \u001b[0m\u001b[48;5;15m\u001b[38;5;12m██████████████████████\u001b[0m\u001b[48;5;15m\u001b[38;5;0m│\u001b[0m\n",
      "\u001b[48;5;15m    \u001b[0m\u001b[48;5;15m\u001b[38;5;0m│\u001b[0m\u001b[48;5;15m\u001b[38;5;12m██████████████████████\u001b[0m\u001b[48;5;15m    \u001b[0m\u001b[48;5;15m\u001b[38;5;12m██████████████████████\u001b[0m\u001b[48;5;15m    \u001b[0m\u001b[48;5;15m\u001b[38;5;12m██████████████████████\u001b[0m\u001b[48;5;15m\u001b[38;5;0m│\u001b[0m\n",
      "\u001b[48;5;15m    \u001b[0m\u001b[48;5;15m\u001b[38;5;0m│\u001b[0m\u001b[48;5;15m\u001b[38;5;12m██████████████████████\u001b[0m\u001b[48;5;15m    \u001b[0m\u001b[48;5;15m\u001b[38;5;12m██████████████████████\u001b[0m\u001b[48;5;15m    \u001b[0m\u001b[48;5;15m\u001b[38;5;12m██████████████████████\u001b[0m\u001b[48;5;15m\u001b[38;5;0m│\u001b[0m\n",
      "\u001b[48;5;15m\u001b[38;5;0m0.50┤\u001b[0m\u001b[48;5;15m\u001b[38;5;12m██████████████████████\u001b[0m\u001b[48;5;15m    \u001b[0m\u001b[48;5;15m\u001b[38;5;12m██████████████████████\u001b[0m\u001b[48;5;15m    \u001b[0m\u001b[48;5;15m\u001b[38;5;12m██████████████████████\u001b[0m\u001b[48;5;15m\u001b[38;5;0m│\u001b[0m\n",
      "\u001b[48;5;15m    \u001b[0m\u001b[48;5;15m\u001b[38;5;0m│\u001b[0m\u001b[48;5;15m\u001b[38;5;12m██████████████████████\u001b[0m\u001b[48;5;15m    \u001b[0m\u001b[48;5;15m\u001b[38;5;12m██████████████████████\u001b[0m\u001b[48;5;15m    \u001b[0m\u001b[48;5;15m\u001b[38;5;12m██████████████████████\u001b[0m\u001b[48;5;15m\u001b[38;5;0m│\u001b[0m\n",
      "\u001b[48;5;15m    \u001b[0m\u001b[48;5;15m\u001b[38;5;0m│\u001b[0m\u001b[48;5;15m\u001b[38;5;12m██████████████████████\u001b[0m\u001b[48;5;15m    \u001b[0m\u001b[48;5;15m\u001b[38;5;12m██████████████████████\u001b[0m\u001b[48;5;15m    \u001b[0m\u001b[48;5;15m\u001b[38;5;12m██████████████████████\u001b[0m\u001b[48;5;15m\u001b[38;5;0m│\u001b[0m\n",
      "\u001b[48;5;15m\u001b[38;5;0m0.00┤\u001b[0m\u001b[48;5;15m\u001b[38;5;12m██████████████████████\u001b[0m\u001b[48;5;15m    \u001b[0m\u001b[48;5;15m\u001b[38;5;12m██████████████████████\u001b[0m\u001b[48;5;15m    \u001b[0m\u001b[48;5;15m\u001b[38;5;12m██████████████████████\u001b[0m\u001b[48;5;15m\u001b[38;5;0m│\u001b[0m\n",
      "\u001b[48;5;15m    \u001b[0m\u001b[48;5;15m\u001b[38;5;0m└──────────┬──────────────────────────┬─────────────────────────┬──────────┘\u001b[0m\n",
      "\u001b[48;5;15m               \u001b[0m\u001b[48;5;15m\u001b[38;5;0mA\u001b[0m\u001b[48;5;15m                          \u001b[0m\u001b[48;5;15m\u001b[38;5;0mB\u001b[0m\u001b[48;5;15m                         \u001b[0m\u001b[48;5;15m\u001b[38;5;0mC\u001b[0m\u001b[48;5;15m           \u001b[0m\n",
      "\n"
     ]
    }
   ],
   "source": [
    "print(generate_bar_graph({\"A\": 1, \"B\": 2, \"C\": 3}, \"Bar Chart Example\"))"
   ]
  },
  {
   "cell_type": "code",
   "execution_count": 30,
   "metadata": {},
   "outputs": [
    {
     "name": "stdout",
     "output_type": "stream",
     "text": [
      "\u001b[48;5;15m                                 \u001b[0m\u001b[48;5;15m\u001b[38;5;0mLine Chart Example\u001b[0m\u001b[48;5;15m                             \u001b[0m\n",
      "\u001b[48;5;15m    \u001b[0m\u001b[48;5;15m\u001b[38;5;0m┌──────────────────────────────────────────────────────────────────────────┐\u001b[0m\n",
      "\u001b[48;5;15m\u001b[38;5;0m5.00┤\u001b[0m\u001b[48;5;15m                                                                       \u001b[0m\u001b[48;5;15m\u001b[38;5;12m▗▄▞\u001b[0m\u001b[48;5;15m\u001b[38;5;0m│\u001b[0m\n",
      "\u001b[48;5;15m    \u001b[0m\u001b[48;5;15m\u001b[38;5;0m│\u001b[0m\u001b[48;5;15m                                                                   \u001b[0m\u001b[48;5;15m\u001b[38;5;12m▗▄▞▀▘\u001b[0m\u001b[48;5;15m  \u001b[0m\u001b[48;5;15m\u001b[38;5;0m│\u001b[0m\n",
      "\u001b[48;5;15m    \u001b[0m\u001b[48;5;15m\u001b[38;5;0m│\u001b[0m\u001b[48;5;15m                                                               \u001b[0m\u001b[48;5;15m\u001b[38;5;12m▗▄▞▀▘\u001b[0m\u001b[48;5;15m      \u001b[0m\u001b[48;5;15m\u001b[38;5;0m│\u001b[0m\n",
      "\u001b[48;5;15m\u001b[38;5;0m4.33┤\u001b[0m\u001b[48;5;15m                                                           \u001b[0m\u001b[48;5;15m\u001b[38;5;12m▗▄▞▀▘\u001b[0m\u001b[48;5;15m          \u001b[0m\u001b[48;5;15m\u001b[38;5;0m│\u001b[0m\n",
      "\u001b[48;5;15m    \u001b[0m\u001b[48;5;15m\u001b[38;5;0m│\u001b[0m\u001b[48;5;15m                                                       \u001b[0m\u001b[48;5;15m\u001b[38;5;12m▄▄▞▀▘\u001b[0m\u001b[48;5;15m              \u001b[0m\u001b[48;5;15m\u001b[38;5;0m│\u001b[0m\n",
      "\u001b[48;5;15m    \u001b[0m\u001b[48;5;15m\u001b[38;5;0m│\u001b[0m\u001b[48;5;15m                                                  \u001b[0m\u001b[48;5;15m\u001b[38;5;12m▗▄▄▀▀\u001b[0m\u001b[48;5;15m                   \u001b[0m\u001b[48;5;15m\u001b[38;5;0m│\u001b[0m\n",
      "\u001b[48;5;15m\u001b[38;5;0m3.67┤\u001b[0m\u001b[48;5;15m                                              \u001b[0m\u001b[48;5;15m\u001b[38;5;12m▄▄▞▀▘\u001b[0m\u001b[48;5;15m                       \u001b[0m\u001b[48;5;15m\u001b[38;5;0m│\u001b[0m\n",
      "\u001b[48;5;15m    \u001b[0m\u001b[48;5;15m\u001b[38;5;0m│\u001b[0m\u001b[48;5;15m                                         \u001b[0m\u001b[48;5;15m\u001b[38;5;12m▗▄▄▀▀\u001b[0m\u001b[48;5;15m                            \u001b[0m\u001b[48;5;15m\u001b[38;5;0m│\u001b[0m\n",
      "\u001b[48;5;15m\u001b[38;5;0m3.00┤\u001b[0m\u001b[48;5;15m                                     \u001b[0m\u001b[48;5;15m\u001b[38;5;12m▄▄▞▀▘\u001b[0m\u001b[48;5;15m                                \u001b[0m\u001b[48;5;15m\u001b[38;5;0m│\u001b[0m\n",
      "\u001b[48;5;15m    \u001b[0m\u001b[48;5;15m\u001b[38;5;0m│\u001b[0m\u001b[48;5;15m                                 \u001b[0m\u001b[48;5;15m\u001b[38;5;12m▄▄▀▀\u001b[0m\u001b[48;5;15m                                     \u001b[0m\u001b[48;5;15m\u001b[38;5;0m│\u001b[0m\n",
      "\u001b[48;5;15m    \u001b[0m\u001b[48;5;15m\u001b[38;5;0m│\u001b[0m\u001b[48;5;15m                             \u001b[0m\u001b[48;5;15m\u001b[38;5;12m▄▄▀▀\u001b[0m\u001b[48;5;15m                                         \u001b[0m\u001b[48;5;15m\u001b[38;5;0m│\u001b[0m\n",
      "\u001b[48;5;15m\u001b[38;5;0m2.33┤\u001b[0m\u001b[48;5;15m                         \u001b[0m\u001b[48;5;15m\u001b[38;5;12m▄▄▀▀\u001b[0m\u001b[48;5;15m                                             \u001b[0m\u001b[48;5;15m\u001b[38;5;0m│\u001b[0m\n",
      "\u001b[48;5;15m    \u001b[0m\u001b[48;5;15m\u001b[38;5;0m│\u001b[0m\u001b[48;5;15m                     \u001b[0m\u001b[48;5;15m\u001b[38;5;12m▄▄▀▀\u001b[0m\u001b[48;5;15m                                                 \u001b[0m\u001b[48;5;15m\u001b[38;5;0m│\u001b[0m\n",
      "\u001b[48;5;15m    \u001b[0m\u001b[48;5;15m\u001b[38;5;0m│\u001b[0m\u001b[48;5;15m                \u001b[0m\u001b[48;5;15m\u001b[38;5;12m▗▄▞▀▀\u001b[0m\u001b[48;5;15m                                                     \u001b[0m\u001b[48;5;15m\u001b[38;5;0m│\u001b[0m\n",
      "\u001b[48;5;15m\u001b[38;5;0m1.67┤\u001b[0m\u001b[48;5;15m            \u001b[0m\u001b[48;5;15m\u001b[38;5;12m▗▄▞▀▘\u001b[0m\u001b[48;5;15m                                                         \u001b[0m\u001b[48;5;15m\u001b[38;5;0m│\u001b[0m\n",
      "\u001b[48;5;15m    \u001b[0m\u001b[48;5;15m\u001b[38;5;0m│\u001b[0m\u001b[48;5;15m        \u001b[0m\u001b[48;5;15m\u001b[38;5;12m▗▄▞▀▘\u001b[0m\u001b[48;5;15m                                                             \u001b[0m\u001b[48;5;15m\u001b[38;5;0m│\u001b[0m\n",
      "\u001b[48;5;15m    \u001b[0m\u001b[48;5;15m\u001b[38;5;0m│\u001b[0m\u001b[48;5;15m    \u001b[0m\u001b[48;5;15m\u001b[38;5;12m▗▄▞▀▘\u001b[0m\u001b[48;5;15m                                                                 \u001b[0m\u001b[48;5;15m\u001b[38;5;0m│\u001b[0m\n",
      "\u001b[48;5;15m\u001b[38;5;0m1.00┤\u001b[0m\u001b[48;5;15m\u001b[38;5;12m▄▄▞▀▘\u001b[0m\u001b[48;5;15m                                                                     \u001b[0m\u001b[48;5;15m\u001b[38;5;0m│\u001b[0m\n",
      "\u001b[48;5;15m    \u001b[0m\u001b[48;5;15m\u001b[38;5;0m└┬─────────────────┬──────────────────┬─────────────────┬─────────────────┬┘\u001b[0m\n",
      "\u001b[48;5;15m     \u001b[0m\u001b[48;5;15m\u001b[38;5;0m1\u001b[0m\u001b[48;5;15m                 \u001b[0m\u001b[48;5;15m\u001b[38;5;0m2\u001b[0m\u001b[48;5;15m                  \u001b[0m\u001b[48;5;15m\u001b[38;5;0m3\u001b[0m\u001b[48;5;15m                 \u001b[0m\u001b[48;5;15m\u001b[38;5;0m4\u001b[0m\u001b[48;5;15m                 \u001b[0m\u001b[48;5;15m\u001b[38;5;0m5\u001b[0m\u001b[48;5;15m \u001b[0m\n",
      "\n"
     ]
    }
   ],
   "source": [
    "print(generate_line_graph([1, 2, 3, 4, 5], [1, 2, 3, 4, 5], \"Line Chart Example\"))"
   ]
  },
  {
   "cell_type": "code",
   "execution_count": 31,
   "metadata": {},
   "outputs": [
    {
     "name": "stdout",
     "output_type": "stream",
     "text": [
      "\u001b[48;5;15m                                \u001b[0m\u001b[48;5;15m\u001b[38;5;0mScatter Plot Example\u001b[0m\u001b[48;5;15m                            \u001b[0m\n",
      "\u001b[48;5;15m    \u001b[0m\u001b[48;5;15m\u001b[38;5;0m┌──────────────────────────────────────────────────────────────────────────┐\u001b[0m\n",
      "\u001b[48;5;15m\u001b[38;5;0m5.00┤\u001b[0m\u001b[48;5;15m                                                                         \u001b[0m\u001b[48;5;15m\u001b[38;5;12m▝\u001b[0m\u001b[48;5;15m\u001b[38;5;0m│\u001b[0m\n",
      "\u001b[48;5;15m    \u001b[0m\u001b[48;5;15m\u001b[38;5;0m│\u001b[0m\u001b[48;5;15m                                                                          \u001b[0m\u001b[48;5;15m\u001b[38;5;0m│\u001b[0m\n",
      "\u001b[48;5;15m    \u001b[0m\u001b[48;5;15m\u001b[38;5;0m│\u001b[0m\u001b[48;5;15m                                                                          \u001b[0m\u001b[48;5;15m\u001b[38;5;0m│\u001b[0m\n",
      "\u001b[48;5;15m\u001b[38;5;0m4.33┤\u001b[0m\u001b[48;5;15m                                                                          \u001b[0m\u001b[48;5;15m\u001b[38;5;0m│\u001b[0m\n",
      "\u001b[48;5;15m    \u001b[0m\u001b[48;5;15m\u001b[38;5;0m│\u001b[0m\u001b[48;5;15m                                                       \u001b[0m\u001b[48;5;15m\u001b[38;5;12m▖\u001b[0m\u001b[48;5;15m                  \u001b[0m\u001b[48;5;15m\u001b[38;5;0m│\u001b[0m\n",
      "\u001b[48;5;15m    \u001b[0m\u001b[48;5;15m\u001b[38;5;0m│\u001b[0m\u001b[48;5;15m                                                                          \u001b[0m\u001b[48;5;15m\u001b[38;5;0m│\u001b[0m\n",
      "\u001b[48;5;15m\u001b[38;5;0m3.67┤\u001b[0m\u001b[48;5;15m                                                                          \u001b[0m\u001b[48;5;15m\u001b[38;5;0m│\u001b[0m\n",
      "\u001b[48;5;15m    \u001b[0m\u001b[48;5;15m\u001b[38;5;0m│\u001b[0m\u001b[48;5;15m                                                                          \u001b[0m\u001b[48;5;15m\u001b[38;5;0m│\u001b[0m\n",
      "\u001b[48;5;15m\u001b[38;5;0m3.00┤\u001b[0m\u001b[48;5;15m                                     \u001b[0m\u001b[48;5;15m\u001b[38;5;12m▖\u001b[0m\u001b[48;5;15m                                    \u001b[0m\u001b[48;5;15m\u001b[38;5;0m│\u001b[0m\n",
      "\u001b[48;5;15m    \u001b[0m\u001b[48;5;15m\u001b[38;5;0m│\u001b[0m\u001b[48;5;15m                                                                          \u001b[0m\u001b[48;5;15m\u001b[38;5;0m│\u001b[0m\n",
      "\u001b[48;5;15m    \u001b[0m\u001b[48;5;15m\u001b[38;5;0m│\u001b[0m\u001b[48;5;15m                                                                          \u001b[0m\u001b[48;5;15m\u001b[38;5;0m│\u001b[0m\n",
      "\u001b[48;5;15m\u001b[38;5;0m2.33┤\u001b[0m\u001b[48;5;15m                                                                          \u001b[0m\u001b[48;5;15m\u001b[38;5;0m│\u001b[0m\n",
      "\u001b[48;5;15m    \u001b[0m\u001b[48;5;15m\u001b[38;5;0m│\u001b[0m\u001b[48;5;15m                                                                          \u001b[0m\u001b[48;5;15m\u001b[38;5;0m│\u001b[0m\n",
      "\u001b[48;5;15m    \u001b[0m\u001b[48;5;15m\u001b[38;5;0m│\u001b[0m\u001b[48;5;15m                  \u001b[0m\u001b[48;5;15m\u001b[38;5;12m▝\u001b[0m\u001b[48;5;15m                                                       \u001b[0m\u001b[48;5;15m\u001b[38;5;0m│\u001b[0m\n",
      "\u001b[48;5;15m\u001b[38;5;0m1.67┤\u001b[0m\u001b[48;5;15m                                                                          \u001b[0m\u001b[48;5;15m\u001b[38;5;0m│\u001b[0m\n",
      "\u001b[48;5;15m    \u001b[0m\u001b[48;5;15m\u001b[38;5;0m│\u001b[0m\u001b[48;5;15m                                                                          \u001b[0m\u001b[48;5;15m\u001b[38;5;0m│\u001b[0m\n",
      "\u001b[48;5;15m    \u001b[0m\u001b[48;5;15m\u001b[38;5;0m│\u001b[0m\u001b[48;5;15m                                                                          \u001b[0m\u001b[48;5;15m\u001b[38;5;0m│\u001b[0m\n",
      "\u001b[48;5;15m\u001b[38;5;0m1.00┤\u001b[0m\u001b[48;5;15m\u001b[38;5;12m▖\u001b[0m\u001b[48;5;15m                                                                         \u001b[0m\u001b[48;5;15m\u001b[38;5;0m│\u001b[0m\n",
      "\u001b[48;5;15m    \u001b[0m\u001b[48;5;15m\u001b[38;5;0m└┬─────────────────┬──────────────────┬─────────────────┬─────────────────┬┘\u001b[0m\n",
      "\u001b[48;5;15m     \u001b[0m\u001b[48;5;15m\u001b[38;5;0m1\u001b[0m\u001b[48;5;15m                 \u001b[0m\u001b[48;5;15m\u001b[38;5;0m2\u001b[0m\u001b[48;5;15m                  \u001b[0m\u001b[48;5;15m\u001b[38;5;0m3\u001b[0m\u001b[48;5;15m                 \u001b[0m\u001b[48;5;15m\u001b[38;5;0m4\u001b[0m\u001b[48;5;15m                 \u001b[0m\u001b[48;5;15m\u001b[38;5;0m5\u001b[0m\u001b[48;5;15m \u001b[0m\n",
      "\n"
     ]
    }
   ],
   "source": [
    "print(generate_scatter_plot([1, 2, 3, 4, 5], [1, 2, 3, 4, 5], \"Scatter Plot Example\"))"
   ]
  },
  {
   "cell_type": "code",
   "execution_count": 32,
   "metadata": {},
   "outputs": [
    {
     "name": "stdout",
     "output_type": "stream",
     "text": [
      "\u001b[48;5;15m                                  \u001b[0m\u001b[48;5;15m\u001b[38;5;0mHistogram Example\u001b[0m\u001b[48;5;15m                             \u001b[0m\n",
      "\u001b[48;5;15m    \u001b[0m\u001b[48;5;15m\u001b[38;5;0m┌──────────────────────────────────────────────────────────────────────────┐\u001b[0m\n",
      "\u001b[48;5;15m\u001b[38;5;0m15.0┤\u001b[0m\u001b[48;5;15m                                     \u001b[0m\u001b[48;5;15m\u001b[38;5;12m███████\u001b[0m\u001b[48;5;15m                              \u001b[0m\u001b[48;5;15m\u001b[38;5;0m│\u001b[0m\n",
      "\u001b[48;5;15m    \u001b[0m\u001b[48;5;15m\u001b[38;5;0m│\u001b[0m\u001b[48;5;15m                                     \u001b[0m\u001b[48;5;15m\u001b[38;5;12m███████\u001b[0m\u001b[48;5;15m                              \u001b[0m\u001b[48;5;15m\u001b[38;5;0m│\u001b[0m\n",
      "\u001b[48;5;15m    \u001b[0m\u001b[48;5;15m\u001b[38;5;0m│\u001b[0m\u001b[48;5;15m                                     \u001b[0m\u001b[48;5;15m\u001b[38;5;12m███████\u001b[0m\u001b[48;5;15m \u001b[0m\u001b[48;5;15m\u001b[38;5;12m██████████████\u001b[0m\u001b[48;5;15m               \u001b[0m\u001b[48;5;15m\u001b[38;5;0m│\u001b[0m\n",
      "\u001b[48;5;15m\u001b[38;5;0m12.5┤\u001b[0m\u001b[48;5;15m                                     \u001b[0m\u001b[48;5;15m\u001b[38;5;12m███████\u001b[0m\u001b[48;5;15m \u001b[0m\u001b[48;5;15m\u001b[38;5;12m██████████████\u001b[0m\u001b[48;5;15m               \u001b[0m\u001b[48;5;15m\u001b[38;5;0m│\u001b[0m\n",
      "\u001b[48;5;15m    \u001b[0m\u001b[48;5;15m\u001b[38;5;0m│\u001b[0m\u001b[48;5;15m                                     \u001b[0m\u001b[48;5;15m\u001b[38;5;12m███████\u001b[0m\u001b[48;5;15m \u001b[0m\u001b[48;5;15m\u001b[38;5;12m██████████████\u001b[0m\u001b[48;5;15m               \u001b[0m\u001b[48;5;15m\u001b[38;5;0m│\u001b[0m\n",
      "\u001b[48;5;15m    \u001b[0m\u001b[48;5;15m\u001b[38;5;0m│\u001b[0m\u001b[48;5;15m                      \u001b[0m\u001b[48;5;15m\u001b[38;5;12m███████\u001b[0m\u001b[48;5;15m \u001b[0m\u001b[48;5;15m\u001b[38;5;12m██████████████\u001b[0m\u001b[48;5;15m \u001b[0m\u001b[48;5;15m\u001b[38;5;12m██████████████\u001b[0m\u001b[48;5;15m \u001b[0m\u001b[48;5;15m\u001b[38;5;12m███████\u001b[0m\u001b[48;5;15m       \u001b[0m\u001b[48;5;15m\u001b[38;5;0m│\u001b[0m\n",
      "\u001b[48;5;15m\u001b[38;5;0m10.0┤\u001b[0m\u001b[48;5;15m\u001b[38;5;12m███████\u001b[0m\u001b[48;5;15m               \u001b[0m\u001b[48;5;15m\u001b[38;5;12m███████\u001b[0m\u001b[48;5;15m \u001b[0m\u001b[48;5;15m\u001b[38;5;12m██████████████\u001b[0m\u001b[48;5;15m \u001b[0m\u001b[48;5;15m\u001b[38;5;12m██████████████\u001b[0m\u001b[48;5;15m \u001b[0m\u001b[48;5;15m\u001b[38;5;12m███████\u001b[0m\u001b[48;5;15m       \u001b[0m\u001b[48;5;15m\u001b[38;5;0m│\u001b[0m\n",
      "\u001b[48;5;15m    \u001b[0m\u001b[48;5;15m\u001b[38;5;0m│\u001b[0m\u001b[48;5;15m\u001b[38;5;12m███████\u001b[0m\u001b[48;5;15m               \u001b[0m\u001b[48;5;15m\u001b[38;5;12m███████\u001b[0m\u001b[48;5;15m \u001b[0m\u001b[48;5;15m\u001b[38;5;12m██████████████\u001b[0m\u001b[48;5;15m \u001b[0m\u001b[48;5;15m\u001b[38;5;12m██████████████\u001b[0m\u001b[48;5;15m \u001b[0m\u001b[48;5;15m\u001b[38;5;12m███████\u001b[0m\u001b[48;5;15m       \u001b[0m\u001b[48;5;15m\u001b[38;5;0m│\u001b[0m\n",
      "\u001b[48;5;15m\u001b[38;5;0m 7.5┤\u001b[0m\u001b[48;5;15m\u001b[38;5;12m███████\u001b[0m\u001b[48;5;15m               \u001b[0m\u001b[48;5;15m\u001b[38;5;12m███████\u001b[0m\u001b[48;5;15m \u001b[0m\u001b[48;5;15m\u001b[38;5;12m██████████████\u001b[0m\u001b[48;5;15m \u001b[0m\u001b[48;5;15m\u001b[38;5;12m██████████████\u001b[0m\u001b[48;5;15m \u001b[0m\u001b[48;5;15m\u001b[38;5;12m███████\u001b[0m\u001b[48;5;15m       \u001b[0m\u001b[48;5;15m\u001b[38;5;0m│\u001b[0m\n",
      "\u001b[48;5;15m    \u001b[0m\u001b[48;5;15m\u001b[38;5;0m│\u001b[0m\u001b[48;5;15m\u001b[38;5;12m███████\u001b[0m\u001b[48;5;15m               \u001b[0m\u001b[48;5;15m\u001b[38;5;12m███████\u001b[0m\u001b[48;5;15m \u001b[0m\u001b[48;5;15m\u001b[38;5;12m██████████████\u001b[0m\u001b[48;5;15m \u001b[0m\u001b[48;5;15m\u001b[38;5;12m██████████████\u001b[0m\u001b[48;5;15m \u001b[0m\u001b[48;5;15m\u001b[38;5;12m███████\u001b[0m\u001b[48;5;15m       \u001b[0m\u001b[48;5;15m\u001b[38;5;0m│\u001b[0m\n",
      "\u001b[48;5;15m    \u001b[0m\u001b[48;5;15m\u001b[38;5;0m│\u001b[0m\u001b[48;5;15m\u001b[38;5;12m██████████████\u001b[0m\u001b[48;5;15m        \u001b[0m\u001b[48;5;15m\u001b[38;5;12m███████\u001b[0m\u001b[48;5;15m \u001b[0m\u001b[48;5;15m\u001b[38;5;12m██████████████\u001b[0m\u001b[48;5;15m \u001b[0m\u001b[48;5;15m\u001b[38;5;12m██████████████\u001b[0m\u001b[48;5;15m \u001b[0m\u001b[48;5;15m\u001b[38;5;12m██████████████\u001b[0m\u001b[48;5;15m\u001b[38;5;0m│\u001b[0m\n",
      "\u001b[48;5;15m\u001b[38;5;0m 5.0┤\u001b[0m\u001b[48;5;15m\u001b[38;5;12m██████████████\u001b[0m\u001b[48;5;15m        \u001b[0m\u001b[48;5;15m\u001b[38;5;12m███████\u001b[0m\u001b[48;5;15m \u001b[0m\u001b[48;5;15m\u001b[38;5;12m██████████████\u001b[0m\u001b[48;5;15m \u001b[0m\u001b[48;5;15m\u001b[38;5;12m██████████████\u001b[0m\u001b[48;5;15m \u001b[0m\u001b[48;5;15m\u001b[38;5;12m██████████████\u001b[0m\u001b[48;5;15m\u001b[38;5;0m│\u001b[0m\n",
      "\u001b[48;5;15m    \u001b[0m\u001b[48;5;15m\u001b[38;5;0m│\u001b[0m\u001b[48;5;15m\u001b[38;5;12m██████████████\u001b[0m\u001b[48;5;15m \u001b[0m\u001b[48;5;15m\u001b[38;5;12m██████████████\u001b[0m\u001b[48;5;15m \u001b[0m\u001b[48;5;15m\u001b[38;5;12m██████████████\u001b[0m\u001b[48;5;15m \u001b[0m\u001b[48;5;15m\u001b[38;5;12m██████████████\u001b[0m\u001b[48;5;15m \u001b[0m\u001b[48;5;15m\u001b[38;5;12m██████████████\u001b[0m\u001b[48;5;15m\u001b[38;5;0m│\u001b[0m\n",
      "\u001b[48;5;15m    \u001b[0m\u001b[48;5;15m\u001b[38;5;0m│\u001b[0m\u001b[48;5;15m\u001b[38;5;12m██████████████\u001b[0m\u001b[48;5;15m \u001b[0m\u001b[48;5;15m\u001b[38;5;12m██████████████\u001b[0m\u001b[48;5;15m \u001b[0m\u001b[48;5;15m\u001b[38;5;12m██████████████\u001b[0m\u001b[48;5;15m \u001b[0m\u001b[48;5;15m\u001b[38;5;12m██████████████\u001b[0m\u001b[48;5;15m \u001b[0m\u001b[48;5;15m\u001b[38;5;12m██████████████\u001b[0m\u001b[48;5;15m\u001b[38;5;0m│\u001b[0m\n",
      "\u001b[48;5;15m\u001b[38;5;0m 2.5┤\u001b[0m\u001b[48;5;15m\u001b[38;5;12m██████████████\u001b[0m\u001b[48;5;15m \u001b[0m\u001b[48;5;15m\u001b[38;5;12m██████████████\u001b[0m\u001b[48;5;15m \u001b[0m\u001b[48;5;15m\u001b[38;5;12m██████████████\u001b[0m\u001b[48;5;15m \u001b[0m\u001b[48;5;15m\u001b[38;5;12m██████████████\u001b[0m\u001b[48;5;15m \u001b[0m\u001b[48;5;15m\u001b[38;5;12m██████████████\u001b[0m\u001b[48;5;15m\u001b[38;5;0m│\u001b[0m\n",
      "\u001b[48;5;15m    \u001b[0m\u001b[48;5;15m\u001b[38;5;0m│\u001b[0m\u001b[48;5;15m\u001b[38;5;12m██████████████\u001b[0m\u001b[48;5;15m \u001b[0m\u001b[48;5;15m\u001b[38;5;12m██████████████\u001b[0m\u001b[48;5;15m \u001b[0m\u001b[48;5;15m\u001b[38;5;12m██████████████\u001b[0m\u001b[48;5;15m \u001b[0m\u001b[48;5;15m\u001b[38;5;12m██████████████\u001b[0m\u001b[48;5;15m \u001b[0m\u001b[48;5;15m\u001b[38;5;12m██████████████\u001b[0m\u001b[48;5;15m\u001b[38;5;0m│\u001b[0m\n",
      "\u001b[48;5;15m    \u001b[0m\u001b[48;5;15m\u001b[38;5;0m│\u001b[0m\u001b[48;5;15m\u001b[38;5;12m██████████████\u001b[0m\u001b[48;5;15m \u001b[0m\u001b[48;5;15m\u001b[38;5;12m██████████████\u001b[0m\u001b[48;5;15m \u001b[0m\u001b[48;5;15m\u001b[38;5;12m██████████████\u001b[0m\u001b[48;5;15m \u001b[0m\u001b[48;5;15m\u001b[38;5;12m██████████████\u001b[0m\u001b[48;5;15m \u001b[0m\u001b[48;5;15m\u001b[38;5;12m██████████████\u001b[0m\u001b[48;5;15m\u001b[38;5;0m│\u001b[0m\n",
      "\u001b[48;5;15m\u001b[38;5;0m 0.0┤\u001b[0m\u001b[48;5;15m\u001b[38;5;12m██████████████\u001b[0m\u001b[48;5;15m \u001b[0m\u001b[48;5;15m\u001b[38;5;12m██████████████\u001b[0m\u001b[48;5;15m \u001b[0m\u001b[48;5;15m\u001b[38;5;12m██████████████\u001b[0m\u001b[48;5;15m \u001b[0m\u001b[48;5;15m\u001b[38;5;12m██████████████\u001b[0m\u001b[48;5;15m \u001b[0m\u001b[48;5;15m\u001b[38;5;12m██████████████\u001b[0m\u001b[48;5;15m\u001b[38;5;0m│\u001b[0m\n",
      "\u001b[48;5;15m    \u001b[0m\u001b[48;5;15m\u001b[38;5;0m└┬─────────────────┬──────────────────┬─────────────────┬─────────────────┬┘\u001b[0m\n",
      "\u001b[48;5;15m   \u001b[0m\u001b[48;5;15m\u001b[38;5;0m-3.3\u001b[0m\u001b[48;5;15m              \u001b[0m\u001b[48;5;15m\u001b[38;5;0m22.9\u001b[0m\u001b[48;5;15m               \u001b[0m\u001b[48;5;15m\u001b[38;5;0m49.0\u001b[0m\u001b[48;5;15m              \u001b[0m\u001b[48;5;15m\u001b[38;5;0m75.1\u001b[0m\u001b[48;5;15m            \u001b[0m\u001b[48;5;15m\u001b[38;5;0m101.3\u001b[0m\u001b[48;5;15m \u001b[0m\n",
      "\n"
     ]
    }
   ],
   "source": [
    "print(generate_histogram(numpy.random.randint(1, 100, 100), \"Histogram Example\"))"
   ]
  },
  {
   "cell_type": "code",
   "execution_count": 8,
   "metadata": {},
   "outputs": [
    {
     "name": "stdout",
     "output_type": "stream",
     "text": [
      "\u001b[48;5;15m                          \u001b[0m\u001b[48;5;15m\u001b[38;5;0mHorizontal Bar Chart Example\u001b[0m\u001b[48;5;15m                          \u001b[0m\n",
      "\u001b[48;5;15m \u001b[0m\u001b[48;5;15m\u001b[38;5;0m┌─────────────────────────────────────────────────────────────────────────────┐\u001b[0m\n",
      "\u001b[48;5;15m \u001b[0m\u001b[48;5;15m\u001b[38;5;0m│\u001b[0m\u001b[48;5;15m\u001b[38;5;12m█████████████████████████████████████████████████████████████████████████████\u001b[0m\u001b[48;5;15m\u001b[38;5;0m│\u001b[0m\n",
      "\u001b[48;5;15m \u001b[0m\u001b[48;5;15m\u001b[38;5;0m│\u001b[0m\u001b[48;5;15m\u001b[38;5;12m█████████████████████████████████████████████████████████████████████████████\u001b[0m\u001b[48;5;15m\u001b[38;5;0m│\u001b[0m\n",
      "\u001b[48;5;15m\u001b[38;5;0mC┤\u001b[0m\u001b[48;5;15m\u001b[38;5;12m█████████████████████████████████████████████████████████████████████████████\u001b[0m\u001b[48;5;15m\u001b[38;5;0m│\u001b[0m\n",
      "\u001b[48;5;15m \u001b[0m\u001b[48;5;15m\u001b[38;5;0m│\u001b[0m\u001b[48;5;15m\u001b[38;5;12m█████████████████████████████████████████████████████████████████████████████\u001b[0m\u001b[48;5;15m\u001b[38;5;0m│\u001b[0m\n",
      "\u001b[48;5;15m \u001b[0m\u001b[48;5;15m\u001b[38;5;0m│\u001b[0m\u001b[48;5;15m                                                                             \u001b[0m\u001b[48;5;15m\u001b[38;5;0m│\u001b[0m\n",
      "\u001b[48;5;15m \u001b[0m\u001b[48;5;15m\u001b[38;5;0m│\u001b[0m\u001b[48;5;15m                                                                             \u001b[0m\u001b[48;5;15m\u001b[38;5;0m│\u001b[0m\n",
      "\u001b[48;5;15m \u001b[0m\u001b[48;5;15m\u001b[38;5;0m│\u001b[0m\u001b[48;5;15m                                                                             \u001b[0m\u001b[48;5;15m\u001b[38;5;0m│\u001b[0m\n",
      "\u001b[48;5;15m \u001b[0m\u001b[48;5;15m\u001b[38;5;0m│\u001b[0m\u001b[48;5;15m\u001b[38;5;12m████████████████████████████████████████████████████\u001b[0m\u001b[48;5;15m                         \u001b[0m\u001b[48;5;15m\u001b[38;5;0m│\u001b[0m\n",
      "\u001b[48;5;15m\u001b[38;5;0mB┤\u001b[0m\u001b[48;5;15m\u001b[38;5;12m████████████████████████████████████████████████████\u001b[0m\u001b[48;5;15m                         \u001b[0m\u001b[48;5;15m\u001b[38;5;0m│\u001b[0m\n",
      "\u001b[48;5;15m \u001b[0m\u001b[48;5;15m\u001b[38;5;0m│\u001b[0m\u001b[48;5;15m\u001b[38;5;12m████████████████████████████████████████████████████\u001b[0m\u001b[48;5;15m                         \u001b[0m\u001b[48;5;15m\u001b[38;5;0m│\u001b[0m\n",
      "\u001b[48;5;15m \u001b[0m\u001b[48;5;15m\u001b[38;5;0m│\u001b[0m\u001b[48;5;15m\u001b[38;5;12m████████████████████████████████████████████████████\u001b[0m\u001b[48;5;15m                         \u001b[0m\u001b[48;5;15m\u001b[38;5;0m│\u001b[0m\n",
      "\u001b[48;5;15m \u001b[0m\u001b[48;5;15m\u001b[38;5;0m│\u001b[0m\u001b[48;5;15m                                                                             \u001b[0m\u001b[48;5;15m\u001b[38;5;0m│\u001b[0m\n",
      "\u001b[48;5;15m \u001b[0m\u001b[48;5;15m\u001b[38;5;0m│\u001b[0m\u001b[48;5;15m                                                                             \u001b[0m\u001b[48;5;15m\u001b[38;5;0m│\u001b[0m\n",
      "\u001b[48;5;15m \u001b[0m\u001b[48;5;15m\u001b[38;5;0m│\u001b[0m\u001b[48;5;15m                                                                             \u001b[0m\u001b[48;5;15m\u001b[38;5;0m│\u001b[0m\n",
      "\u001b[48;5;15m \u001b[0m\u001b[48;5;15m\u001b[38;5;0m│\u001b[0m\u001b[48;5;15m\u001b[38;5;12m██████████████████████████\u001b[0m\u001b[48;5;15m                                                   \u001b[0m\u001b[48;5;15m\u001b[38;5;0m│\u001b[0m\n",
      "\u001b[48;5;15m\u001b[38;5;0mA┤\u001b[0m\u001b[48;5;15m\u001b[38;5;12m██████████████████████████\u001b[0m\u001b[48;5;15m                                                   \u001b[0m\u001b[48;5;15m\u001b[38;5;0m│\u001b[0m\n",
      "\u001b[48;5;15m \u001b[0m\u001b[48;5;15m\u001b[38;5;0m│\u001b[0m\u001b[48;5;15m\u001b[38;5;12m██████████████████████████\u001b[0m\u001b[48;5;15m                                                   \u001b[0m\u001b[48;5;15m\u001b[38;5;0m│\u001b[0m\n",
      "\u001b[48;5;15m \u001b[0m\u001b[48;5;15m\u001b[38;5;0m│\u001b[0m\u001b[48;5;15m\u001b[38;5;12m██████████████████████████\u001b[0m\u001b[48;5;15m                                                   \u001b[0m\u001b[48;5;15m\u001b[38;5;0m│\u001b[0m\n",
      "\u001b[48;5;15m \u001b[0m\u001b[48;5;15m\u001b[38;5;0m└┬──────────────────┬──────────────────┬──────────────────┬──────────────────┬┘\u001b[0m\n",
      "\u001b[48;5;15m \u001b[0m\u001b[48;5;15m\u001b[38;5;0m0.00\u001b[0m\u001b[48;5;15m              \u001b[0m\u001b[48;5;15m\u001b[38;5;0m0.75\u001b[0m\u001b[48;5;15m               \u001b[0m\u001b[48;5;15m\u001b[38;5;0m1.50\u001b[0m\u001b[48;5;15m               \u001b[0m\u001b[48;5;15m\u001b[38;5;0m2.25\u001b[0m\u001b[48;5;15m              \u001b[0m\u001b[48;5;15m\u001b[38;5;0m3.00\u001b[0m\u001b[48;5;15m \u001b[0m\n",
      "\n"
     ]
    }
   ],
   "source": [
    "print(generate_horizontal_bar_graph({\"A\": 1, \"B\": 2, \"C\": 3}, \"Horizontal Bar Chart Example\"))"
   ]
  },
  {
   "cell_type": "code",
   "execution_count": 9,
   "metadata": {},
   "outputs": [
    {
     "name": "stdout",
     "output_type": "stream",
     "text": [
      "\u001b[48;5;15m                             \u001b[0m\u001b[48;5;15m\u001b[38;5;0mMultiple Line Chart Example\u001b[0m\u001b[48;5;15m                        \u001b[0m\n",
      "\u001b[48;5;15m    \u001b[0m\u001b[48;5;15m\u001b[38;5;0m┌──────────────────────────────────────────────────────────────────────────┐\u001b[0m\n",
      "\u001b[48;5;15m\u001b[38;5;0m10.0┤\u001b[0m\u001b[48;5;15m \u001b[0m\u001b[48;5;15m\u001b[38;5;12m▞▞\u001b[0m\u001b[48;5;15m\u001b[38;5;0m A \u001b[0m\u001b[48;5;15m                                                                   \u001b[0m\u001b[48;5;15m\u001b[38;5;10m▞\u001b[0m\u001b[48;5;15m\u001b[38;5;0m│\u001b[0m\n",
      "\u001b[48;5;15m    \u001b[0m\u001b[48;5;15m\u001b[38;5;0m│\u001b[0m\u001b[48;5;15m \u001b[0m\u001b[48;5;15m\u001b[38;5;10m▞▞\u001b[0m\u001b[48;5;15m\u001b[38;5;0m B \u001b[0m\u001b[48;5;15m                                                                 \u001b[0m\u001b[48;5;15m\u001b[38;5;10m▗▀\u001b[0m\u001b[48;5;15m \u001b[0m\u001b[48;5;15m\u001b[38;5;0m│\u001b[0m\n",
      "\u001b[48;5;15m    \u001b[0m\u001b[48;5;15m\u001b[38;5;0m│\u001b[0m\u001b[48;5;15m                                \u001b[0m\u001b[48;5;15m\u001b[38;5;10m▗▄▄▄▄▚\u001b[0m\u001b[48;5;15m                               \u001b[0m\u001b[48;5;15m\u001b[38;5;10m▗▞▘\u001b[0m\u001b[48;5;15m  \u001b[0m\u001b[48;5;15m\u001b[38;5;0m│\u001b[0m\n",
      "\u001b[48;5;15m\u001b[38;5;0m 8.5┤\u001b[0m\u001b[48;5;15m                       \u001b[0m\u001b[48;5;15m\u001b[38;5;10m▗▄▄▄▄▀▀▀▀▘\u001b[0m\u001b[48;5;15m     \u001b[0m\u001b[48;5;15m\u001b[38;5;10m▀▄\u001b[0m\u001b[48;5;15m                            \u001b[0m\u001b[48;5;15m\u001b[38;5;10m▄▘\u001b[0m\u001b[48;5;15m    \u001b[0m\u001b[48;5;15m\u001b[38;5;0m│\u001b[0m\n",
      "\u001b[48;5;15m    \u001b[0m\u001b[48;5;15m\u001b[38;5;0m│\u001b[0m\u001b[48;5;15m              \u001b[0m\u001b[48;5;15m\u001b[38;5;10m▄▄▄▄▞▀▀▀▀▘\u001b[0m\u001b[48;5;15m                \u001b[0m\u001b[48;5;15m\u001b[38;5;10m▀▄\u001b[0m\u001b[48;5;15m                        \u001b[0m\u001b[48;5;15m\u001b[38;5;10m▗▞\u001b[0m\u001b[48;5;15m      \u001b[0m\u001b[48;5;15m\u001b[38;5;0m│\u001b[0m\n",
      "\u001b[48;5;15m    \u001b[0m\u001b[48;5;15m\u001b[38;5;0m│\u001b[0m\u001b[48;5;15m     \u001b[0m\u001b[48;5;15m\u001b[38;5;10m▄▄▄▄▞▀▀▀▀\u001b[0m\u001b[48;5;15m                            \u001b[0m\u001b[48;5;15m\u001b[38;5;10m▀▄\u001b[0m\u001b[48;5;15m                     \u001b[0m\u001b[48;5;15m\u001b[38;5;10m▞▘\u001b[0m\u001b[48;5;15m       \u001b[0m\u001b[48;5;15m\u001b[38;5;0m│\u001b[0m\n",
      "\u001b[48;5;15m\u001b[38;5;0m 7.0┤\u001b[0m\u001b[48;5;15m\u001b[38;5;10m▀▀▀▀▀\u001b[0m\u001b[48;5;15m                                       \u001b[0m\u001b[48;5;15m\u001b[38;5;10m▀▄\u001b[0m\u001b[48;5;15m                 \u001b[0m\u001b[48;5;15m\u001b[38;5;10m▗▀\u001b[0m\u001b[48;5;15m         \u001b[0m\u001b[48;5;15m\u001b[38;5;0m│\u001b[0m\n",
      "\u001b[48;5;15m    \u001b[0m\u001b[48;5;15m\u001b[38;5;0m│\u001b[0m\u001b[48;5;15m                                              \u001b[0m\u001b[48;5;15m\u001b[38;5;10m▚▖\u001b[0m\u001b[48;5;15m             \u001b[0m\u001b[48;5;15m\u001b[38;5;10m▗▞▘\u001b[0m\u001b[48;5;15m          \u001b[0m\u001b[48;5;15m\u001b[38;5;0m│\u001b[0m\n",
      "\u001b[48;5;15m\u001b[38;5;0m 5.5┤\u001b[0m\u001b[48;5;15m                                               \u001b[0m\u001b[48;5;15m\u001b[38;5;10m▝▚▖\u001b[0m\u001b[48;5;15m          \u001b[0m\u001b[48;5;15m\u001b[38;5;10m▄▘\u001b[0m\u001b[48;5;15m            \u001b[0m\u001b[48;5;15m\u001b[38;5;0m│\u001b[0m\n",
      "\u001b[48;5;15m    \u001b[0m\u001b[48;5;15m\u001b[38;5;0m│\u001b[0m\u001b[48;5;15m                                                 \u001b[0m\u001b[48;5;15m\u001b[38;5;10m▝▚▖\u001b[0m\u001b[48;5;15m      \u001b[0m\u001b[48;5;15m\u001b[38;5;10m▗▞\u001b[0m\u001b[48;5;15m             \u001b[0m\u001b[48;5;15m\u001b[38;5;12m▗\u001b[0m\u001b[48;5;15m\u001b[38;5;0m│\u001b[0m\n",
      "\u001b[48;5;15m    \u001b[0m\u001b[48;5;15m\u001b[38;5;0m│\u001b[0m\u001b[48;5;15m                                                   \u001b[0m\u001b[48;5;15m\u001b[38;5;10m▝▚▖\u001b[0m\u001b[48;5;15m   \u001b[0m\u001b[48;5;15m\u001b[38;5;10m▞▘\u001b[0m\u001b[48;5;15m     \u001b[0m\u001b[48;5;15m\u001b[38;5;12m▗▄▄▄▄▀▀▀▀▘\u001b[0m\u001b[48;5;15m\u001b[38;5;0m│\u001b[0m\n",
      "\u001b[48;5;15m\u001b[38;5;0m 4.0┤\u001b[0m\u001b[48;5;15m                                                     \u001b[0m\u001b[48;5;15m\u001b[38;5;10m▝▚▄▀\u001b[0m\u001b[48;5;15m\u001b[38;5;12m▄▄▄▀▀▀▀▘\u001b[0m\u001b[48;5;15m         \u001b[0m\u001b[48;5;15m\u001b[38;5;0m│\u001b[0m\n",
      "\u001b[48;5;15m    \u001b[0m\u001b[48;5;15m\u001b[38;5;0m│\u001b[0m\u001b[48;5;15m                                              \u001b[0m\u001b[48;5;15m\u001b[38;5;12m▄▄▄▄▞▀▀▀▀\u001b[0m\u001b[48;5;15m                   \u001b[0m\u001b[48;5;15m\u001b[38;5;0m│\u001b[0m\n",
      "\u001b[48;5;15m    \u001b[0m\u001b[48;5;15m\u001b[38;5;0m│\u001b[0m\u001b[48;5;15m                                     \u001b[0m\u001b[48;5;15m\u001b[38;5;12m▄▄▄▄▞▀▀▀▀\u001b[0m\u001b[48;5;15m                            \u001b[0m\u001b[48;5;15m\u001b[38;5;0m│\u001b[0m\n",
      "\u001b[48;5;15m\u001b[38;5;0m 2.5┤\u001b[0m\u001b[48;5;15m                            \u001b[0m\u001b[48;5;15m\u001b[38;5;12m▄▄▄▄▞▀▀▀▀\u001b[0m\u001b[48;5;15m                                     \u001b[0m\u001b[48;5;15m\u001b[38;5;0m│\u001b[0m\n",
      "\u001b[48;5;15m    \u001b[0m\u001b[48;5;15m\u001b[38;5;0m│\u001b[0m\u001b[48;5;15m                  \u001b[0m\u001b[48;5;15m\u001b[38;5;12m▗▄▄▄▄▞▀▀▀▀\u001b[0m\u001b[48;5;15m                                              \u001b[0m\u001b[48;5;15m\u001b[38;5;0m│\u001b[0m\n",
      "\u001b[48;5;15m    \u001b[0m\u001b[48;5;15m\u001b[38;5;0m│\u001b[0m\u001b[48;5;15m         \u001b[0m\u001b[48;5;15m\u001b[38;5;12m▗▄▄▄▄▀▀▀▀▘\u001b[0m\u001b[48;5;15m                                                       \u001b[0m\u001b[48;5;15m\u001b[38;5;0m│\u001b[0m\n",
      "\u001b[48;5;15m\u001b[38;5;0m 1.0┤\u001b[0m\u001b[48;5;15m\u001b[38;5;12m▄▄▄▄▄▀▀▀▀▘\u001b[0m\u001b[48;5;15m                                                                \u001b[0m\u001b[48;5;15m\u001b[38;5;0m│\u001b[0m\n",
      "\u001b[48;5;15m    \u001b[0m\u001b[48;5;15m\u001b[38;5;0m└┬─────────────────┬──────────────────┬─────────────────┬─────────────────┬┘\u001b[0m\n",
      "\u001b[48;5;15m     \u001b[0m\u001b[48;5;15m\u001b[38;5;0m1\u001b[0m\u001b[48;5;15m                 \u001b[0m\u001b[48;5;15m\u001b[38;5;0m2\u001b[0m\u001b[48;5;15m                  \u001b[0m\u001b[48;5;15m\u001b[38;5;0m3\u001b[0m\u001b[48;5;15m                 \u001b[0m\u001b[48;5;15m\u001b[38;5;0m4\u001b[0m\u001b[48;5;15m                 \u001b[0m\u001b[48;5;15m\u001b[38;5;0m5\u001b[0m\u001b[48;5;15m \u001b[0m\n",
      "\n"
     ]
    }
   ],
   "source": [
    "data = {\"A\": ([1, 2, 3, 4, 5], [1, 2, 3, 4, 5]), \"B\": ([1, 2, 3, 4, 5], [7, 8, 9, 4, 10])}\n",
    "print(generate_multiple_line_graphs(data, \"Multiple Line Chart Example\"))"
   ]
  },
  {
   "cell_type": "markdown",
   "metadata": {},
   "source": [
    "## Utilities"
   ]
  },
  {
   "cell_type": "code",
   "execution_count": null,
   "metadata": {},
   "outputs": [],
   "source": [
    "def get_last_message(state) -> BaseMessage:\n",
    "    \"\"\"Get the last message from a list of messages.\"\"\"\n",
    "    return state[\"messages\"][-1]\n",
    "\n",
    "\n",
    "def get_messages_by_role(messages: list[BaseMessage], role: Literal[\"human\", \"assistant\", \"system\"]) -> list[BaseMessage]:\n",
    "    \"\"\"Get messages by role from a list of messages.\"\"\"\n",
    "    return [msg for msg in messages if msg.type == role]\n",
    "\n",
    "\n",
    "def build_llm():\n",
    "    \"\"\"Build an LLM with a custom model name.\"\"\"\n",
    "    return ChatOpenAI(model=\"gpt-4.1\", temperature=0)\n",
    "\n",
    "# Define the state type\n",
    "class AgentState(TypedDict):\n",
    "    messages: Annotated[Sequence[BaseMessage], add_messages]\n"
   ]
  },
  {
   "cell_type": "markdown",
   "metadata": {},
   "source": [
    "## Search Agent"
   ]
  },
  {
   "cell_type": "code",
   "execution_count": 34,
   "metadata": {},
   "outputs": [
    {
     "data": {
      "image/png": "[encoded data removed]",
      "text/plain": [
       "<IPython.core.display.Image object>"
      ]
     },
     "metadata": {},
     "output_type": "display_data"
    }
   ],
   "source": [
    "llm = build_llm()\n",
    "\n",
    "researcher_prompt = ChatPromptTemplate.from_messages([\n",
    "    (\"system\", \"You are a researcher. Given the conversation below, dig up relevant facts or decide which tool to call.\"),\n",
    "    MessagesPlaceholder(variable_name=\"messages\"),\n",
    "    (\"system\", \"If you choose to call a tool, do so; otherwise, provide your findings in plain text.\"),\n",
    "])\n",
    "\n",
    "# Initialize tools\n",
    "tavily_tool = TavilySearchResults()\n",
    "tools = [tavily_tool]\n",
    "tool_node = ToolNode(tools)\n",
    "\n",
    "def call_model(state: AgentState) -> AgentState:\n",
    "    \"\"\"Call the model with the current state.\"\"\"\n",
    "    messages = state[\"messages\"]\n",
    "    prompt_messages = researcher_prompt.format_messages(messages=messages)\n",
    "    result = llm.bind_tools(tools).invoke(prompt_messages)\n",
    "    return {\"messages\": [result]}\n",
    "\n",
    "def should_continue(state: AgentState):\n",
    "    messages = state[\"messages\"]\n",
    "    ai_message = messages[-1]\n",
    "    # Check if it's an AI message with tool calls\n",
    "    if hasattr(ai_message, \"tool_calls\") and len(ai_message.tool_calls) > 0:\n",
    "        return \"tools\"\n",
    "    return END\n",
    "\n",
    "# Create the graph\n",
    "researcher_graph = (\n",
    "    StateGraph(AgentState)\n",
    "    .add_node(\"agent\", call_model)\n",
    "    .add_node(\"tools\", tool_node)\n",
    "    .add_edge(START, \"agent\")\n",
    "    .add_edge(\"tools\", \"agent\")\n",
    "    .add_conditional_edges(\n",
    "        \"agent\",\n",
    "        should_continue,\n",
    "        {\n",
    "            \"tools\": \"tools\",\n",
    "            END: END,\n",
    "        }\n",
    "    )\n",
    ")\n",
    "\n",
    "# Compile the graph\n",
    "researcher_agent = researcher_graph.compile()\n",
    "\n",
    "display(Image(researcher_agent.get_graph().draw_mermaid_png()))"
   ]
  },
  {
   "cell_type": "code",
   "execution_count": 35,
   "metadata": {},
   "outputs": [
    {
     "name": "stdout",
     "output_type": "stream",
     "text": [
      "Abraham Lincoln was the 16th president of the United States, serving from 1861 until his assassination in 1865. He led the United States through the American Civil War and is often hailed as a martyr and a national hero for his wartime leadership and for his efforts to preserve the Union and abolish slavery. He is often ranked in both popular and scholarly polls as the greatest president in American history. [source](https://en.wikipedia.org/wiki/Abraham_Lincoln)\n"
     ]
    }
   ],
   "source": [
    "result = researcher_agent.invoke({\n",
    "    \"messages\": [\n",
    "        HumanMessage(content=\"Who was Abraham Lincoln?\")\n",
    "    ]\n",
    "})\n",
    "\n",
    "print(result['messages'][-1].content)"
   ]
  },
  {
   "cell_type": "markdown",
   "metadata": {},
   "source": [
    "## Graph Generation Agent"
   ]
  },
  {
   "cell_type": "code",
   "execution_count": 36,
   "metadata": {},
   "outputs": [
    {
     "data": {
      "image/png": "[encoded data removed]",
      "text/plain": [
       "<IPython.core.display.Image object>"
      ]
     },
     "metadata": {},
     "output_type": "display_data"
    }
   ],
   "source": [
    "# Define tool schema\n",
    "class BarChartInput(BaseModel):\n",
    "    \"\"\"Input schema for the bar chart generator.\"\"\"\n",
    "    data: Dict[str, float] = Field(..., description=\"Dictionary where keys are labels and values are numeric values to plot\")\n",
    "    title: str = Field(default=\"Bar Chart\", description=\"Title of the chart\")\n",
    "    \n",
    "# Create the tool\n",
    "@tool(args_schema=BarChartInput)\n",
    "def generate_bar_chart(data: Dict[str, float], title: str) -> str:\n",
    "    \"\"\"Generate a bar chart from data points and display it.\n",
    "    \n",
    "    Parameters\n",
    "    ----------\n",
    "        data: Dict[str, float]\n",
    "            Dictionary where keys are labels and values are numeric values to plot\n",
    "        title: str\n",
    "            Title of the chart (optional, defaults to \"Bar Chart\")\n",
    "        \n",
    "    Returns:\n",
    "        plot as string\n",
    "        \n",
    "    Example:\n",
    "        input = BarChartInput(\n",
    "            data={\"A\": 10, \"B\": 20, \"C\": 15},\n",
    "            title=\"Sample Chart\"\n",
    "        )\n",
    "    \"\"\"\n",
    "\n",
    "    print(data)\n",
    "    cats = list(data.keys())\n",
    "    vals = list(data.values())\n",
    "    plotext.clear_figure()\n",
    "    plotext.bar(cats, vals)\n",
    "    plotext.title(title)\n",
    "    \n",
    "    return plotext.build()\n",
    "\n",
    "bar_chart_prompt = ChatPromptTemplate.from_messages([\n",
    "    (\"system\", \"You are a chart generator. You may use the generate_bar_chart tool to generate a chart.\"),\n",
    "    MessagesPlaceholder(variable_name=\"messages\"),\n",
    "    (\"system\", \"If you choose to call a tool, do so; otherwise, provide your findings in plain text.\"),\n",
    "])\n",
    "\n",
    "\n",
    "llm = build_llm()\n",
    "tools = [generate_bar_chart]\n",
    "llm_with_tools = llm.bind_tools(tools)\n",
    "tool_node = ToolNode(tools=tools)\n",
    "\n",
    "# Define agent node with tools\n",
    "def call_agent(state: AgentState):\n",
    "    \"\"\"Call the agent with the current state.\"\"\"\n",
    "    messages = state[\"messages\"]\n",
    "    prompt_messages = researcher_prompt.format_messages(messages=messages)\n",
    "    result = llm_with_tools.invoke(prompt_messages)\n",
    "    return {\"messages\": [result]}\n",
    "\n",
    "def should_continue(state: AgentState):\n",
    "    messages = state[\"messages\"]\n",
    "    ai_message = messages[-1]\n",
    "\n",
    "    # Check if it's an AI message with tool calls\n",
    "    if hasattr(ai_message, \"tool_calls\") and len(ai_message.tool_calls) > 0:\n",
    "        return \"tool\"\n",
    "    return END\n",
    "    \n",
    "# Create and configure the graph\n",
    "workflow = StateGraph(AgentState)\n",
    "workflow.add_node(\"agent\", call_agent)\n",
    "workflow.add_node(\"tool\", tool_node)\n",
    "\n",
    "workflow.add_edge(START, \"agent\")\n",
    "workflow.add_edge(\"tool\", \"agent\")\n",
    "workflow.add_conditional_edges(\n",
    "    \"agent\",\n",
    "    should_continue,\n",
    "    {\n",
    "        \"tool\": \"tool\",\n",
    "        END: END\n",
    "    }\n",
    ")\n",
    "workflow.add_edge(\"agent\", END)\n",
    "\n",
    "# Compile the graph\n",
    "bar_chart_agent = workflow.compile()\n",
    "\n",
    "display(Image(bar_chart_agent.get_graph().draw_mermaid_png()))"
   ]
  },
  {
   "cell_type": "code",
   "execution_count": 37,
   "metadata": {},
   "outputs": [
    {
     "name": "stdout",
     "output_type": "stream",
     "text": [
      "{'Canada': 200.0, 'USA': 250.0, 'Spain': 150.0}\n",
      "Here is the bar chart representing the points for each country:\n",
      "\n",
      "```\n",
      "                                  Points by Country                             \n",
      "     ┌─────────────────────────────────────────────────────────────────────────┐\n",
      "250.0┤                          █████████████████████                          │\n",
      "     │                          █████████████████████                          │\n",
      "     │                          █████████████████████                          │\n",
      "208.3┤█████████████████████    █████████████████████                          │\n",
      "     │█████████████████████    █████████████████████                          │\n",
      "     │█████████████████████    █████████████████████                          │\n",
      "166.7┤█████████████████████    █████████████████████                          │\n",
      "     │█████████████████████    █████████████████████    ██████████████████████│\n",
      "125.0┤█████████████████████    █████████████████████    ██████████████████████│\n",
      "     │█████████████████████    █████████████████████    ██████████████████████│\n",
      "     │█████████████████████    █████████████████████    ██████████████████████│\n",
      " 83.3┤█████████████████████    █████████████████████    ██████████████████████│\n",
      "     │█████████████████████    █████████████████████    ██████████████████████│\n",
      "     │█████████████████████    █████████████████████    ██████████████████████│\n",
      " 41.7┤█████████████████████    █████████████████████    ██████████████████████│\n",
      "     │█████████████████████    █████████████████████    ██████████████████████│\n",
      "     │█████████████████████    █████████████████████    ██████████████████████│\n",
      "  0.0┤█████████████████████    █████████████████████    ██████████████████████│\n",
      "     └──────────┬─────────────────────────┬─────────────────────────┬──────────┘\n",
      "             Canada                      USA                      Spain         \n",
      "```\n",
      "\n",
      "As you can see, USA has the highest points (250), followed by Canada (200), and then Spain (150).\n"
     ]
    }
   ],
   "source": [
    "input_message = {\n",
    "    \"messages\": [\n",
    "        HumanMessage(content=\"Make me a chart with the following data: Canada has 200 points, USA has 250 points, Spain was 150 points.\")\n",
    "    ]\n",
    "}\n",
    "\n",
    "result = bar_chart_agent.invoke(input_message)\n",
    "print(result[\"messages\"][-1].content)"
   ]
  },
  {
   "cell_type": "markdown",
   "metadata": {},
   "source": [
    "## Orchestrating Agent"
   ]
  },
  {
   "cell_type": "code",
   "execution_count": 11,
   "metadata": {},
   "outputs": [
    {
     "ename": "KeyError",
     "evalue": "'messages'",
     "output_type": "error",
     "traceback": [
      "\u001b[0;31m---------------------------------------------------------------------------\u001b[0m",
      "\u001b[0;31mKeyError\u001b[0m                                  Traceback (most recent call last)",
      "Cell \u001b[0;32mIn[11], line 40\u001b[0m\n\u001b[1;32m     38\u001b[0m \u001b[38;5;66;03m# Define supervisor\u001b[39;00m\n\u001b[1;32m     39\u001b[0m supervisor \u001b[38;5;241m=\u001b[39m formatted_prompt \u001b[38;5;241m|\u001b[39m llm\n\u001b[0;32m---> 40\u001b[0m \u001b[38;5;28mprint\u001b[39m(\u001b[43mformatted_prompt\u001b[49m\u001b[38;5;241;43m.\u001b[39;49m\u001b[43mformat_messages\u001b[49m\u001b[43m(\u001b[49m\u001b[43m)\u001b[49m)\n",
      "File \u001b[0;32m~/.pyenv/versions/3.11.2/envs/agentic-3.11.2/lib/python3.11/site-packages/langchain_core/prompts/chat.py:1225\u001b[0m, in \u001b[0;36mChatPromptTemplate.format_messages\u001b[0;34m(self, **kwargs)\u001b[0m\n\u001b[1;32m   1221\u001b[0m     result\u001b[38;5;241m.\u001b[39mextend([message_template])\n\u001b[1;32m   1222\u001b[0m \u001b[38;5;28;01melif\u001b[39;00m \u001b[38;5;28misinstance\u001b[39m(\n\u001b[1;32m   1223\u001b[0m     message_template, (BaseMessagePromptTemplate, BaseChatPromptTemplate)\n\u001b[1;32m   1224\u001b[0m ):\n\u001b[0;32m-> 1225\u001b[0m     message \u001b[38;5;241m=\u001b[39m \u001b[43mmessage_template\u001b[49m\u001b[38;5;241;43m.\u001b[39;49m\u001b[43mformat_messages\u001b[49m\u001b[43m(\u001b[49m\u001b[38;5;241;43m*\u001b[39;49m\u001b[38;5;241;43m*\u001b[39;49m\u001b[43mkwargs\u001b[49m\u001b[43m)\u001b[49m\n\u001b[1;32m   1226\u001b[0m     result\u001b[38;5;241m.\u001b[39mextend(message)\n\u001b[1;32m   1227\u001b[0m \u001b[38;5;28;01melse\u001b[39;00m:\n",
      "File \u001b[0;32m~/.pyenv/versions/3.11.2/envs/agentic-3.11.2/lib/python3.11/site-packages/langchain_core/prompts/chat.py:240\u001b[0m, in \u001b[0;36mMessagesPlaceholder.format_messages\u001b[0;34m(self, **kwargs)\u001b[0m\n\u001b[1;32m    225\u001b[0m \u001b[38;5;28;01mdef\u001b[39;00m\u001b[38;5;250m \u001b[39m\u001b[38;5;21mformat_messages\u001b[39m(\u001b[38;5;28mself\u001b[39m, \u001b[38;5;241m*\u001b[39m\u001b[38;5;241m*\u001b[39mkwargs: Any) \u001b[38;5;241m-\u001b[39m\u001b[38;5;241m>\u001b[39m \u001b[38;5;28mlist\u001b[39m[BaseMessage]:\n\u001b[1;32m    226\u001b[0m \u001b[38;5;250m    \u001b[39m\u001b[38;5;124;03m\"\"\"Format messages from kwargs.\u001b[39;00m\n\u001b[1;32m    227\u001b[0m \n\u001b[1;32m    228\u001b[0m \u001b[38;5;124;03m    Args:\u001b[39;00m\n\u001b[0;32m   (...)\u001b[0m\n\u001b[1;32m    235\u001b[0m \u001b[38;5;124;03m        ValueError: If variable is not a list of messages.\u001b[39;00m\n\u001b[1;32m    236\u001b[0m \u001b[38;5;124;03m    \"\"\"\u001b[39;00m\n\u001b[1;32m    237\u001b[0m     value \u001b[38;5;241m=\u001b[39m (\n\u001b[1;32m    238\u001b[0m         kwargs\u001b[38;5;241m.\u001b[39mget(\u001b[38;5;28mself\u001b[39m\u001b[38;5;241m.\u001b[39mvariable_name, [])\n\u001b[1;32m    239\u001b[0m         \u001b[38;5;28;01mif\u001b[39;00m \u001b[38;5;28mself\u001b[39m\u001b[38;5;241m.\u001b[39moptional\n\u001b[0;32m--> 240\u001b[0m         \u001b[38;5;28;01melse\u001b[39;00m \u001b[43mkwargs\u001b[49m\u001b[43m[\u001b[49m\u001b[38;5;28;43mself\u001b[39;49m\u001b[38;5;241;43m.\u001b[39;49m\u001b[43mvariable_name\u001b[49m\u001b[43m]\u001b[49m\n\u001b[1;32m    241\u001b[0m     )\n\u001b[1;32m    242\u001b[0m     \u001b[38;5;28;01mif\u001b[39;00m \u001b[38;5;129;01mnot\u001b[39;00m \u001b[38;5;28misinstance\u001b[39m(value, \u001b[38;5;28mlist\u001b[39m):\n\u001b[1;32m    243\u001b[0m         msg \u001b[38;5;241m=\u001b[39m (\n\u001b[1;32m    244\u001b[0m             \u001b[38;5;124mf\u001b[39m\u001b[38;5;124m\"\u001b[39m\u001b[38;5;124mvariable \u001b[39m\u001b[38;5;132;01m{\u001b[39;00m\u001b[38;5;28mself\u001b[39m\u001b[38;5;241m.\u001b[39mvariable_name\u001b[38;5;132;01m}\u001b[39;00m\u001b[38;5;124m should be a list of base messages, \u001b[39m\u001b[38;5;124m\"\u001b[39m\n\u001b[1;32m    245\u001b[0m             \u001b[38;5;124mf\u001b[39m\u001b[38;5;124m\"\u001b[39m\u001b[38;5;124mgot \u001b[39m\u001b[38;5;132;01m{\u001b[39;00mvalue\u001b[38;5;132;01m}\u001b[39;00m\u001b[38;5;124m of type \u001b[39m\u001b[38;5;132;01m{\u001b[39;00m\u001b[38;5;28mtype\u001b[39m(value)\u001b[38;5;132;01m}\u001b[39;00m\u001b[38;5;124m\"\u001b[39m\n\u001b[1;32m    246\u001b[0m         )\n",
      "\u001b[0;31mKeyError\u001b[0m: 'messages'"
     ]
    }
   ],
   "source": [
    "# Define available roles\n",
    "team_members = [\"researcher\", \"bar_chart_generator\"]\n",
    "options = [\"FINISH\"] + team_members\n",
    "\n",
    "# Define system prompt\n",
    "system_prompt = (\n",
    "    \"You are a supervisor tasked with delegating user requests to a team of agents. The agents you supervise \" \n",
    "    \"are called {team_members}. {team_member_0} performs search requests. {team_member_1} plots data as a bar chart. \"\n",
    "    \"You must determine which of the agents should process the user request and respond with the name of the all agents \"\n",
    "    \"required. If there is no agent that can respond to the request return FINISH. \" \n",
    "    \"It is possible that a request would require multiple agents and be executed in some order. \"\n",
    "    \"You should return all the agents that should be called in the order they should be called.\"\n",
    ")\n",
    "\n",
    "# Define routing schema\n",
    "class RoutingSchema(BaseModel):\n",
    "    next: Literal[\"FINISH\", \"researcher\", \"chart_generator\"]\n",
    "\n",
    "# Define chat prompt\n",
    "prompt = ChatPromptTemplate.from_messages([\n",
    "    (\"system\", system_prompt),\n",
    "    MessagesPlaceholder(variable_name=\"messages\"),\n",
    "    (\n",
    "        \"system\",\n",
    "        \"Given the conversation above, which agents are required to answers the request \"\n",
    "        \"Or should we FINISH? Select one of: {options}\"\n",
    "    ),\n",
    "])\n",
    "\n",
    "# Format prompt\n",
    "formatted_prompt = prompt.partial(\n",
    "    options=\", \".join(options), team_members=\", \".join(team_members), team_member_0=team_members[0], team_member_1=team_members[1]\n",
    ")\n",
    "\n",
    "# Initialize LLM\n",
    "llm = build_llm()\n",
    "\n",
    "# Define supervisor\n",
    "supervisor = formatted_prompt | llm\n",
    "print(formatted_prompt.format_messages())"
   ]
  },
  {
   "cell_type": "code",
   "execution_count": 15,
   "metadata": {},
   "outputs": [
    {
     "name": "stdout",
     "output_type": "stream",
     "text": [
      "['researcher']\n",
      "['bar_chart_generator']\n",
      "['FINISH']\n",
      "['researcher', 'bar_chart_generator']\n",
      "['researcher', 'bar_chart_generator']\n"
     ]
    }
   ],
   "source": [
    "# Invoke supervisor with a sample message\n",
    "response1 = supervisor.invoke({\n",
    "    \"messages\": [HumanMessage(content=\"Tell me the latest news on the stock market?\")]\n",
    "})\n",
    "print([item.strip() for item in response1.content.split(\",\")]) \n",
    "\n",
    "response2 = supervisor.invoke({\n",
    "    \"messages\": [HumanMessage(content=\"Mike is 41, Joe is 30. Give me a visual representation of this data.\")]\n",
    "})\n",
    "print([item.strip() for item in response2.content.split(\",\")]) \n",
    "\n",
    "response3 = supervisor.invoke({\n",
    "    \"messages\": [HumanMessage(content=\"I'm done with my task.\")]\n",
    "})\n",
    "print([item.strip() for item in response3.content.split(\",\")]) \n",
    "\n",
    "response4 = supervisor.invoke({\n",
    "    \"messages\": [HumanMessage(content=\"Compare season wins in a bar chart of the top 3 winners of the latest FIFA World Cup?\")]\n",
    "})\n",
    "print([item.strip() for item in response4.content.split(\",\")]) \n",
    "\n",
    "response5 = supervisor.invoke({\n",
    "    \"messages\": [HumanMessage(content=\"Plot the 2025 GDP for the 10 largest economies?\")]\n",
    "})\n",
    "print([item.strip() for item in response5.content.split(\",\")]) "
   ]
  }
 ],
 "metadata": {
  "kernelspec": {
   "display_name": "agentic-3.11.2",
   "language": "python",
   "name": "python3"
  },
  "language_info": {
   "codemirror_mode": {
    "name": "ipython",
    "version": 3
   },
   "file_extension": ".py",
   "mimetype": "text/x-python",
   "name": "python",
   "nbconvert_exporter": "python",
   "pygments_lexer": "ipython3",
   "version": "3.11.2"
  }
 },
 "nbformat": 4,
 "nbformat_minor": 2
}
