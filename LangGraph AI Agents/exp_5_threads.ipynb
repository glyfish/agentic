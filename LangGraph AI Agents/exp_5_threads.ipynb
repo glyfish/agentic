{
 "cells": [
  {
   "cell_type": "markdown",
   "metadata": {},
   "source": [
    "# Threads"
   ]
  },
  {
   "cell_type": "code",
   "execution_count": 1,
   "metadata": {},
   "outputs": [],
   "source": [
    "import os\n",
    "import sys\n",
    "import random\n",
    "import json\n",
    "from pydantic import BaseModel, Field\n",
    "from dataclasses import dataclass, field\n",
    "\n",
    "from typing import Annotated, Literal, Sequence\n",
    "from typing_extensions import TypedDict\n",
    "\n",
    "from langchain_core.messages import HumanMessage, SystemMessage, BaseMessage, FunctionMessage\n",
    "from langchain_openai import OpenAI, ChatOpenAI\n",
    "from langgraph.graph import StateGraph, START, END\n",
    "from langgraph.prebuilt import ToolNode\n",
    "from langgraph.graph.message import add_messages\n",
    "from langchain_core.tools import tool\n",
    "from langgraph.checkpoint.memory import MemorySaver\n",
    "\n",
    "from IPython.display import Image, display\n",
    "\n",
    "sys.path.append(os.path.abspath(os.path.join(os.getcwd(), '..')))\n",
    "\n",
    "from lib.utils import set_chatgpt_env, set_langsmith_env"
   ]
  },
  {
   "cell_type": "code",
   "execution_count": 3,
   "metadata": {},
   "outputs": [],
   "source": [
    "set_langsmith_env()\n",
    "set_chatgpt_env()"
   ]
  },
  {
   "cell_type": "code",
   "execution_count": 36,
   "metadata": {},
   "outputs": [],
   "source": [
    "# Initialize the LLM\n",
    "llm = ChatOpenAI(\n",
    "    model=\"gpt-4o\",\n",
    "    temperature=0\n",
    ")\n",
    "\n",
    "def get_last_message(messages):\n",
    "    \"\"\"Returns the last message from the state.\"\"\"\n",
    "    return messages[\"messages\"][-1].content if messages.get(\"messages\") else None\n",
    "\n",
    "# Define the state structure\n",
    "class State(TypedDict):\n",
    "    messages: Annotated[list, add_messages]\n",
    "\n",
    "# Define the model calling function\n",
    "def call_model_node(state: State):\n",
    "    messages = state[\"messages\"]\n",
    "    result = llm.invoke(messages)\n",
    "    return {\"messages\": [result]}\n",
    "\n",
    "# Create and configure the graph\n",
    "workflow = StateGraph(State)\n",
    "workflow.add_node(\"agent\", call_model_node)\n",
    "workflow.add_edge(START, \"agent\")\n",
    "workflow.add_edge(\"agent\", END)\n",
    "\n",
    "# Initialize memory for state persistence\n",
    "checkpointer = MemorySaver()\n",
    "\n",
    "# Compile the graph\n",
    "graph = workflow.compile(checkpointer=checkpointer)"
   ]
  },
  {
   "cell_type": "code",
   "execution_count": 37,
   "metadata": {},
   "outputs": [
    {
     "data": {
      "image/png": "[encoded data removed]",
      "text/plain": [
       "<IPython.core.display.Image object>"
      ]
     },
     "metadata": {},
     "output_type": "display_data"
    }
   ],
   "source": [
    "display(Image(graph.get_graph(xray=True).draw_mermaid_png()))"
   ]
  },
  {
   "cell_type": "markdown",
   "metadata": {},
   "source": [
    "## First Thread"
   ]
  },
  {
   "cell_type": "code",
   "execution_count": 38,
   "metadata": {},
   "outputs": [
    {
     "name": "stdout",
     "output_type": "stream",
     "text": [
      "Hello, Will! How can I assist you today?\n"
     ]
    }
   ],
   "source": [
    "config_thread = {\n",
    "    \"configurable\": {\"thread_id\": \"t1\"}\n",
    "}\n",
    "\n",
    "user_input = \"Hi there! My name is Will.\"\n",
    "result = graph.invoke({\"messages\": [{\"role\": \"user\", \"content\": user_input}]}, config_thread)\n",
    "print(get_last_message(result))"
   ]
  },
  {
   "cell_type": "code",
   "execution_count": 39,
   "metadata": {},
   "outputs": [
    {
     "name": "stdout",
     "output_type": "stream",
     "text": [
      "Yes, you did! You mentioned that your name is Will. How can I help you today?\n"
     ]
    }
   ],
   "source": [
    "user_input = \"Hi there! did I introduce myself.\"\n",
    "result = graph.invoke({\"messages\": [{\"role\": \"user\", \"content\": user_input}]}, config_thread)\n",
    "print(get_last_message(result))"
   ]
  },
  {
   "cell_type": "markdown",
   "metadata": {},
   "source": [
    "## Second Thread"
   ]
  },
  {
   "cell_type": "code",
   "execution_count": 40,
   "metadata": {},
   "outputs": [
    {
     "name": "stdout",
     "output_type": "stream",
     "text": [
      "Hello! You haven't introduced yourself yet. What's your name?\n"
     ]
    }
   ],
   "source": [
    "config_thread = {\n",
    "    \"configurable\": {\"thread_id\": \"t2\"}\n",
    "}\n",
    "\n",
    "user_input = \"Hi there! did I introduce myself.\"\n",
    "result = graph.invoke({\"messages\": [{\"role\": \"user\", \"content\": user_input}]}, config_thread)\n",
    "print(get_last_message(result))"
   ]
  }
 ],
 "metadata": {
  "kernelspec": {
   "display_name": "agentic-3.11.2",
   "language": "python",
   "name": "python3"
  },
  "language_info": {
   "codemirror_mode": {
    "name": "ipython",
    "version": 3
   },
   "file_extension": ".py",
   "mimetype": "text/x-python",
   "name": "python",
   "nbconvert_exporter": "python",
   "pygments_lexer": "ipython3",
   "version": "3.11.2"
  }
 },
 "nbformat": 4,
 "nbformat_minor": 2
}
