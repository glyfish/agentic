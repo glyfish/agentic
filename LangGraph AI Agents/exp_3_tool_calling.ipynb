{
 "cells": [
  {
   "cell_type": "markdown",
   "metadata": {},
   "source": [
    "# Tool Calling"
   ]
  },
  {
   "cell_type": "code",
   "execution_count": 1,
   "metadata": {},
   "outputs": [],
   "source": [
    "import os\n",
    "import sys\n",
    "import random\n",
    "import json\n",
    "from pydantic import BaseModel, Field\n",
    "\n",
    "from typing import Annotated, Literal, Sequence\n",
    "from typing_extensions import TypedDict\n",
    "\n",
    "from langchain_core.messages import HumanMessage, SystemMessage, BaseMessage, FunctionMessage\n",
    "from langchain_openai import OpenAI, ChatOpenAI\n",
    "from langgraph.graph import StateGraph, START, END\n",
    "from langgraph.prebuilt import ToolNode\n",
    "from langgraph.graph.message import add_messages\n",
    "from langchain_core.tools import tool\n",
    "\n",
    "from IPython.display import Image, display\n",
    "\n",
    "sys.path.append(os.path.abspath(os.path.join(os.getcwd(), '..')))\n",
    "\n",
    "from lib.utils import set_chatgpt_env, set_langsmith_env"
   ]
  },
  {
   "cell_type": "code",
   "execution_count": 2,
   "metadata": {},
   "outputs": [],
   "source": [
    "set_langsmith_env()\n",
    "set_chatgpt_env()"
   ]
  },
  {
   "cell_type": "code",
   "execution_count": 3,
   "metadata": {},
   "outputs": [],
   "source": [
    "llm = ChatOpenAI(model=\"gpt-4o\", temperature=0)\n",
    "\n",
    "class WeatherApiSchema(BaseModel):\n",
    "    city: str = Field(..., description=\"The name of the city\")\n",
    "\n",
    "\n",
    "class HotelsAvailabilitySchema(BaseModel):\n",
    "    city: str = Field(..., description=\"The name of the city\")\n",
    "    day: str = Field(..., description=\"Day of the week to book the hotel\")\n",
    "\n",
    "\n",
    "@tool(args_schema=WeatherApiSchema)\n",
    "def check_weather(city: str) -> str:\n",
    "    \"\"\"Check the weather in a specified city.\"\"\"\n",
    "    # Simulated weather check\n",
    "    weathers = [\"sunny\", \"rainy\", \"cloudy\"]\n",
    "    return f\"The weather in {city} is {random.choice(weathers)}\"\n",
    "\n",
    "\n",
    "@tool(args_schema=HotelsAvailabilitySchema)\n",
    "def check_hotels(city: str, day: str) -> str:\n",
    "    \"\"\"Check hotel availability in a specified city for a given day.\"\"\"\n",
    "    # Simulated availability check\n",
    "    available = random.choice([True, False])\n",
    "    return f\"Hotels in {city} for {day} are {'available' if available else 'fully booked'}\"\n",
    "\n",
    "\n",
    "weather_tool = ToolNode(tools=[check_weather])\n",
    "hotels_tool = ToolNode(tools=[check_hotels])\n",
    "\n",
    "\n",
    "tools = [check_weather, check_hotels]\n",
    "llm_with_tools = llm.bind_tools(tools)\n",
    "\n",
    "\n",
    "async def process_tool_calls(llm_output, messages):\n",
    "    \"\"\"Process tool calls and add their responses to messages.\"\"\"\n",
    "    \n",
    "    tool_mapping = {\n",
    "        \"check_weather\": check_weather,\n",
    "        \"check_hotels\": check_hotels\n",
    "    }\n",
    "\n",
    "    # Process each tool call\n",
    "    for tool_call in llm_output.tool_calls:\n",
    "\n",
    "        print(tool_call)\n",
    "        # Get the tool function\n",
    "        tool = tool_mapping[tool_call['name']]\n",
    "        \n",
    "        # Parse the arguments from JSON string\n",
    "        args = tool_call['args']\n",
    "        \n",
    "        # Call the tool with the arguments\n",
    "        tool_output = tool.invoke(args)\n",
    "        \n",
    "        # Create a new tool message\n",
    "        new_message = FunctionMessage(\n",
    "            content=tool_output,\n",
    "            name=tool_call['name'],\n",
    "            additional_kwargs={\"tool_call_id\": tool_call['id']}\n",
    "        )\n",
    "        \n",
    "        # Add the message to the list\n",
    "        messages.append(new_message)\n",
    "    \n",
    "    # Get new LLM response with updated messages\n",
    "    llm_output = await llm.ainvoke(messages)\n",
    "    print(llm_output)\n",
    "    \n",
    "    return llm_output, messages"
   ]
  },
  {
   "cell_type": "code",
   "execution_count": 4,
   "metadata": {},
   "outputs": [],
   "source": [
    "messages = [\n",
    "    SystemMessage(content=\"You are a helpful assistant used for vacation planning\"),\n",
    "    HumanMessage(content=\"What is the weather in Tokyo? I would like to go for a weekend-long hike and book one room for Saturday.\")\n",
    "]"
   ]
  },
  {
   "cell_type": "code",
   "execution_count": 5,
   "metadata": {},
   "outputs": [
    {
     "data": {
      "text/plain": [
       "[{'name': 'check_weather',\n",
       "  'args': {'city': 'Tokyo'},\n",
       "  'id': 'call_gp4kIYx6TkgxPbZ3W29UyNtF',\n",
       "  'type': 'tool_call'},\n",
       " {'name': 'check_hotels',\n",
       "  'args': {'city': 'Tokyo', 'day': 'Saturday'},\n",
       "  'id': 'call_fY5aDYzPyGXbfTrJxDy6e0Cn',\n",
       "  'type': 'tool_call'}]"
      ]
     },
     "execution_count": 5,
     "metadata": {},
     "output_type": "execute_result"
    }
   ],
   "source": [
    "result = llm_with_tools.invoke(messages)\n",
    "result.tool_calls"
   ]
  },
  {
   "cell_type": "code",
   "execution_count": 6,
   "metadata": {},
   "outputs": [
    {
     "name": "stdout",
     "output_type": "stream",
     "text": [
      "{'name': 'check_weather', 'args': {'city': 'Tokyo'}, 'id': 'call_gp4kIYx6TkgxPbZ3W29UyNtF', 'type': 'tool_call'}\n",
      "{'name': 'check_hotels', 'args': {'city': 'Tokyo', 'day': 'Saturday'}, 'id': 'call_fY5aDYzPyGXbfTrJxDy6e0Cn', 'type': 'tool_call'}\n",
      "content='The weather in Tokyo is currently cloudy, which should be fine for a weekend-long hike. As for accommodation, there are hotel rooms available for Saturday. Would you like assistance with booking a specific hotel or need recommendations for hiking trails around Tokyo?' additional_kwargs={'refusal': None} response_metadata={'token_usage': {'completion_tokens': 49, 'prompt_tokens': 68, 'total_tokens': 117, 'completion_tokens_details': {'accepted_prediction_tokens': 0, 'audio_tokens': 0, 'reasoning_tokens': 0, 'rejected_prediction_tokens': 0}, 'prompt_tokens_details': {'audio_tokens': 0, 'cached_tokens': 0}}, 'model_name': 'gpt-4o-2024-08-06', 'system_fingerprint': 'fp_6ec83003ad', 'finish_reason': 'stop', 'logprobs': None} id='run-f2493be2-af14-41e0-b176-9ecead6136db-0' usage_metadata={'input_tokens': 68, 'output_tokens': 49, 'total_tokens': 117, 'input_token_details': {'audio': 0, 'cache_read': 0}, 'output_token_details': {'audio': 0, 'reasoning': 0}}\n"
     ]
    },
    {
     "data": {
      "text/plain": [
       "(AIMessage(content='The weather in Tokyo is currently cloudy, which should be fine for a weekend-long hike. As for accommodation, there are hotel rooms available for Saturday. Would you like assistance with booking a specific hotel or need recommendations for hiking trails around Tokyo?', additional_kwargs={'refusal': None}, response_metadata={'token_usage': {'completion_tokens': 49, 'prompt_tokens': 68, 'total_tokens': 117, 'completion_tokens_details': {'accepted_prediction_tokens': 0, 'audio_tokens': 0, 'reasoning_tokens': 0, 'rejected_prediction_tokens': 0}, 'prompt_tokens_details': {'audio_tokens': 0, 'cached_tokens': 0}}, 'model_name': 'gpt-4o-2024-08-06', 'system_fingerprint': 'fp_6ec83003ad', 'finish_reason': 'stop', 'logprobs': None}, id='run-f2493be2-af14-41e0-b176-9ecead6136db-0', usage_metadata={'input_tokens': 68, 'output_tokens': 49, 'total_tokens': 117, 'input_token_details': {'audio': 0, 'cache_read': 0}, 'output_token_details': {'audio': 0, 'reasoning': 0}}),\n",
       " [SystemMessage(content='You are a helpful assistant used for vacation planning', additional_kwargs={}, response_metadata={}),\n",
       "  HumanMessage(content='What is the weather in Tokyo? I would like to go for a weekend-long hike and book one room for Saturday.', additional_kwargs={}, response_metadata={}),\n",
       "  FunctionMessage(content='The weather in Tokyo is cloudy', additional_kwargs={'tool_call_id': 'call_gp4kIYx6TkgxPbZ3W29UyNtF'}, response_metadata={}, name='check_weather'),\n",
       "  FunctionMessage(content='Hotels in Tokyo for Saturday are available', additional_kwargs={'tool_call_id': 'call_fY5aDYzPyGXbfTrJxDy6e0Cn'}, response_metadata={}, name='check_hotels')])"
      ]
     },
     "execution_count": 6,
     "metadata": {},
     "output_type": "execute_result"
    }
   ],
   "source": [
    "await process_tool_calls(result, messages)"
   ]
  }
 ],
 "metadata": {
  "kernelspec": {
   "display_name": "agentic-3.11.2",
   "language": "python",
   "name": "python3"
  },
  "language_info": {
   "codemirror_mode": {
    "name": "ipython",
    "version": 3
   },
   "file_extension": ".py",
   "mimetype": "text/x-python",
   "name": "python",
   "nbconvert_exporter": "python",
   "pygments_lexer": "ipython3",
   "version": "3.11.2"
  }
 },
 "nbformat": 4,
 "nbformat_minor": 2
}
