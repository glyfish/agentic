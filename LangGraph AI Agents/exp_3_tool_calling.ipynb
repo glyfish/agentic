{
 "cells": [
  {
   "cell_type": "markdown",
   "metadata": {},
   "source": [
    "# Tool Calling"
   ]
  },
  {
   "cell_type": "code",
   "execution_count": 2,
   "metadata": {},
   "outputs": [],
   "source": [
    "import os\n",
    "import sys\n",
    "import random\n",
    "import json\n",
    "from pydantic import BaseModel, Field\n",
    "\n",
    "from typing import Annotated, Literal, Sequence\n",
    "from typing_extensions import TypedDict\n",
    "\n",
    "from langchain_core.messages import HumanMessage, SystemMessage, BaseMessage, FunctionMessage\n",
    "from langchain_openai import OpenAI, ChatOpenAI\n",
    "from langgraph.graph import StateGraph, START, END\n",
    "from langgraph.prebuilt import ToolNode\n",
    "from langgraph.graph.message import add_messages\n",
    "from langchain_core.tools import tool\n",
    "\n",
    "from IPython.display import Image, display\n",
    "\n",
    "sys.path.append(os.path.abspath(os.path.join(os.getcwd(), '..')))\n",
    "\n",
    "from lib.utils import set_chatgpt_env, set_langsmith_env"
   ]
  },
  {
   "cell_type": "code",
   "execution_count": 3,
   "metadata": {},
   "outputs": [],
   "source": [
    "set_langsmith_env()\n",
    "set_chatgpt_env()"
   ]
  },
  {
   "cell_type": "code",
   "execution_count": 7,
   "metadata": {},
   "outputs": [],
   "source": [
    "llm = ChatOpenAI(model=\"gpt-4o\")\n",
    "\n",
    "class WeatherApiSchema(BaseModel):\n",
    "    city: str = Field(..., description=\"The name of the city\")\n",
    "\n",
    "\n",
    "class HotelsAvailabilitySchema(BaseModel):\n",
    "    city: str = Field(..., description=\"The name of the city\")\n",
    "    day: str = Field(..., description=\"Day of the week to book the hotel\")\n",
    "\n",
    "\n",
    "@tool(args_schema=WeatherApiSchema)\n",
    "def check_weather(city: str) -> str:\n",
    "    \"\"\"Check the weather in a specified city.\"\"\"\n",
    "    # Simulated weather check\n",
    "    weathers = [\"sunny\", \"rainy\", \"cloudy\"]\n",
    "    return f\"The weather in {city} is {random.choice(weathers)}\"\n",
    "\n",
    "\n",
    "@tool(args_schema=HotelsAvailabilitySchema)\n",
    "def check_hotels(city: str, day: str) -> str:\n",
    "    \"\"\"Check hotel availability in a specified city for a given day.\"\"\"\n",
    "    # Simulated availability check\n",
    "    available = random.choice([True, False])\n",
    "    return f\"Hotels in {city} for {day} are {'available' if available else 'fully booked'}\"\n",
    "\n",
    "\n",
    "weather_tool = ToolNode(tools=[check_weather])\n",
    "hotels_tool = ToolNode(tools=[check_hotels])\n",
    "\n",
    "\n",
    "tools = [check_weather, check_hotels]\n",
    "llm_with_tools = llm.bind_tools(tools)\n",
    "\n",
    "tool_mapping = {\n",
    "    \"check_weather\": check_weather,\n",
    "    \"check_hotels\": check_hotels\n",
    "}\n",
    "\n",
    "\n",
    "async def process_tool_calls(llm_output, messages):\n",
    "    \"\"\"Process tool calls and add their responses to messages.\"\"\"\n",
    "    # Process each tool call\n",
    "    for tool_call in llm_output.tool_calls:\n",
    "        # Get the tool function\n",
    "        tool = tool_mapping[tool_call.function.name]\n",
    "        \n",
    "        # Parse the arguments from JSON string\n",
    "        args = json.loads(tool_call.function.arguments)\n",
    "        \n",
    "        # Call the tool with the arguments\n",
    "        tool_output = tool(**args)\n",
    "        \n",
    "        # Create a new tool message\n",
    "        new_message = FunctionMessage(\n",
    "            content=tool_output,\n",
    "            name=tool_call.function.name,\n",
    "            additional_kwargs={\"tool_call_id\": tool_call.id}\n",
    "        )\n",
    "        \n",
    "        # Add the message to the list\n",
    "        messages.append(new_message)\n",
    "    \n",
    "    # Get new LLM response with updated messages\n",
    "    llm_output = await llm.ainvoke(messages)\n",
    "    print(llm_output)\n",
    "    \n",
    "    return llm_output, messages"
   ]
  },
  {
   "cell_type": "code",
   "execution_count": 8,
   "metadata": {},
   "outputs": [],
   "source": [
    "messages = [\n",
    "    SystemMessage(content=\"You are a helpful assistant used foWhat's the weather in Tokyo and are hotels available on Saturday?r vacation planning\"),\n",
    "    HumanMessage(content=\"What is the weather in Tokyo? I would like to go for a weekend-long hike and book one room for Saturday.\")\n",
    "]"
   ]
  },
  {
   "cell_type": "code",
   "execution_count": 10,
   "metadata": {},
   "outputs": [
    {
     "name": "stdout",
     "output_type": "stream",
     "text": [
      "content='' additional_kwargs={'tool_calls': [{'id': 'call_mdJ4tgHbaVccejz0Ke02jcRt', 'function': {'arguments': '{\\n  \"city\": \"Tokyo\"\\n}', 'name': 'check_weather'}, 'type': 'function'}], 'refusal': None} response_metadata={'token_usage': {'completion_tokens': 17, 'prompt_tokens': 128, 'total_tokens': 145, 'completion_tokens_details': {'accepted_prediction_tokens': 0, 'audio_tokens': 0, 'reasoning_tokens': 0, 'rejected_prediction_tokens': 0}, 'prompt_tokens_details': {'audio_tokens': 0, 'cached_tokens': 0}}, 'model_name': 'gpt-4-0613', 'system_fingerprint': None, 'finish_reason': 'tool_calls', 'logprobs': None} id='run-de8787bc-c8e4-436f-af16-d69102b968d0-0' tool_calls=[{'name': 'check_weather', 'args': {'city': 'Tokyo'}, 'id': 'call_mdJ4tgHbaVccejz0Ke02jcRt', 'type': 'tool_call'}] usage_metadata={'input_tokens': 128, 'output_tokens': 17, 'total_tokens': 145, 'input_token_details': {'audio': 0, 'cache_read': 0}, 'output_token_details': {'audio': 0, 'reasoning': 0}}\n"
     ]
    }
   ],
   "source": [
    "result = llm_with_tools.invoke(\"\")\n"
   ]
  }
 ],
 "metadata": {
  "kernelspec": {
   "display_name": "agentic-3.11.2",
   "language": "python",
   "name": "python3"
  },
  "language_info": {
   "codemirror_mode": {
    "name": "ipython",
    "version": 3
   },
   "file_extension": ".py",
   "mimetype": "text/x-python",
   "name": "python",
   "nbconvert_exporter": "python",
   "pygments_lexer": "ipython3",
   "version": "3.11.2"
  }
 },
 "nbformat": 4,
 "nbformat_minor": 2
}
