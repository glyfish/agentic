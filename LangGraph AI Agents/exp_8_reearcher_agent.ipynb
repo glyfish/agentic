{
 "cells": [
  {
   "cell_type": "markdown",
   "metadata": {},
   "source": [
    "# Researcher Agent"
   ]
  },
  {
   "cell_type": "code",
   "execution_count": 1,
   "metadata": {},
   "outputs": [],
   "source": [
    "import os\n",
    "import sys\n",
    "import random\n",
    "import json\n",
    "from pydantic import BaseModel, Field\n",
    "from dataclasses import dataclass, field\n",
    "import plotext\n",
    "import numpy\n",
    "from enum import Enum\n",
    "import asyncio\n",
    "\n",
    "from typing import Annotated, Literal, Sequence, Union, List, Dict, Tuple, Optional, Any\n",
    "from typing_extensions import TypedDict\n",
    "\n",
    "from langchain_core.messages import HumanMessage, SystemMessage, BaseMessage, FunctionMessage, \\\n",
    "                                    AIMessage, ToolCall\n",
    "\n",
    "from langchain_openai import ChatOpenAI\n",
    "from langchain_community.tools import TavilySearchResults\n",
    "from langgraph.graph import StateGraph, START, END\n",
    "from langgraph.prebuilt import ToolNode\n",
    "from langgraph.graph.message import add_messages\n",
    "from langchain_core.tools import tool\n",
    "from langgraph.checkpoint.memory import MemorySaver\n",
    "from langchain_core.messages import ToolMessage\n",
    "from langchain.output_parsers import JsonOutputKeyToolsParser\n",
    "from langchain.prompts import ChatPromptTemplate, MessagesPlaceholder\n",
    "\n",
    "from IPython.display import Image, display\n",
    "\n",
    "sys.path.append(os.path.abspath(os.path.join(os.getcwd(), '..')))\n",
    "\n",
    "from lib.utils import set_chatgpt_env, set_langsmith_env, set_tavily_env"
   ]
  },
  {
   "cell_type": "markdown",
   "metadata": {},
   "source": [
    "## Agent State Reducer"
   ]
  },
  {
   "cell_type": "code",
   "execution_count": 2,
   "metadata": {},
   "outputs": [],
   "source": [
    "# Define an END constant\n",
    "class Annotation:\n",
    "    def __init__(self, reducer, default):\n",
    "        self.reducer = reducer\n",
    "        self.default = default\n",
    "\n",
    "    @classmethod\n",
    "    def Root(cls, annotations):\n",
    "        # This inner class will serve as our state container\n",
    "        class Root:\n",
    "            def __init__(self):\n",
    "                # Initialize each field with its default value\n",
    "                for key, annotation in annotations.items():\n",
    "                    setattr(self, key, annotation.default())\n",
    "            \n",
    "            def update(self, key, value):\n",
    "                if key in annotations:\n",
    "                    # Get the annotation definition for this key\n",
    "                    annotation = annotations[key]\n",
    "                    current_value = getattr(self, key)\n",
    "                    # Use the reducer to compute the new value\n",
    "                    new_value = annotation.reducer(current_value, value)\n",
    "                    setattr(self, key, new_value)\n",
    "                else:\n",
    "                    raise KeyError(f\"No annotation defined for key: {key}\")\n",
    "\n",
    "            def __repr__(self):\n",
    "                # Provide a convenient string representation of the state\n",
    "                state = {key: getattr(self, key) for key in annotations}\n",
    "                return f\"<AgentState {state}>\"\n",
    "                \n",
    "        return Root"
   ]
  },
  {
   "cell_type": "code",
   "execution_count": 3,
   "metadata": {},
   "outputs": [
    {
     "name": "stdout",
     "output_type": "stream",
     "text": [
      "Initial state: <AgentState {'messages': [], 'next': '__end__'}>\n",
      "After updating messages: <AgentState {'messages': ['Hello, world!'], 'next': '__end__'}>\n",
      "After updating messages: <AgentState {'messages': ['Hello, world!', 'Goodbye, world!'], 'next': '__end__'}>\n",
      "After updating next: <AgentState {'messages': ['Hello, world!', 'Goodbye, world!'], 'next': 'Step2'}>\n"
     ]
    }
   ],
   "source": [
    "# Create AgentState similar to the JavaScript version\n",
    "AgentState = Annotation.Root({\n",
    "    \"messages\": Annotation(\n",
    "        reducer=lambda x, y: x + y,   # Concatenates lists\n",
    "        default=lambda: []            # Default is an empty list\n",
    "    ),\n",
    "    \"next\": Annotation(\n",
    "        reducer=lambda x, y: y if y is not None else x if x is not None else END,\n",
    "        default=lambda: END           # Default value is END\n",
    "    )\n",
    "})\n",
    "\n",
    "# Example usage:\n",
    "if __name__ == \"__main__\":\n",
    "    state = AgentState()\n",
    "    print(\"Initial state:\", state)\n",
    "    \n",
    "    # Update messages by concatenating a new list\n",
    "    state.update(\"messages\", [\"Hello, world!\"])\n",
    "    print(\"After updating messages:\", state)\n",
    "    \n",
    "    # Update messages by concatenating a new list\n",
    "    state.update(\"messages\", [\"Goodbye, world!\"])\n",
    "    print(\"After updating messages:\", state)\n",
    "\n",
    "    # Update the 'next' value; since a non-None value is provided, it replaces the old one\n",
    "    state.update(\"next\", \"Step2\")\n",
    "    print(\"After updating next:\", state)"
   ]
  },
  {
   "cell_type": "markdown",
   "metadata": {},
   "source": [
    "## Utils"
   ]
  },
  {
   "cell_type": "code",
   "execution_count": 4,
   "metadata": {},
   "outputs": [],
   "source": [
    "class WorkerState(TypedDict):\n",
    "    messages: Annotated[Sequence[BaseMessage], add_messages]\n",
    "\n",
    "\n",
    "def build_llm():\n",
    "    \"\"\"Build an LLM with a custom model name.\"\"\"\n",
    "    return ChatOpenAI(model=\"gpt-4\", temperature=0)\n",
    "\n",
    "\n",
    "def get_last_message(state) -> BaseMessage:\n",
    "    \"\"\"Get the last message from a list of messages.\"\"\"\n",
    "    return state[\"messages\"][-1]\n",
    "\n",
    "\n",
    "def create_agent_node(agent: Any, node_name: str):\n",
    "    async def node(state: Any, config: Dict[str, Any]):\n",
    "        result = await agent.invoke(state, config)\n",
    "        last_message = get_last_message(result)\n",
    "        content: str = last_message[\"content\"]\n",
    "        return {\n",
    "            \"messages\": [\n",
    "                HumanMessage(content=content, name=node_name)\n",
    "            ]\n",
    "        }\n",
    "    return node\n",
    "\n",
    "\n",
    "def should_continue(state: WorkerState):\n",
    "    messages = state[\"messages\"]\n",
    "    ai_message = messages[-1]\n",
    "    \n",
    "    # Check if it's an AI message with tool calls\n",
    "    if hasattr(ai_message, \"tool_calls\") and len(ai_message.tool_calls) > 0:\n",
    "        return \"tool\"\n",
    "    return END\n",
    "\n",
    "\n",
    "set_langsmith_env()\n",
    "set_chatgpt_env()\n",
    "set_tavily_env()"
   ]
  },
  {
   "cell_type": "markdown",
   "metadata": {},
   "source": [
    "## Search Agent"
   ]
  },
  {
   "cell_type": "code",
   "execution_count": 5,
   "metadata": {},
   "outputs": [
    {
     "data": {
      "image/png": "[encoded data removed]",
      "text/plain": [
       "<IPython.core.display.Image object>"
      ]
     },
     "metadata": {},
     "output_type": "display_data"
    }
   ],
   "source": [
    "researcher_llm = build_llm()\n",
    "\n",
    "# Initialize tools\n",
    "tavily_tool = TavilySearchResults()\n",
    "researcher_tools = [tavily_tool]\n",
    "researcher_tool_node = ToolNode(researcher_tools)\n",
    "\n",
    "def researcher_model(state: WorkerState) -> WorkerState:\n",
    "    \"\"\"Call the model with the current state.\"\"\"\n",
    "    messages = state[\"messages\"]\n",
    "    result = researcher_llm.bind_tools(researcher_tool_node).invoke(messages)\n",
    "    return {\"messages\": [result]}\n",
    "\n",
    "\n",
    "# Create the graph\n",
    "researcher_graph = (\n",
    "    StateGraph(WorkerState)\n",
    "    .add_node(\"model\", researcher_model)\n",
    "    .add_node(\"tool\", researcher_tool_node)\n",
    "    .add_edge(START, \"model\")\n",
    "    .add_edge(\"tool\", \"model\")\n",
    "    .add_conditional_edges(\n",
    "        \"model\",\n",
    "        should_continue,\n",
    "        {\n",
    "            \"tool\": \"tool\",\n",
    "            END: END,\n",
    "        }\n",
    "    )\n",
    ")\n",
    "\n",
    "# Compile the graph\n",
    "researcher_agent = researcher_graph.compile()\n",
    "\n",
    "display(Image(researcher_agent.get_graph().draw_mermaid_png()))"
   ]
  },
  {
   "cell_type": "markdown",
   "metadata": {},
   "source": [
    "## Bar Chart Agent"
   ]
  },
  {
   "cell_type": "code",
   "execution_count": 6,
   "metadata": {},
   "outputs": [
    {
     "data": {
      "image/png": "[encoded data removed]",
      "text/plain": [
       "<IPython.core.display.Image object>"
      ]
     },
     "metadata": {},
     "output_type": "display_data"
    }
   ],
   "source": [
    "bar_chart_llm = build_llm()\n",
    "\n",
    "# Define tool schema\n",
    "class BarChartInput(BaseModel):\n",
    "    \"\"\"Input schema for the bar chart generator.\"\"\"\n",
    "    data: Dict[str, float] = Field(..., description=\"Dictionary where keys are labels and values are numeric values to plot\")\n",
    "    title: str = Field(default=\"Bar Chart\", description=\"Title of the chart\")\n",
    "    \n",
    "# Create the tool\n",
    "@tool(args_schema=BarChartInput)\n",
    "def generate_bar_chart(data: Dict[str, float], title: str) -> str:\n",
    "    \"\"\"Generate a bar chart from data points and display it.\n",
    "    \n",
    "    Parameters\n",
    "    ----------\n",
    "        data: Dict[str, float]\n",
    "            Dictionary where keys are labels and values are numeric values to plot\n",
    "        title: str\n",
    "            Title of the chart (optional, defaults to \"Bar Chart\")\n",
    "        \n",
    "    Returns:\n",
    "        plot as string\n",
    "        \n",
    "    Example:\n",
    "        input = BarChartInput(\n",
    "            data={\"A\": 10, \"B\": 20, \"C\": 15},\n",
    "            title=\"Sample Chart\"\n",
    "        )\n",
    "    \"\"\"\n",
    "\n",
    "    cats = list(data.keys())\n",
    "    vals = list(data.values())\n",
    "    plotext.clear_figure()\n",
    "    plotext.bar(cats, vals)\n",
    "    plotext.title(title)\n",
    "    \n",
    "    return plotext.build()\n",
    "\n",
    "\n",
    "bar_chart_tools = [generate_bar_chart]\n",
    "bar_chart_tool_node = ToolNode(tools=bar_chart_tools)\n",
    "\n",
    "# Define agent node with tools\n",
    "def bar_chart_model(state: WorkerState):\n",
    "    \"\"\"Call the agent with the current state.\"\"\"\n",
    "    messages = state[\"messages\"]\n",
    "    result = bar_chart_llm.bind_tools(bar_chart_tools).invoke(messages)\n",
    "    return {\"messages\": [result]}\n",
    "\n",
    "def bar_chart_should_continue(state: WorkerState):\n",
    "    messages = state[\"messages\"]\n",
    "    ai_message = messages[-1]\n",
    "\n",
    "    # Check if it's an AI message with tool calls\n",
    "    if hasattr(ai_message, \"tool_calls\") and len(ai_message.tool_calls) > 0:\n",
    "        return \"tool\"\n",
    "    return END\n",
    "    \n",
    "# Create and configure the graph\n",
    "bar_chart_workflow = StateGraph(WorkerState)\n",
    "bar_chart_workflow.add_node(\"model\", bar_chart_model)\n",
    "bar_chart_workflow.add_node(\"tool\", bar_chart_tool_node)\n",
    "\n",
    "bar_chart_workflow.add_edge(START, \"model\")\n",
    "bar_chart_workflow.add_edge(\"tool\", \"model\")\n",
    "bar_chart_workflow.add_conditional_edges(\n",
    "    \"model\",\n",
    "    bar_chart_should_continue,\n",
    "    {\n",
    "        \"tool\": \"tool\",\n",
    "        END: END\n",
    "    }\n",
    ")\n",
    "bar_chart_workflow.add_edge(\"model\", END)\n",
    "\n",
    "# Compile the graph\n",
    "bar_chart_agent = bar_chart_workflow.compile()\n",
    "\n",
    "display(Image(bar_chart_agent.get_graph().draw_mermaid_png()))"
   ]
  },
  {
   "cell_type": "markdown",
   "metadata": {},
   "source": [
    "## Supervisor Agent"
   ]
  },
  {
   "cell_type": "code",
   "execution_count": 12,
   "metadata": {},
   "outputs": [
    {
     "data": {
      "image/png": "[encoded data removed]",
      "text/plain": [
       "<IPython.core.display.Image object>"
      ]
     },
     "metadata": {},
     "output_type": "display_data"
    }
   ],
   "source": [
    "team_members = [\"researcher\", \"bar_chart_generator\"]\n",
    "options = [END] + team_members\n",
    "\n",
    "system_prompt = (\n",
    "    \"You are a supervisor tasked with managing a conversation between the \"\n",
    "    \"following workers: {team_members}. Given the following user request, \"\n",
    "    \"respond with the worker to act next. Each worker will perform a task \"\n",
    "    \"and respond with their results and status. When finished, respond with FINISH.\"\n",
    ")\n",
    "\n",
    "prompt = ChatPromptTemplate.from_messages([\n",
    "    (\"system\", system_prompt),\n",
    "    MessagesPlaceholder(variable_name=\"messages\"),\n",
    "    (\n",
    "        \"system\",\n",
    "        \"Given the conversation above, who should act next? \"\n",
    "        \"Or should we FINISH? Select one of: {options}\"\n",
    "    ),\n",
    "])\n",
    "\n",
    "formatted_prompt = prompt.partial(\n",
    "    options=\", \".join(options), team_members=\", \".join(team_members)\n",
    ")\n",
    "\n",
    "# Initialize LLM\n",
    "supervisor_llm = build_llm()\n",
    "\n",
    "# Define supervisor\n",
    "supervisor = formatted_prompt | supervisor_llm\n",
    "\n",
    "researcher_node = create_agent_node(researcher_agent, \"Researcher\")\n",
    "bar_chart_gen_node = create_agent_node(bar_chart_agent, \"BarChartGenerator\")\n",
    "\n",
    "workflow = StateGraph(AgentState)\n",
    "workflow.add_node(\"researcher\", researcher_node)\n",
    "workflow.add_node(\"bar_chart_generator\", bar_chart_gen_node)\n",
    "workflow.add_node(\"supervisor\", supervisor)\n",
    "\n",
    "workflow.add_edge(START, \"supervisor\")\n",
    "workflow.add_edge(\"researcher\", \"supervisor\")\n",
    "workflow.add_edge(\"bar_chart_generator\", \"supervisor\")\n",
    "workflow.add_conditional_edges(\"supervisor\", lambda x: x[\"next\"])\n",
    "\n",
    "graph = workflow.compile()\n",
    "\n",
    "display(Image(graph.get_graph().draw_mermaid_png()))"
   ]
  },
  {
   "cell_type": "code",
   "execution_count": 13,
   "metadata": {},
   "outputs": [
    {
     "name": "stdout",
     "output_type": "stream",
     "text": [
      "researcher\n"
     ]
    }
   ],
   "source": [
    "# Invoke supervisor with a sample message\n",
    "response1 = supervisor.invoke({\n",
    "    \"messages\": [HumanMessage(content=\"Tell me the latest news on the stock market?\")]\n",
    "})\n",
    "print(response1.content)"
   ]
  },
  {
   "cell_type": "code",
   "execution_count": 16,
   "metadata": {},
   "outputs": [
    {
     "ename": "InvalidUpdateError",
     "evalue": "Must write to at least one of []",
     "output_type": "error",
     "traceback": [
      "\u001b[0;31m---------------------------------------------------------------------------\u001b[0m",
      "\u001b[0;31mInvalidUpdateError\u001b[0m                        Traceback (most recent call last)",
      "Cell \u001b[0;32mIn[16], line 1\u001b[0m\n\u001b[0;32m----> 1\u001b[0m response1 \u001b[38;5;241m=\u001b[39m \u001b[43mgraph\u001b[49m\u001b[38;5;241;43m.\u001b[39;49m\u001b[43minvoke\u001b[49m\u001b[43m(\u001b[49m\u001b[43m{\u001b[49m\n\u001b[1;32m      2\u001b[0m \u001b[43m    \u001b[49m\u001b[38;5;124;43m\"\u001b[39;49m\u001b[38;5;124;43mmessages\u001b[39;49m\u001b[38;5;124;43m\"\u001b[39;49m\u001b[43m:\u001b[49m\u001b[43m \u001b[49m\u001b[43m[\u001b[49m\u001b[43mHumanMessage\u001b[49m\u001b[43m(\u001b[49m\u001b[43mcontent\u001b[49m\u001b[38;5;241;43m=\u001b[39;49m\u001b[38;5;124;43m\"\u001b[39;49m\u001b[38;5;124;43mTell me the latest news on the stock market?\u001b[39;49m\u001b[38;5;124;43m\"\u001b[39;49m\u001b[43m)\u001b[49m\u001b[43m]\u001b[49m\n\u001b[1;32m      3\u001b[0m \u001b[43m}\u001b[49m\u001b[43m)\u001b[49m\n\u001b[1;32m      4\u001b[0m \u001b[38;5;28mprint\u001b[39m(response1\u001b[38;5;241m.\u001b[39mcontent)\n",
      "File \u001b[0;32m~/.pyenv/versions/3.11.2/envs/agentic-3.11.2/lib/python3.11/site-packages/langgraph/pregel/__init__.py:2069\u001b[0m, in \u001b[0;36mPregel.invoke\u001b[0;34m(self, input, config, stream_mode, output_keys, interrupt_before, interrupt_after, debug, **kwargs)\u001b[0m\n\u001b[1;32m   2067\u001b[0m \u001b[38;5;28;01melse\u001b[39;00m:\n\u001b[1;32m   2068\u001b[0m     chunks \u001b[38;5;241m=\u001b[39m []\n\u001b[0;32m-> 2069\u001b[0m \u001b[43m\u001b[49m\u001b[38;5;28;43;01mfor\u001b[39;49;00m\u001b[43m \u001b[49m\u001b[43mchunk\u001b[49m\u001b[43m \u001b[49m\u001b[38;5;129;43;01min\u001b[39;49;00m\u001b[43m \u001b[49m\u001b[38;5;28;43mself\u001b[39;49m\u001b[38;5;241;43m.\u001b[39;49m\u001b[43mstream\u001b[49m\u001b[43m(\u001b[49m\n\u001b[1;32m   2070\u001b[0m \u001b[43m    \u001b[49m\u001b[38;5;28;43minput\u001b[39;49m\u001b[43m,\u001b[49m\n\u001b[1;32m   2071\u001b[0m \u001b[43m    \u001b[49m\u001b[43mconfig\u001b[49m\u001b[43m,\u001b[49m\n\u001b[1;32m   2072\u001b[0m \u001b[43m    \u001b[49m\u001b[43mstream_mode\u001b[49m\u001b[38;5;241;43m=\u001b[39;49m\u001b[43mstream_mode\u001b[49m\u001b[43m,\u001b[49m\n\u001b[1;32m   2073\u001b[0m \u001b[43m    \u001b[49m\u001b[43moutput_keys\u001b[49m\u001b[38;5;241;43m=\u001b[39;49m\u001b[43moutput_keys\u001b[49m\u001b[43m,\u001b[49m\n\u001b[1;32m   2074\u001b[0m \u001b[43m    \u001b[49m\u001b[43minterrupt_before\u001b[49m\u001b[38;5;241;43m=\u001b[39;49m\u001b[43minterrupt_before\u001b[49m\u001b[43m,\u001b[49m\n\u001b[1;32m   2075\u001b[0m \u001b[43m    \u001b[49m\u001b[43minterrupt_after\u001b[49m\u001b[38;5;241;43m=\u001b[39;49m\u001b[43minterrupt_after\u001b[49m\u001b[43m,\u001b[49m\n\u001b[1;32m   2076\u001b[0m \u001b[43m    \u001b[49m\u001b[43mdebug\u001b[49m\u001b[38;5;241;43m=\u001b[39;49m\u001b[43mdebug\u001b[49m\u001b[43m,\u001b[49m\n\u001b[1;32m   2077\u001b[0m \u001b[43m    \u001b[49m\u001b[38;5;241;43m*\u001b[39;49m\u001b[38;5;241;43m*\u001b[39;49m\u001b[43mkwargs\u001b[49m\u001b[43m,\u001b[49m\n\u001b[1;32m   2078\u001b[0m \u001b[43m\u001b[49m\u001b[43m)\u001b[49m\u001b[43m:\u001b[49m\n\u001b[1;32m   2079\u001b[0m \u001b[43m    \u001b[49m\u001b[38;5;28;43;01mif\u001b[39;49;00m\u001b[43m \u001b[49m\u001b[43mstream_mode\u001b[49m\u001b[43m \u001b[49m\u001b[38;5;241;43m==\u001b[39;49m\u001b[43m \u001b[49m\u001b[38;5;124;43m\"\u001b[39;49m\u001b[38;5;124;43mvalues\u001b[39;49m\u001b[38;5;124;43m\"\u001b[39;49m\u001b[43m:\u001b[49m\n\u001b[1;32m   2080\u001b[0m \u001b[43m        \u001b[49m\u001b[43mlatest\u001b[49m\u001b[43m \u001b[49m\u001b[38;5;241;43m=\u001b[39;49m\u001b[43m \u001b[49m\u001b[43mchunk\u001b[49m\n",
      "File \u001b[0;32m~/.pyenv/versions/3.11.2/envs/agentic-3.11.2/lib/python3.11/site-packages/langgraph/pregel/__init__.py:1724\u001b[0m, in \u001b[0;36mPregel.stream\u001b[0;34m(self, input, config, stream_mode, output_keys, interrupt_before, interrupt_after, debug, subgraphs)\u001b[0m\n\u001b[1;32m   1718\u001b[0m     \u001b[38;5;66;03m# Similarly to Bulk Synchronous Parallel / Pregel model\u001b[39;00m\n\u001b[1;32m   1719\u001b[0m     \u001b[38;5;66;03m# computation proceeds in steps, while there are channel updates.\u001b[39;00m\n\u001b[1;32m   1720\u001b[0m     \u001b[38;5;66;03m# Channel updates from step N are only visible in step N+1\u001b[39;00m\n\u001b[1;32m   1721\u001b[0m     \u001b[38;5;66;03m# channels are guaranteed to be immutable for the duration of the step,\u001b[39;00m\n\u001b[1;32m   1722\u001b[0m     \u001b[38;5;66;03m# with channel updates applied only at the transition between steps.\u001b[39;00m\n\u001b[1;32m   1723\u001b[0m     \u001b[38;5;28;01mwhile\u001b[39;00m loop\u001b[38;5;241m.\u001b[39mtick(input_keys\u001b[38;5;241m=\u001b[39m\u001b[38;5;28mself\u001b[39m\u001b[38;5;241m.\u001b[39minput_channels):\n\u001b[0;32m-> 1724\u001b[0m \u001b[43m        \u001b[49m\u001b[38;5;28;43;01mfor\u001b[39;49;00m\u001b[43m \u001b[49m\u001b[43m_\u001b[49m\u001b[43m \u001b[49m\u001b[38;5;129;43;01min\u001b[39;49;00m\u001b[43m \u001b[49m\u001b[43mrunner\u001b[49m\u001b[38;5;241;43m.\u001b[39;49m\u001b[43mtick\u001b[49m\u001b[43m(\u001b[49m\n\u001b[1;32m   1725\u001b[0m \u001b[43m            \u001b[49m\u001b[43mloop\u001b[49m\u001b[38;5;241;43m.\u001b[39;49m\u001b[43mtasks\u001b[49m\u001b[38;5;241;43m.\u001b[39;49m\u001b[43mvalues\u001b[49m\u001b[43m(\u001b[49m\u001b[43m)\u001b[49m\u001b[43m,\u001b[49m\n\u001b[1;32m   1726\u001b[0m \u001b[43m            \u001b[49m\u001b[43mtimeout\u001b[49m\u001b[38;5;241;43m=\u001b[39;49m\u001b[38;5;28;43mself\u001b[39;49m\u001b[38;5;241;43m.\u001b[39;49m\u001b[43mstep_timeout\u001b[49m\u001b[43m,\u001b[49m\n\u001b[1;32m   1727\u001b[0m \u001b[43m            \u001b[49m\u001b[43mretry_policy\u001b[49m\u001b[38;5;241;43m=\u001b[39;49m\u001b[38;5;28;43mself\u001b[39;49m\u001b[38;5;241;43m.\u001b[39;49m\u001b[43mretry_policy\u001b[49m\u001b[43m,\u001b[49m\n\u001b[1;32m   1728\u001b[0m \u001b[43m            \u001b[49m\u001b[43mget_waiter\u001b[49m\u001b[38;5;241;43m=\u001b[39;49m\u001b[43mget_waiter\u001b[49m\u001b[43m,\u001b[49m\n\u001b[1;32m   1729\u001b[0m \u001b[43m        \u001b[49m\u001b[43m)\u001b[49m\u001b[43m:\u001b[49m\n\u001b[1;32m   1730\u001b[0m \u001b[43m            \u001b[49m\u001b[38;5;66;43;03m# emit output\u001b[39;49;00m\n\u001b[1;32m   1731\u001b[0m \u001b[43m            \u001b[49m\u001b[38;5;28;43;01myield from\u001b[39;49;00m\u001b[43m \u001b[49m\u001b[43moutput\u001b[49m\u001b[43m(\u001b[49m\u001b[43m)\u001b[49m\n\u001b[1;32m   1732\u001b[0m \u001b[38;5;66;03m# emit output\u001b[39;00m\n",
      "File \u001b[0;32m~/.pyenv/versions/3.11.2/envs/agentic-3.11.2/lib/python3.11/site-packages/langgraph/pregel/runner.py:230\u001b[0m, in \u001b[0;36mPregelRunner.tick\u001b[0;34m(self, tasks, reraise, timeout, retry_policy, get_waiter)\u001b[0m\n\u001b[1;32m    228\u001b[0m t \u001b[38;5;241m=\u001b[39m tasks[\u001b[38;5;241m0\u001b[39m]\n\u001b[1;32m    229\u001b[0m \u001b[38;5;28;01mtry\u001b[39;00m:\n\u001b[0;32m--> 230\u001b[0m     \u001b[43mrun_with_retry\u001b[49m\u001b[43m(\u001b[49m\n\u001b[1;32m    231\u001b[0m \u001b[43m        \u001b[49m\u001b[43mt\u001b[49m\u001b[43m,\u001b[49m\n\u001b[1;32m    232\u001b[0m \u001b[43m        \u001b[49m\u001b[43mretry_policy\u001b[49m\u001b[43m,\u001b[49m\n\u001b[1;32m    233\u001b[0m \u001b[43m        \u001b[49m\u001b[43mconfigurable\u001b[49m\u001b[38;5;241;43m=\u001b[39;49m\u001b[43m{\u001b[49m\n\u001b[1;32m    234\u001b[0m \u001b[43m            \u001b[49m\u001b[43mCONFIG_KEY_SEND\u001b[49m\u001b[43m:\u001b[49m\u001b[43m \u001b[49m\u001b[43mpartial\u001b[49m\u001b[43m(\u001b[49m\u001b[43mwriter\u001b[49m\u001b[43m,\u001b[49m\u001b[43m \u001b[49m\u001b[43mt\u001b[49m\u001b[43m)\u001b[49m\u001b[43m,\u001b[49m\n\u001b[1;32m    235\u001b[0m \u001b[43m            \u001b[49m\u001b[43mCONFIG_KEY_CALL\u001b[49m\u001b[43m:\u001b[49m\u001b[43m \u001b[49m\u001b[43mpartial\u001b[49m\u001b[43m(\u001b[49m\u001b[43mcall\u001b[49m\u001b[43m,\u001b[49m\u001b[43m \u001b[49m\u001b[43mt\u001b[49m\u001b[43m)\u001b[49m\u001b[43m,\u001b[49m\n\u001b[1;32m    236\u001b[0m \u001b[43m        \u001b[49m\u001b[43m}\u001b[49m\u001b[43m,\u001b[49m\n\u001b[1;32m    237\u001b[0m \u001b[43m    \u001b[49m\u001b[43m)\u001b[49m\n\u001b[1;32m    238\u001b[0m     \u001b[38;5;28mself\u001b[39m\u001b[38;5;241m.\u001b[39mcommit(t, \u001b[38;5;28;01mNone\u001b[39;00m)\n\u001b[1;32m    239\u001b[0m \u001b[38;5;28;01mexcept\u001b[39;00m \u001b[38;5;167;01mException\u001b[39;00m \u001b[38;5;28;01mas\u001b[39;00m exc:\n",
      "File \u001b[0;32m~/.pyenv/versions/3.11.2/envs/agentic-3.11.2/lib/python3.11/site-packages/langgraph/pregel/retry.py:40\u001b[0m, in \u001b[0;36mrun_with_retry\u001b[0;34m(task, retry_policy, configurable)\u001b[0m\n\u001b[1;32m     38\u001b[0m     task\u001b[38;5;241m.\u001b[39mwrites\u001b[38;5;241m.\u001b[39mclear()\n\u001b[1;32m     39\u001b[0m     \u001b[38;5;66;03m# run the task\u001b[39;00m\n\u001b[0;32m---> 40\u001b[0m     \u001b[38;5;28;01mreturn\u001b[39;00m \u001b[43mtask\u001b[49m\u001b[38;5;241;43m.\u001b[39;49m\u001b[43mproc\u001b[49m\u001b[38;5;241;43m.\u001b[39;49m\u001b[43minvoke\u001b[49m\u001b[43m(\u001b[49m\u001b[43mtask\u001b[49m\u001b[38;5;241;43m.\u001b[39;49m\u001b[43minput\u001b[49m\u001b[43m,\u001b[49m\u001b[43m \u001b[49m\u001b[43mconfig\u001b[49m\u001b[43m)\u001b[49m\n\u001b[1;32m     41\u001b[0m \u001b[38;5;28;01mexcept\u001b[39;00m ParentCommand \u001b[38;5;28;01mas\u001b[39;00m exc:\n\u001b[1;32m     42\u001b[0m     ns: \u001b[38;5;28mstr\u001b[39m \u001b[38;5;241m=\u001b[39m config[CONF][CONFIG_KEY_CHECKPOINT_NS]\n",
      "File \u001b[0;32m~/.pyenv/versions/3.11.2/envs/agentic-3.11.2/lib/python3.11/site-packages/langgraph/utils/runnable.py:495\u001b[0m, in \u001b[0;36mRunnableSeq.invoke\u001b[0;34m(self, input, config, **kwargs)\u001b[0m\n\u001b[1;32m    491\u001b[0m config \u001b[38;5;241m=\u001b[39m patch_config(\n\u001b[1;32m    492\u001b[0m     config, callbacks\u001b[38;5;241m=\u001b[39mrun_manager\u001b[38;5;241m.\u001b[39mget_child(\u001b[38;5;124mf\u001b[39m\u001b[38;5;124m\"\u001b[39m\u001b[38;5;124mseq:step:\u001b[39m\u001b[38;5;132;01m{\u001b[39;00mi\u001b[38;5;250m \u001b[39m\u001b[38;5;241m+\u001b[39m\u001b[38;5;250m \u001b[39m\u001b[38;5;241m1\u001b[39m\u001b[38;5;132;01m}\u001b[39;00m\u001b[38;5;124m\"\u001b[39m)\n\u001b[1;32m    493\u001b[0m )\n\u001b[1;32m    494\u001b[0m \u001b[38;5;28;01mif\u001b[39;00m i \u001b[38;5;241m==\u001b[39m \u001b[38;5;241m0\u001b[39m:\n\u001b[0;32m--> 495\u001b[0m     \u001b[38;5;28minput\u001b[39m \u001b[38;5;241m=\u001b[39m \u001b[43mstep\u001b[49m\u001b[38;5;241;43m.\u001b[39;49m\u001b[43minvoke\u001b[49m\u001b[43m(\u001b[49m\u001b[38;5;28;43minput\u001b[39;49m\u001b[43m,\u001b[49m\u001b[43m \u001b[49m\u001b[43mconfig\u001b[49m\u001b[43m,\u001b[49m\u001b[43m \u001b[49m\u001b[38;5;241;43m*\u001b[39;49m\u001b[38;5;241;43m*\u001b[39;49m\u001b[43mkwargs\u001b[49m\u001b[43m)\u001b[49m\n\u001b[1;32m    496\u001b[0m \u001b[38;5;28;01melse\u001b[39;00m:\n\u001b[1;32m    497\u001b[0m     \u001b[38;5;28minput\u001b[39m \u001b[38;5;241m=\u001b[39m step\u001b[38;5;241m.\u001b[39minvoke(\u001b[38;5;28minput\u001b[39m, config)\n",
      "File \u001b[0;32m~/.pyenv/versions/3.11.2/envs/agentic-3.11.2/lib/python3.11/site-packages/langgraph/utils/runnable.py:251\u001b[0m, in \u001b[0;36mRunnableCallable.invoke\u001b[0;34m(self, input, config, **kwargs)\u001b[0m\n\u001b[1;32m    249\u001b[0m     context \u001b[38;5;241m=\u001b[39m copy_context()\n\u001b[1;32m    250\u001b[0m     context\u001b[38;5;241m.\u001b[39mrun(_set_config_context, child_config)\n\u001b[0;32m--> 251\u001b[0m     ret \u001b[38;5;241m=\u001b[39m \u001b[43mcontext\u001b[49m\u001b[38;5;241;43m.\u001b[39;49m\u001b[43mrun\u001b[49m\u001b[43m(\u001b[49m\u001b[38;5;28;43mself\u001b[39;49m\u001b[38;5;241;43m.\u001b[39;49m\u001b[43mfunc\u001b[49m\u001b[43m,\u001b[49m\u001b[43m \u001b[49m\u001b[38;5;241;43m*\u001b[39;49m\u001b[43margs\u001b[49m\u001b[43m,\u001b[49m\u001b[43m \u001b[49m\u001b[38;5;241;43m*\u001b[39;49m\u001b[38;5;241;43m*\u001b[39;49m\u001b[43mkwargs\u001b[49m\u001b[43m)\u001b[49m\n\u001b[1;32m    252\u001b[0m \u001b[38;5;28;01mexcept\u001b[39;00m \u001b[38;5;167;01mBaseException\u001b[39;00m \u001b[38;5;28;01mas\u001b[39;00m e:\n\u001b[1;32m    253\u001b[0m     run_manager\u001b[38;5;241m.\u001b[39mon_chain_error(e)\n",
      "File \u001b[0;32m~/.pyenv/versions/3.11.2/envs/agentic-3.11.2/lib/python3.11/site-packages/langgraph/pregel/write.py:96\u001b[0m, in \u001b[0;36mChannelWrite._write\u001b[0;34m(self, input, config)\u001b[0m\n\u001b[1;32m     87\u001b[0m \u001b[38;5;28;01mdef\u001b[39;00m\u001b[38;5;250m \u001b[39m\u001b[38;5;21m_write\u001b[39m(\u001b[38;5;28mself\u001b[39m, \u001b[38;5;28minput\u001b[39m: Any, config: RunnableConfig) \u001b[38;5;241m-\u001b[39m\u001b[38;5;241m>\u001b[39m \u001b[38;5;28;01mNone\u001b[39;00m:\n\u001b[1;32m     88\u001b[0m     writes \u001b[38;5;241m=\u001b[39m [\n\u001b[1;32m     89\u001b[0m         ChannelWriteEntry(write\u001b[38;5;241m.\u001b[39mchannel, \u001b[38;5;28minput\u001b[39m, write\u001b[38;5;241m.\u001b[39mskip_none, write\u001b[38;5;241m.\u001b[39mmapper)\n\u001b[1;32m     90\u001b[0m         \u001b[38;5;28;01mif\u001b[39;00m \u001b[38;5;28misinstance\u001b[39m(write, ChannelWriteEntry) \u001b[38;5;129;01mand\u001b[39;00m write\u001b[38;5;241m.\u001b[39mvalue \u001b[38;5;129;01mis\u001b[39;00m PASSTHROUGH\n\u001b[0;32m   (...)\u001b[0m\n\u001b[1;32m     94\u001b[0m         \u001b[38;5;28;01mfor\u001b[39;00m write \u001b[38;5;129;01min\u001b[39;00m \u001b[38;5;28mself\u001b[39m\u001b[38;5;241m.\u001b[39mwrites\n\u001b[1;32m     95\u001b[0m     ]\n\u001b[0;32m---> 96\u001b[0m     \u001b[38;5;28;43mself\u001b[39;49m\u001b[38;5;241;43m.\u001b[39;49m\u001b[43mdo_write\u001b[49m\u001b[43m(\u001b[49m\n\u001b[1;32m     97\u001b[0m \u001b[43m        \u001b[49m\u001b[43mconfig\u001b[49m\u001b[43m,\u001b[49m\n\u001b[1;32m     98\u001b[0m \u001b[43m        \u001b[49m\u001b[43mwrites\u001b[49m\u001b[43m,\u001b[49m\n\u001b[1;32m     99\u001b[0m \u001b[43m        \u001b[49m\u001b[38;5;28;43mself\u001b[39;49m\u001b[38;5;241;43m.\u001b[39;49m\u001b[43mrequire_at_least_one_of\u001b[49m\u001b[43m \u001b[49m\u001b[38;5;28;43;01mif\u001b[39;49;00m\u001b[43m \u001b[49m\u001b[38;5;28;43minput\u001b[39;49m\u001b[43m \u001b[49m\u001b[38;5;129;43;01mis\u001b[39;49;00m\u001b[43m \u001b[49m\u001b[38;5;129;43;01mnot\u001b[39;49;00m\u001b[43m \u001b[49m\u001b[38;5;28;43;01mNone\u001b[39;49;00m\u001b[43m \u001b[49m\u001b[38;5;28;43;01melse\u001b[39;49;00m\u001b[43m \u001b[49m\u001b[38;5;28;43;01mNone\u001b[39;49;00m\u001b[43m,\u001b[49m\n\u001b[1;32m    100\u001b[0m \u001b[43m    \u001b[49m\u001b[43m)\u001b[49m\n\u001b[1;32m    101\u001b[0m     \u001b[38;5;28;01mreturn\u001b[39;00m \u001b[38;5;28minput\u001b[39m\n",
      "File \u001b[0;32m~/.pyenv/versions/3.11.2/envs/agentic-3.11.2/lib/python3.11/site-packages/langgraph/pregel/write.py:157\u001b[0m, in \u001b[0;36mChannelWrite.do_write\u001b[0;34m(config, writes, require_at_least_one_of)\u001b[0m\n\u001b[1;32m    155\u001b[0m \u001b[38;5;28;01mif\u001b[39;00m require_at_least_one_of \u001b[38;5;129;01mis\u001b[39;00m \u001b[38;5;129;01mnot\u001b[39;00m \u001b[38;5;28;01mNone\u001b[39;00m:\n\u001b[1;32m    156\u001b[0m     \u001b[38;5;28;01mif\u001b[39;00m \u001b[38;5;129;01mnot\u001b[39;00m {chan \u001b[38;5;28;01mfor\u001b[39;00m chan, _ \u001b[38;5;129;01min\u001b[39;00m tuples} \u001b[38;5;241m&\u001b[39m \u001b[38;5;28mset\u001b[39m(require_at_least_one_of):\n\u001b[0;32m--> 157\u001b[0m         \u001b[38;5;28;01mraise\u001b[39;00m InvalidUpdateError(\n\u001b[1;32m    158\u001b[0m             \u001b[38;5;124mf\u001b[39m\u001b[38;5;124m\"\u001b[39m\u001b[38;5;124mMust write to at least one of \u001b[39m\u001b[38;5;132;01m{\u001b[39;00mrequire_at_least_one_of\u001b[38;5;132;01m}\u001b[39;00m\u001b[38;5;124m\"\u001b[39m\n\u001b[1;32m    159\u001b[0m         )\n\u001b[1;32m    160\u001b[0m write: TYPE_SEND \u001b[38;5;241m=\u001b[39m config[CONF][CONFIG_KEY_SEND]\n\u001b[1;32m    161\u001b[0m write(tuples)\n",
      "\u001b[0;31mInvalidUpdateError\u001b[0m: Must write to at least one of []",
      "\u001b[0mDuring task with name '__start__' and id '7808c833-627a-a9e5-8ff9-5c6180f2424d'"
     ]
    }
   ],
   "source": [
    "response1 = graph.invoke({\n",
    "    \"messages\": [HumanMessage(content=\"Tell me the latest news on the stock market?\")]\n",
    "})\n",
    "print(response1.content)"
   ]
  },
  {
   "cell_type": "code",
   "execution_count": 10,
   "metadata": {},
   "outputs": [
    {
     "name": "stdout",
     "output_type": "stream",
     "text": [
      "bar_chart_generator\n"
     ]
    }
   ],
   "source": [
    "response2 = supervisor.invoke({\n",
    "    \"messages\": [HumanMessage(content=\"Mike is 41, Joe is 30. Give me a visual representation of this data.\")]\n",
    "})\n",
    "print(response2.content)  "
   ]
  },
  {
   "cell_type": "code",
   "execution_count": 11,
   "metadata": {},
   "outputs": [
    {
     "name": "stdout",
     "output_type": "stream",
     "text": [
      "FINISH\n"
     ]
    }
   ],
   "source": [
    "response3 = supervisor.invoke({\n",
    "    \"messages\": [HumanMessage(content=\"I'm done with my task.\")]\n",
    "})\n",
    "print(response3.content)"
   ]
  }
 ],
 "metadata": {
  "kernelspec": {
   "display_name": "agentic-3.11.2",
   "language": "python",
   "name": "python3"
  },
  "language_info": {
   "codemirror_mode": {
    "name": "ipython",
    "version": 3
   },
   "file_extension": ".py",
   "mimetype": "text/x-python",
   "name": "python",
   "nbconvert_exporter": "python",
   "pygments_lexer": "ipython3",
   "version": "3.11.2"
  }
 },
 "nbformat": 4,
 "nbformat_minor": 2
}
