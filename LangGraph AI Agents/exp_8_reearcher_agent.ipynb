{
 "cells": [
  {
   "cell_type": "markdown",
   "metadata": {},
   "source": [
    "# Researcher Agent"
   ]
  },
  {
   "cell_type": "code",
   "execution_count": 16,
   "metadata": {},
   "outputs": [],
   "source": [
    "import os\n",
    "import sys\n",
    "import random\n",
    "import json\n",
    "from pydantic import BaseModel, Field\n",
    "from dataclasses import dataclass, field\n",
    "import plotext\n",
    "import numpy\n",
    "from enum import Enum\n",
    "import asyncio\n",
    "\n",
    "from typing import Annotated, Literal, Sequence, Union, List, Dict, Tuple, Optional, Any\n",
    "from typing_extensions import TypedDict\n",
    "\n",
    "from langchain_core.messages import HumanMessage, SystemMessage, BaseMessage, FunctionMessage, \\\n",
    "                                    AIMessage, ToolCall\n",
    "\n",
    "from langchain_openai import ChatOpenAI\n",
    "from langchain_community.tools import TavilySearchResults\n",
    "from langgraph.graph import StateGraph, START, END\n",
    "from langgraph.prebuilt import ToolNode\n",
    "from langgraph.graph.message import add_messages\n",
    "from langchain_core.tools import tool\n",
    "from langgraph.checkpoint.memory import MemorySaver\n",
    "from langchain_core.messages import ToolMessage\n",
    "from langchain.output_parsers import JsonOutputKeyToolsParser\n",
    "from langchain.prompts import ChatPromptTemplate, MessagesPlaceholder\n",
    "\n",
    "from IPython.display import Image, display\n",
    "\n",
    "sys.path.append(os.path.abspath(os.path.join(os.getcwd(), '..')))\n",
    "\n",
    "from lib.utils import set_chatgpt_env, set_langsmith_env, set_tavily_env"
   ]
  },
  {
   "cell_type": "markdown",
   "metadata": {},
   "source": [
    "## Reducer Example"
   ]
  },
  {
   "cell_type": "markdown",
   "metadata": {},
   "source": [
    "## Utils"
   ]
  },
  {
   "cell_type": "code",
   "execution_count": null,
   "metadata": {},
   "outputs": [
    {
     "ename": "NameError",
     "evalue": "name 'Annotation' is not defined",
     "output_type": "error",
     "traceback": [
      "\u001b[0;31m---------------------------------------------------------------------------\u001b[0m",
      "\u001b[0;31mNameError\u001b[0m                                 Traceback (most recent call last)",
      "Cell \u001b[0;32mIn[10], line 10\u001b[0m\n\u001b[1;32m      6\u001b[0m \u001b[38;5;28;01mclass\u001b[39;00m\u001b[38;5;250m \u001b[39m\u001b[38;5;21;01mWorkerAgentState\u001b[39;00m(TypedDict):\n\u001b[1;32m      7\u001b[0m     messages: Annotated[Sequence[BaseMessage], add_messages]\n\u001b[0;32m---> 10\u001b[0m SupervisorAgentState \u001b[38;5;241m=\u001b[39m \u001b[43mAnnotation\u001b[49m\u001b[38;5;241m.\u001b[39mRoot({\n\u001b[1;32m     11\u001b[0m     \u001b[38;5;124m\"\u001b[39m\u001b[38;5;124mmessages\u001b[39m\u001b[38;5;124m\"\u001b[39m: Annotation({\n\u001b[1;32m     12\u001b[0m         \u001b[38;5;124m\"\u001b[39m\u001b[38;5;124mreducer\u001b[39m\u001b[38;5;124m\"\u001b[39m: \u001b[38;5;28;01mlambda\u001b[39;00m x, y: x \u001b[38;5;241m+\u001b[39m y,  \u001b[38;5;66;03m# concatenate lists\u001b[39;00m\n\u001b[1;32m     13\u001b[0m         \u001b[38;5;124m\"\u001b[39m\u001b[38;5;124mdefault\u001b[39m\u001b[38;5;124m\"\u001b[39m: \u001b[38;5;28;01mlambda\u001b[39;00m: []\n\u001b[1;32m     14\u001b[0m     }),\n\u001b[1;32m     15\u001b[0m     \u001b[38;5;124m\"\u001b[39m\u001b[38;5;124mnext\u001b[39m\u001b[38;5;124m\"\u001b[39m: Annotation({\n\u001b[1;32m     16\u001b[0m         \u001b[38;5;124m\"\u001b[39m\u001b[38;5;124mreducer\u001b[39m\u001b[38;5;124m\"\u001b[39m: \u001b[38;5;28;01mlambda\u001b[39;00m x, y: y \u001b[38;5;28;01mif\u001b[39;00m y \u001b[38;5;129;01mis\u001b[39;00m \u001b[38;5;129;01mnot\u001b[39;00m \u001b[38;5;28;01mNone\u001b[39;00m \u001b[38;5;28;01melse\u001b[39;00m (x \u001b[38;5;28;01mif\u001b[39;00m x \u001b[38;5;129;01mis\u001b[39;00m \u001b[38;5;129;01mnot\u001b[39;00m \u001b[38;5;28;01mNone\u001b[39;00m \u001b[38;5;28;01melse\u001b[39;00m END),\n\u001b[1;32m     17\u001b[0m         \u001b[38;5;124m\"\u001b[39m\u001b[38;5;124mdefault\u001b[39m\u001b[38;5;124m\"\u001b[39m: \u001b[38;5;28;01mlambda\u001b[39;00m: END\n\u001b[1;32m     18\u001b[0m     })\n\u001b[1;32m     19\u001b[0m })\n\u001b[1;32m     22\u001b[0m \u001b[38;5;28;01mdef\u001b[39;00m\u001b[38;5;250m \u001b[39m\u001b[38;5;21mcreate_agent_node\u001b[39m(agent, node_name):\n\u001b[1;32m     23\u001b[0m     \u001b[38;5;28;01masync\u001b[39;00m \u001b[38;5;28;01mdef\u001b[39;00m\u001b[38;5;250m \u001b[39m\u001b[38;5;21mnode\u001b[39m(state: Annotation\u001b[38;5;241m.\u001b[39mRoot, config\u001b[38;5;241m=\u001b[39m\u001b[38;5;28;01mNone\u001b[39;00m):\n",
      "\u001b[0;31mNameError\u001b[0m: name 'Annotation' is not defined"
     ]
    }
   ],
   "source": [
    "def build_llm():\n",
    "    \"\"\"Build an LLM with a custom model name.\"\"\"\n",
    "    return ChatOpenAI(model=\"gpt-4\", temperature=0)\n",
    "\n",
    "\n",
    "class WorkerState(TypedDict):\n",
    "    messages: Annotated[Sequence[BaseMessage], add_messages]\n",
    "\n",
    "\n",
    "class SupervisorState(BaseModel):\n",
    "    messages: List[HumanMessage] = Field(default_factory=list)\n",
    "    next: Optional[Any] = Field(default=END)\n",
    "\n",
    "    def merge(self, other: \"SupervisorState\") -> \"SupervisorState\":\n",
    "        \"\"\"\n",
    "        Merge the current state with another state instance using the following reducers:\n",
    "          - For `messages`, concatenate the lists.\n",
    "          - For `next`, choose `other.next` if it's not None; otherwise, use `self.next` if available; else, default to END.\n",
    "        \"\"\"\n",
    "        merged_messages = self.messages + other.messages\n",
    "        merged_next = other.next if other.next is not None else (self.next if self.next is not None else END)\n",
    "        return SupervisorState(messages=merged_messages, next=merged_next)\n",
    "\n",
    "\n",
    "def create_agent_node(agent: Any, node_name: str):\n",
    "    async def node(state: Dict[str, Any], config=None):\n",
    "        result = await agent.invoke(state, config)\n",
    "        content = result.messages[-1].content\n",
    "        return SupervisorState(messages=state.messages + [HumanMessage(content=content, name=node_name)])\n",
    "    return node\n",
    "\n",
    "\n",
    "def should_continue(state: WorkerState):\n",
    "    messages = state[\"messages\"]\n",
    "    ai_message = messages[-1]\n",
    "    \n",
    "    # Check if it's an AI message with tool calls\n",
    "    if hasattr(ai_message, \"tool_calls\") and len(ai_message.tool_calls) > 0:\n",
    "        return \"tool\"\n",
    "    return END\n",
    "\n",
    "\n",
    "set_langsmith_env()\n",
    "set_chatgpt_env()\n",
    "set_tavily_env()"
   ]
  },
  {
   "cell_type": "markdown",
   "metadata": {},
   "source": [
    "## Search Agent"
   ]
  },
  {
   "cell_type": "code",
   "execution_count": 9,
   "metadata": {},
   "outputs": [
    {
     "ename": "NameError",
     "evalue": "name 'WorkerAgentState' is not defined",
     "output_type": "error",
     "traceback": [
      "\u001b[0;31m---------------------------------------------------------------------------\u001b[0m",
      "\u001b[0;31mNameError\u001b[0m                                 Traceback (most recent call last)",
      "Cell \u001b[0;32mIn[9], line 8\u001b[0m\n\u001b[1;32m      5\u001b[0m researcher_tools \u001b[38;5;241m=\u001b[39m [tavily_tool]\n\u001b[1;32m      6\u001b[0m researcher_tool_node \u001b[38;5;241m=\u001b[39m ToolNode(researcher_tools)\n\u001b[0;32m----> 8\u001b[0m \u001b[38;5;28;01mdef\u001b[39;00m\u001b[38;5;250m \u001b[39m\u001b[38;5;21mresearcher_model\u001b[39m(state: \u001b[43mWorkerAgentState\u001b[49m) \u001b[38;5;241m-\u001b[39m\u001b[38;5;241m>\u001b[39m WorkerAgentState:\n\u001b[1;32m      9\u001b[0m \u001b[38;5;250m    \u001b[39m\u001b[38;5;124;03m\"\"\"Call the model with the current state.\"\"\"\u001b[39;00m\n\u001b[1;32m     10\u001b[0m     messages \u001b[38;5;241m=\u001b[39m state[\u001b[38;5;124m\"\u001b[39m\u001b[38;5;124mmessages\u001b[39m\u001b[38;5;124m\"\u001b[39m]\n",
      "\u001b[0;31mNameError\u001b[0m: name 'WorkerAgentState' is not defined"
     ]
    }
   ],
   "source": [
    "researcher_llm = build_llm()\n",
    "\n",
    "# Initialize tools\n",
    "tavily_tool = TavilySearchResults()\n",
    "researcher_tools = [tavily_tool]\n",
    "researcher_tool_node = ToolNode(researcher_tools)\n",
    "\n",
    "def researcher_model(state: WorkerAgentState) -> WorkerAgentState:\n",
    "    \"\"\"Call the model with the current state.\"\"\"\n",
    "    messages = state[\"messages\"]\n",
    "    result = researcher_llm.bind_tools(researcher_tool_node).invoke(messages)\n",
    "    return {\"messages\": [result]}\n",
    "\n",
    "def researcher_should_continue(state: WorkerAgentState):\n",
    "    messages = state[\"messages\"]\n",
    "    ai_message = messages[-1]\n",
    "    \n",
    "    # Check if it's an AI message with tool calls\n",
    "    if hasattr(ai_message, \"tool_calls\") and len(ai_message.tool_calls) > 0:\n",
    "        return \"tool\"\n",
    "    return END\n",
    "\n",
    "# Create the graph\n",
    "researcher_graph = (\n",
    "    StateGraph(WorkerAgentState)\n",
    "    .add_node(\"model\", researcher_model)\n",
    "    .add_node(\"tool\", researcher_tool_node)\n",
    "    .add_edge(START, \"model\")\n",
    "    .add_edge(\"tool\", \"model\")\n",
    "    .add_conditional_edges(\n",
    "        \"model\",\n",
    "        should_continue,\n",
    "        {\n",
    "            \"tool\": \"tool\",\n",
    "            END: END,\n",
    "        }\n",
    "    )\n",
    ")\n",
    "\n",
    "# Compile the graph\n",
    "researcher_agent = researcher_graph.compile()\n",
    "\n",
    "display(Image(researcher_agent.get_graph().draw_mermaid_png()))"
   ]
  },
  {
   "cell_type": "markdown",
   "metadata": {},
   "source": [
    "## Bar Chart Agent"
   ]
  },
  {
   "cell_type": "code",
   "execution_count": 4,
   "metadata": {},
   "outputs": [
    {
     "data": {
      "image/png": "[encoded data removed]",
      "text/plain": [
       "<IPython.core.display.Image object>"
      ]
     },
     "metadata": {},
     "output_type": "display_data"
    }
   ],
   "source": [
    "bar_chart_llm = build_llm()\n",
    "\n",
    "# Define tool schema\n",
    "class BarChartInput(BaseModel):\n",
    "    \"\"\"Input schema for the bar chart generator.\"\"\"\n",
    "    data: Dict[str, float] = Field(..., description=\"Dictionary where keys are labels and values are numeric values to plot\")\n",
    "    title: str = Field(default=\"Bar Chart\", description=\"Title of the chart\")\n",
    "    \n",
    "# Create the tool\n",
    "@tool(args_schema=BarChartInput)\n",
    "def generate_bar_chart(data: Dict[str, float], title: str) -> str:\n",
    "    \"\"\"Generate a bar chart from data points and display it.\n",
    "    \n",
    "    Parameters\n",
    "    ----------\n",
    "        data: Dict[str, float]\n",
    "            Dictionary where keys are labels and values are numeric values to plot\n",
    "        title: str\n",
    "            Title of the chart (optional, defaults to \"Bar Chart\")\n",
    "        \n",
    "    Returns:\n",
    "        plot as string\n",
    "        \n",
    "    Example:\n",
    "        input = BarChartInput(\n",
    "            data={\"A\": 10, \"B\": 20, \"C\": 15},\n",
    "            title=\"Sample Chart\"\n",
    "        )\n",
    "    \"\"\"\n",
    "\n",
    "    cats = list(data.keys())\n",
    "    vals = list(data.values())\n",
    "    plotext.clear_figure()\n",
    "    plotext.bar(cats, vals)\n",
    "    plotext.title(title)\n",
    "    \n",
    "    return plotext.build()\n",
    "\n",
    "\n",
    "bar_chart_tools = [generate_bar_chart]\n",
    "bar_chart_tool_node = ToolNode(tools=bar_chart_tools)\n",
    "\n",
    "# Define agent node with tools\n",
    "def bar_chart_model(state: AgentState):\n",
    "    \"\"\"Call the agent with the current state.\"\"\"\n",
    "    messages = state[\"messages\"]\n",
    "    result = bar_chart_llm.bind_tools(bar_chart_tools).invoke(messages)\n",
    "    return {\"messages\": [result]}\n",
    "\n",
    "def bar_chart_should_continue(state: AgentState):\n",
    "    messages = state[\"messages\"]\n",
    "    ai_message = messages[-1]\n",
    "\n",
    "    # Check if it's an AI message with tool calls\n",
    "    if hasattr(ai_message, \"tool_calls\") and len(ai_message.tool_calls) > 0:\n",
    "        return \"tool\"\n",
    "    return END\n",
    "    \n",
    "# Create and configure the graph\n",
    "bar_chart_workflow = StateGraph(AgentState)\n",
    "bar_chart_workflow.add_node(\"model\", bar_chart_model)\n",
    "bar_chart_workflow.add_node(\"tool\", bar_chart_tool_node)\n",
    "\n",
    "bar_chart_workflow.add_edge(START, \"model\")\n",
    "bar_chart_workflow.add_edge(\"tool\", \"model\")\n",
    "bar_chart_workflow.add_conditional_edges(\n",
    "    \"model\",\n",
    "    bar_chart_should_continue,\n",
    "    {\n",
    "        \"tool\": \"tool\",\n",
    "        END: END\n",
    "    }\n",
    ")\n",
    "bar_chart_workflow.add_edge(\"model\", END)\n",
    "\n",
    "# Compile the graph\n",
    "bar_chart_agent = bar_chart_workflow.compile()\n",
    "\n",
    "display(Image(bar_chart_agent.get_graph().draw_mermaid_png()))"
   ]
  },
  {
   "cell_type": "markdown",
   "metadata": {},
   "source": [
    "## Supervisor Agent"
   ]
  },
  {
   "cell_type": "code",
   "execution_count": null,
   "metadata": {},
   "outputs": [
    {
     "name": "stdout",
     "output_type": "stream",
     "text": [
      "input_variables=['messages'] input_types={'messages': list[typing.Annotated[typing.Union[typing.Annotated[langchain_core.messages.ai.AIMessage, Tag(tag='ai')], typing.Annotated[langchain_core.messages.human.HumanMessage, Tag(tag='human')], typing.Annotated[langchain_core.messages.chat.ChatMessage, Tag(tag='chat')], typing.Annotated[langchain_core.messages.system.SystemMessage, Tag(tag='system')], typing.Annotated[langchain_core.messages.function.FunctionMessage, Tag(tag='function')], typing.Annotated[langchain_core.messages.tool.ToolMessage, Tag(tag='tool')], typing.Annotated[langchain_core.messages.ai.AIMessageChunk, Tag(tag='AIMessageChunk')], typing.Annotated[langchain_core.messages.human.HumanMessageChunk, Tag(tag='HumanMessageChunk')], typing.Annotated[langchain_core.messages.chat.ChatMessageChunk, Tag(tag='ChatMessageChunk')], typing.Annotated[langchain_core.messages.system.SystemMessageChunk, Tag(tag='SystemMessageChunk')], typing.Annotated[langchain_core.messages.function.FunctionMessageChunk, Tag(tag='FunctionMessageChunk')], typing.Annotated[langchain_core.messages.tool.ToolMessageChunk, Tag(tag='ToolMessageChunk')]], FieldInfo(annotation=NoneType, required=True, discriminator=Discriminator(discriminator=<function _get_type at 0x10cfe5ee0>, custom_error_type=None, custom_error_message=None, custom_error_context=None))]]} partial_variables={'options': 'FINISH, researcher, bar_chart_generator', 'team_members': 'researcher, bar_chart_generator'} messages=[SystemMessagePromptTemplate(prompt=PromptTemplate(input_variables=['team_members'], input_types={}, partial_variables={}, template='You are a supervisor tasked with managing a conversation between the following workers: {team_members}. Given the following user request, respond with the worker to act next. Each worker will perform a task and respond with their results and status. When finished, respond with FINISH.'), additional_kwargs={}), MessagesPlaceholder(variable_name='messages'), SystemMessagePromptTemplate(prompt=PromptTemplate(input_variables=['options'], input_types={}, partial_variables={}, template='Given the conversation above, who should act next? Or should we FINISH? Select one of: {options}'), additional_kwargs={})]\n"
     ]
    }
   ],
   "source": [
    "team_members = [\"researcher\", \"bar_chart_generator\"]\n",
    "END = \"FINISH\"\n",
    "options = [END] + team_members\n",
    "\n",
    "system_prompt = (\n",
    "    \"You are a supervisor tasked with managing a conversation between the \"\n",
    "    \"following workers: {team_members}. Given the following user request, \"\n",
    "    \"respond with the worker to act next. Each worker will perform a task \"\n",
    "    \"and respond with their results and status. When finished, respond with FINISH.\"\n",
    ")\n",
    "\n",
    "class RoutingSchema(BaseModel):\n",
    "    next: Literal[\"FINISH\", \"researcher\", \"bar_chart_generator\"]\n",
    "\n",
    "\n",
    "prompt = ChatPromptTemplate.from_messages([\n",
    "    (\"system\", system_prompt),\n",
    "    MessagesPlaceholder(variable_name=\"messages\"),\n",
    "    (\n",
    "        \"system\",\n",
    "        \"Given the conversation above, who should act next? \"\n",
    "        \"Or should we FINISH? Select one of: {options}\"\n",
    "    ),\n",
    "])\n",
    "\n",
    "formatted_prompt = prompt.partial(\n",
    "    options=\", \".join(options), team_members=\", \".join(team_members)\n",
    ")\n",
    "\n",
    "# Initialize LLM\n",
    "supervisor_llm = build_llm()\n",
    "\n",
    "# Define supervisor\n",
    "supervisor = formatted_prompt | supervisor_llm"
   ]
  },
  {
   "cell_type": "code",
   "execution_count": 6,
   "metadata": {},
   "outputs": [
    {
     "name": "stdout",
     "output_type": "stream",
     "text": [
      "researcher\n",
      "bar_chart_generator\n",
      "FINISH\n"
     ]
    }
   ],
   "source": [
    "# Invoke supervisor with a sample message\n",
    "response1 = supervisor.invoke({\n",
    "    \"messages\": [HumanMessage(content=\"Tell me the latest news on the stock market?\")]\n",
    "})\n",
    "print(response1.content)  # Expected Output: {\"next\": \"researcher\"}\n",
    "\n",
    "response2 = supervisor.invoke({\n",
    "    \"messages\": [HumanMessage(content=\"Mike is 41, Joe is 30. Give me a visual representation of this data.\")]\n",
    "})\n",
    "print(response2.content)  \n",
    "\n",
    "response3 = supervisor.invoke({\n",
    "    \"messages\": [HumanMessage(content=\"I'm done with my task.\")]\n",
    "})\n",
    "print(response3.content)"
   ]
  }
 ],
 "metadata": {
  "kernelspec": {
   "display_name": "agentic-3.11.2",
   "language": "python",
   "name": "python3"
  },
  "language_info": {
   "codemirror_mode": {
    "name": "ipython",
    "version": 3
   },
   "file_extension": ".py",
   "mimetype": "text/x-python",
   "name": "python",
   "nbconvert_exporter": "python",
   "pygments_lexer": "ipython3",
   "version": "3.11.2"
  }
 },
 "nbformat": 4,
 "nbformat_minor": 2
}
