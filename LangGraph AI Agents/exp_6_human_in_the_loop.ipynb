{
 "cells": [
  {
   "cell_type": "markdown",
   "metadata": {},
   "source": [
    "# Human in the Loop"
   ]
  },
  {
   "cell_type": "code",
   "execution_count": 1,
   "metadata": {},
   "outputs": [],
   "source": [
    "import os\n",
    "import sys\n",
    "import random\n",
    "import json\n",
    "from pydantic import BaseModel, Field\n",
    "from dataclasses import dataclass, field\n",
    "\n",
    "from typing import Annotated, Literal, Sequence\n",
    "from typing_extensions import TypedDict\n",
    "\n",
    "from langchain_core.messages import HumanMessage, SystemMessage, BaseMessage, FunctionMessage\n",
    "from langchain_openai import OpenAI, ChatOpenAI\n",
    "from langgraph.graph import StateGraph, START, END\n",
    "from langgraph.prebuilt import ToolNode\n",
    "from langgraph.graph.message import add_messages\n",
    "from langchain_core.tools import tool\n",
    "from langgraph.checkpoint.memory import MemorySaver\n",
    "from langchain_core.messages import ToolMessage\n",
    "\n",
    "from IPython.display import Image, display\n",
    "\n",
    "sys.path.append(os.path.abspath(os.path.join(os.getcwd(), '..')))\n",
    "\n",
    "from lib.utils import set_chatgpt_env, set_langsmith_env"
   ]
  },
  {
   "cell_type": "code",
   "execution_count": 2,
   "metadata": {},
   "outputs": [],
   "source": [
    "set_langsmith_env()\n",
    "set_chatgpt_env()"
   ]
  },
  {
   "cell_type": "markdown",
   "metadata": {},
   "source": [
    "## Purchase Ticket Tool"
   ]
  },
  {
   "cell_type": "code",
   "execution_count": 3,
   "metadata": {},
   "outputs": [
    {
     "data": {
      "image/png": "[encoded data removed]",
      "text/plain": [
       "<IPython.core.display.Image object>"
      ]
     },
     "metadata": {},
     "output_type": "display_data"
    }
   ],
   "source": [
    "# Define tool schema\n",
    "class PurchaseTicketInput(BaseModel):\n",
    "    destination: str = Field(..., description=\"The destination of the plane ticket.\")\n",
    "    \n",
    "# Initialize LLM\n",
    "llm = ChatOpenAI(\n",
    "    model=\"gpt-4\",\n",
    "    temperature=0\n",
    ")\n",
    "\n",
    "# Create the tool\n",
    "@tool(args_schema=PurchaseTicketInput)\n",
    "def purchase_ticket(destination: str) -> str:\n",
    "    \"\"\"Buy a plane ticket for a given destination.\"\"\"\n",
    "    return f\"Purchased ticket to {destination}\"\n",
    "\n",
    "tools = [purchase_ticket]\n",
    "llm_with_tools = llm.bind_tools(tools)\n",
    "node_tool = ToolNode(tools=tools)\n",
    "\n",
    "# Define state type\n",
    "class State(TypedDict):\n",
    "    messages: Annotated[Sequence[BaseMessage], add_messages]\n",
    "    ask_human_use_credit_card: bool\n",
    "\n",
    "# Define agent node with tools\n",
    "def node_agent(state: State):\n",
    "    messages = state[\"messages\"]\n",
    "    result = llm_with_tools.invoke(messages)  # Simple invoke without tools\n",
    "    return {\"messages\": [result]}\n",
    "\n",
    "def should_continue(state: State):\n",
    "    messages = state[\"messages\"]\n",
    "    ai_message = messages[-1]\n",
    "    \n",
    "    # Check if it's an AI message with tool calls\n",
    "    if hasattr(ai_message, \"tool_calls\") and len(ai_message.tool_calls) > 0:\n",
    "        return \"tool\"\n",
    "    return END\n",
    "    \n",
    "# Create and configure the graph\n",
    "workflow = StateGraph(State)\n",
    "workflow.add_node(\"agent\", node_agent)\n",
    "workflow.add_node(\"tool\", node_tool)\n",
    "\n",
    "workflow.add_edge(START, \"agent\")\n",
    "workflow.add_edge(\"tool\", \"agent\")\n",
    "workflow.add_conditional_edges(\n",
    "    \"agent\",\n",
    "    should_continue,\n",
    "    {\n",
    "        \"tool\": \"tool\",\n",
    "        END: END\n",
    "    }\n",
    ")\n",
    "\n",
    "workflow.add_edge(\"agent\", END)\n",
    "\n",
    "# Initialize memory checkpointer\n",
    "checkpointer = MemorySaver()\n",
    "\n",
    "# Compile the graph\n",
    "graph = workflow.compile(checkpointer=checkpointer)\n",
    "\n",
    "display(Image(graph.get_graph().draw_mermaid_png()))"
   ]
  },
  {
   "cell_type": "code",
   "execution_count": 4,
   "metadata": {},
   "outputs": [
    {
     "name": "stdout",
     "output_type": "stream",
     "text": [
      "\n",
      "WAIT: We need human authorization for this operation.\n",
      "\n",
      "Final Result: I have successfully booked your plane ticket to Tokyo. Enjoy your trip!\n",
      "Goodbye!\n"
     ]
    }
   ],
   "source": [
    "user_input = \"I want to go to Tokyo\"\n",
    "def stream_graph_updates(user_input: str):\n",
    "    input_message = {\n",
    "        \"messages\": [\n",
    "            SystemMessage(content=\"You are a helpful travel assistant that can book plane tickets.\"),\n",
    "            HumanMessage(content=user_input)\n",
    "        ],\n",
    "        \"ask_human_use_credit_card\": False\n",
    "    }\n",
    "    \n",
    "    config = {\n",
    "        \"configurable\": {\"thread_id\": \"t1\"},\n",
    "        \"checkpoint_ns\": \"travel_agent\",  # Name space for related interactions\n",
    "        \"checkpoint_id\": \"request\"        \n",
    "    }\n",
    "    result = graph.invoke(input_message, config)\n",
    "\n",
    "    # Check state for credit card authorization\n",
    "    print(\"\\nWAIT: We need human authorization for this operation.\")\n",
    "    user_input = input(\"Type 'yes' to allow credit card use: \").lower().strip()\n",
    "\n",
    "    # Update state with user authorization\n",
    "    current_state = graph.get_state(config)\n",
    "    new_state = {\n",
    "        \"messages\": current_state.values[\"messages\"],\n",
    "        \"ask_human_use_credit_card\": user_input == \"yes\"\n",
    "    }\n",
    "\n",
    "    if user_input == \"yes\":\n",
    "        final_result = graph.invoke(new_state, config)\n",
    "        print(\"\\nFinal Result:\", final_result[\"messages\"][-1].content)\n",
    "    else:\n",
    "        print(\"\\nOperation cancelled: Credit card authorization denied.\")\n",
    "            \n",
    "while True:\n",
    "    user_input = input(\"Enter Travel Plans: \")\n",
    "    if user_input.lower() in [\"quit\", \"exit\", \"q\"]:\n",
    "        print(\"Goodbye!\")\n",
    "        break\n",
    "\n",
    "    stream_graph_updates(user_input)\n"
   ]
  }
 ],
 "metadata": {
  "kernelspec": {
   "display_name": "agentic-3.11.2",
   "language": "python",
   "name": "python3"
  },
  "language_info": {
   "codemirror_mode": {
    "name": "ipython",
    "version": 3
   },
   "file_extension": ".py",
   "mimetype": "text/x-python",
   "name": "python",
   "nbconvert_exporter": "python",
   "pygments_lexer": "ipython3",
   "version": "3.11.2"
  }
 },
 "nbformat": 4,
 "nbformat_minor": 2
}
