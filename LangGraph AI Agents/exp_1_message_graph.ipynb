{
 "cells": [
  {
   "cell_type": "markdown",
   "metadata": {},
   "source": [
    "# Example 1 Message Graphs"
   ]
  },
  {
   "cell_type": "code",
   "execution_count": 19,
   "metadata": {},
   "outputs": [],
   "source": [
    "from langchain_core.messages import HumanMessage\n",
    "from langgraph.graph import MessageGraph, START, END\n",
    "\n",
    "import matplotlib.pyplot as plt\n",
    "import networkx as nx\n",
    "import numpy as np\n",
    "\n",
    "from IPython.display import Image, display"
   ]
  },
  {
   "cell_type": "code",
   "execution_count": 14,
   "metadata": {},
   "outputs": [],
   "source": [
    "def rotate_positions(pos, angle):\n",
    "    \"\"\" Rotate positions by a given angle in degrees. \"\"\"\n",
    "    angle = np.radians(angle)  # Convert degrees to radians\n",
    "    rotation_matrix = np.array([[np.cos(angle), -np.sin(angle)], \n",
    "                                [np.sin(angle), np.cos(angle)]])\n",
    "    \n",
    "    return {node: tuple(np.dot(rotation_matrix, coords)) for node, coords in pos.items()}\n"
   ]
  },
  {
   "cell_type": "markdown",
   "metadata": {},
   "source": [
    "## Example Message graph"
   ]
  },
  {
   "cell_type": "code",
   "execution_count": 15,
   "metadata": {},
   "outputs": [
    {
     "name": "stdout",
     "output_type": "stream",
     "text": [
      "[HumanMessage(content='Input; Agent takes action A; Agent takes action B; ', additional_kwargs={}, response_metadata={}, id='1bc17370-2847-49c4-b1f1-a573db9b1f9f')]\n"
     ]
    }
   ],
   "source": [
    "def funcA(input):\n",
    "    input[0].content += \"Agent takes action A; \"\n",
    "    return input\n",
    "\n",
    "def funcB(input):\n",
    "    input[0].content += \"Agent takes action B; \"\n",
    "    return input\n",
    "\n",
    "# Build the graph\n",
    "graph = (\n",
    "    MessageGraph()\n",
    "    .add_node(\"nodeA\", funcA)\n",
    "    .add_node(\"nodeB\", funcB)\n",
    "    .add_edge(START, \"nodeA\")\n",
    "    .add_edge(\"nodeA\", \"nodeB\")\n",
    "    .add_edge(\"nodeB\", END)\n",
    ")\n",
    "\n",
    "runnable = graph.compile()\n",
    "\n",
    "# Invoke the graph\n",
    "result = runnable.invoke([HumanMessage(content=\"Input; \")])\n",
    "print(result)"
   ]
  },
  {
   "cell_type": "markdown",
   "metadata": {},
   "source": [
    "# Conditional Graph Edges"
   ]
  },
  {
   "cell_type": "code",
   "execution_count": 16,
   "metadata": {},
   "outputs": [
    {
     "name": "stdout",
     "output_type": "stream",
     "text": [
      "[HumanMessage(content='Latest news SP500 is down to 5000 ==> Agent will buy stocks', additional_kwargs={}, response_metadata={}, id='100d7d71-c818-4167-a5f2-f5c97d0fce2b'), HumanMessage(content='actionBuyStocks', additional_kwargs={}, response_metadata={}, id='ca2b8376-832d-4472-aa7f-e529d9297fd5')]\n"
     ]
    }
   ],
   "source": [
    "from langchain_core.messages import HumanMessage\n",
    "from langgraph.graph import MessageGraph, START, END\n",
    "\n",
    "def fun_buy(input):\n",
    "    input[0].content += \" ==> Agent will buy stocks\"\n",
    "    return input\n",
    "\n",
    "def fun_sell(input):\n",
    "    input[0].content += \" ==> Agent will sell stocks\"\n",
    "    return input\n",
    "\n",
    "def fun_decision(input):\n",
    "    last = input[0].content\n",
    "    is_market_down = \"SP500\" in last and \"down\" in last\n",
    "    return \"actionBuyStocks\" if is_market_down else \"actionSellStocks\"\n",
    "\n",
    "# Build the graph\n",
    "graph = (\n",
    "    MessageGraph()\n",
    "    .add_node(\"decision\", fun_decision)\n",
    "    .add_node(\"actionBuyStocks\", fun_buy)\n",
    "    .add_node(\"actionSellStocks\", fun_sell)\n",
    "    .add_edge(START, \"decision\")\n",
    "    .add_conditional_edges(\"decision\", fun_decision, [\"actionBuyStocks\", \"actionSellStocks\"])\n",
    "    .add_edge(\"actionBuyStocks\", END)\n",
    "    .add_edge(\"actionSellStocks\", END)\n",
    ")\n",
    "\n",
    "runnable = graph.compile()\n",
    "\n",
    "# Invoke the graph\n",
    "result = runnable.invoke([HumanMessage(content=\"Latest news SP500 is down to 5000\")])\n",
    "print(result)"
   ]
  },
  {
   "cell_type": "markdown",
   "metadata": {},
   "source": [
    "## Cycles"
   ]
  },
  {
   "cell_type": "code",
   "execution_count": 17,
   "metadata": {},
   "outputs": [
    {
     "name": "stdout",
     "output_type": "stream",
     "text": [
      "[HumanMessage(content='Start game', additional_kwargs={}, response_metadata={}, id='7a8cc791-528f-4141-b5dc-b43470d98563'), HumanMessage(content='objective_achieved', additional_kwargs={}, response_metadata={}, id='a694436f-b800-4dfc-b6bc-ecafb19a7dbd')]\n"
     ]
    }
   ],
   "source": [
    "from langchain_core.messages import HumanMessage\n",
    "from langgraph.graph import MessageGraph, START, END\n",
    "import random\n",
    "\n",
    "def fun_agent(input):\n",
    "    return input\n",
    "\n",
    "def fun_use_dice_tool(input):\n",
    "    dice = 1 + random.randint(0, 5)\n",
    "    content = f\"Dice rolled: {dice}\" if dice != 6 else \"objective_achieved\"\n",
    "    input.append(HumanMessage(content=content))\n",
    "    return input\n",
    "\n",
    "def should_continue(input):\n",
    "    return \"end\" if input.pop().content == \"objective_achieved\" else \"useDiceTool\"\n",
    "\n",
    "# Build the graph\n",
    "graph = (\n",
    "    MessageGraph()\n",
    "    .add_node(\"agent\", fun_agent)\n",
    "    .add_node(\"useDiceTool\", fun_use_dice_tool)\n",
    "    .add_edge(START, \"agent\")\n",
    "    .add_edge(\"useDiceTool\", \"agent\")\n",
    "    .add_conditional_edges(\n",
    "        \"agent\", \n",
    "        should_continue, \n",
    "        {\"useDiceTool\": \"useDiceTool\", \"end\": END}\n",
    "    )\n",
    ")\n",
    "\n",
    "runnable = graph.compile()\n",
    "\n",
    "# Invoke the graph\n",
    "result = runnable.invoke([HumanMessage(content=\"Start game\")])\n",
    "print(result)"
   ]
  },
  {
   "cell_type": "markdown",
   "metadata": {},
   "source": [
    "## Visualize Graphs"
   ]
  },
  {
   "cell_type": "code",
   "execution_count": 22,
   "metadata": {},
   "outputs": [
    {
     "data": {
      "text/plain": [
       "<Figure size 800x600 with 0 Axes>"
      ]
     },
     "metadata": {},
     "output_type": "display_data"
    },
    {
     "data": {
      "image/png": "[encoded data removed]",
      "text/plain": [
       "<Figure size 600x600 with 1 Axes>"
      ]
     },
     "metadata": {},
     "output_type": "display_data"
    }
   ],
   "source": [
    "def funcA(input):\n",
    "    input[0].content += \"A\"\n",
    "    return input\n",
    "\n",
    "def funcB(input):\n",
    "    input[0].content += \"B\"\n",
    "    return input\n",
    "\n",
    "def funcC(input):\n",
    "    input[0].content += \"C\"\n",
    "    return input\n",
    "\n",
    "def funcD(input):\n",
    "    input[0].content += \"D\"\n",
    "    return input\n",
    "\n",
    "def funcE(input):\n",
    "    input[0].content += \"E\"\n",
    "    return input\n",
    "\n",
    "# Build the graph\n",
    "workflow = (\n",
    "    MessageGraph()\n",
    "    .add_node(\"nodeA\", funcA)\n",
    "    .add_node(\"nodeB\", funcB)\n",
    "    .add_node(\"nodeC\", funcC)\n",
    "    .add_node(\"nodeD\", funcD)\n",
    "    .add_node(\"funcE\", funcE)\n",
    "    .add_edge(START, \"nodeA\")\n",
    "    .add_edge(\"nodeA\", \"nodeB\")\n",
    "    .add_edge(\"nodeA\", \"nodeC\")\n",
    "    .add_edge(\"nodeA\", \"nodeD\")\n",
    "    .add_edge(\"nodeB\", \"funcE\")\n",
    "    .add_edge(\"nodeC\", \"funcE\")\n",
    "    .add_edge(\"nodeD\", \"funcE\")\n",
    "    .add_edge(\"funcE\", END)\n",
    ")\n",
    "\n",
    "graph = workflow.compile()\n",
    "\n",
    "pos = {\n",
    "    \"START\": (0, 2),\n",
    "    \"nodeA\": (1, 2),\n",
    "    \"nodeB\": (2, 3),\n",
    "    \"nodeC\": (2, 1),\n",
    "    \"nodeD\": (3, 2),\n",
    "    \"funcE\": (4, 2),\n",
    "    \"END\": (5, 2)\n",
    "}\n",
    "\n",
    "rotated_pos = rotate_positions(pos, -90)\n",
    "\n",
    "# Generate and show the graph structure\n",
    "G = nx.DiGraph()\n",
    "G.add_edges_from([\n",
    "    (\"START\", \"nodeA\"), (\"nodeA\", \"nodeB\"), (\"nodeA\", \"nodeC\"), (\"nodeA\", \"nodeD\"),\n",
    "    (\"nodeB\", \"funcE\"), (\"nodeC\", \"funcE\"), (\"nodeD\", \"funcE\"), (\"funcE\", \"END\")\n",
    "])\n",
    "\n",
    "plt.figure(figsize=(8, 6))\n",
    "\n",
    "# Define node groups\n",
    "start_nodes = [\"START\"]\n",
    "end_nodes = [\"END\"]\n",
    "interior_nodes = [node for node in G.nodes if node not in start_nodes + end_nodes]\n",
    "\n",
    "node_colors = {node: \"#90EE90\" if node in start_nodes else \"#FFE4E1\" if node in end_nodes else \"#ADD8E6\" for node in pos.keys()}\n",
    "\n",
    "# Generate and show the graph\n",
    "G = nx.DiGraph()\n",
    "G.add_edges_from([\n",
    "    (\"START\", \"nodeA\"), (\"nodeA\", \"nodeB\"), (\"nodeA\", \"nodeC\"), (\"nodeA\", \"nodeD\"),\n",
    "    (\"nodeB\", \"funcE\"), (\"nodeC\", \"funcE\"), (\"nodeD\", \"funcE\"), (\"funcE\", \"END\")\n",
    "])\n",
    "\n",
    "plt.figure(figsize=(6, 6))\n",
    "\n",
    "# Draw full graph with color mapping\n",
    "nx.draw(G, rotated_pos, with_labels=True, node_color=[node_colors[node] for node in G.nodes()], edge_color=\"gray\", node_size=3000, font_size=10)\n",
    "\n",
    "plt.show()"
   ]
  },
  {
   "cell_type": "code",
   "execution_count": 23,
   "metadata": {},
   "outputs": [
    {
     "data": {
      "image/png": "[encoded data removed]",
      "text/plain": [
       "<IPython.core.display.Image object>"
      ]
     },
     "metadata": {},
     "output_type": "display_data"
    }
   ],
   "source": [
    "display(Image(graph.get_graph(xray=True).draw_mermaid_png()))"
   ]
  }
 ],
 "metadata": {
  "kernelspec": {
   "display_name": "agentic-3.11.2",
   "language": "python",
   "name": "python3"
  },
  "language_info": {
   "codemirror_mode": {
    "name": "ipython",
    "version": 3
   },
   "file_extension": ".py",
   "mimetype": "text/x-python",
   "name": "python",
   "nbconvert_exporter": "python",
   "pygments_lexer": "ipython3",
   "version": "3.11.2"
  }
 },
 "nbformat": 4,
 "nbformat_minor": 2
}
