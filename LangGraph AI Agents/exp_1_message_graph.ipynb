{
 "cells": [
  {
   "cell_type": "markdown",
   "metadata": {},
   "source": [
    "# Example 1 Message Graphs"
   ]
  },
  {
   "cell_type": "code",
   "execution_count": 16,
   "metadata": {},
   "outputs": [],
   "source": [
    "from langchain_core.messages import HumanMessage\n",
    "from langgraph.graph import MessageGraph, START, END\n",
    "\n",
    "import matplotlib.pyplot as plt\n",
    "import networkx as nx\n",
    "import numpy as np"
   ]
  },
  {
   "cell_type": "code",
   "execution_count": 17,
   "metadata": {},
   "outputs": [],
   "source": [
    "def rotate_positions(pos, angle):\n",
    "    \"\"\" Rotate positions by a given angle in degrees. \"\"\"\n",
    "    angle = np.radians(angle)  # Convert degrees to radians\n",
    "    rotation_matrix = np.array([[np.cos(angle), -np.sin(angle)], \n",
    "                                [np.sin(angle), np.cos(angle)]])\n",
    "    \n",
    "    return {node: tuple(np.dot(rotation_matrix, coords)) for node, coords in pos.items()}\n"
   ]
  },
  {
   "cell_type": "markdown",
   "metadata": {},
   "source": [
    "## Example Message graph"
   ]
  },
  {
   "cell_type": "code",
   "execution_count": 3,
   "metadata": {},
   "outputs": [
    {
     "name": "stdout",
     "output_type": "stream",
     "text": [
      "[HumanMessage(content='Input; Agent takes action A; Agent takes action B; ', additional_kwargs={}, response_metadata={}, id='78e29d06-e401-4d65-87fc-51d5d00a7905')]\n"
     ]
    }
   ],
   "source": [
    "def funcA(input):\n",
    "    input[0].content += \"Agent takes action A; \"\n",
    "    return input\n",
    "\n",
    "def funcB(input):\n",
    "    input[0].content += \"Agent takes action B; \"\n",
    "    return input\n",
    "\n",
    "# Build the graph\n",
    "graph = (\n",
    "    MessageGraph()\n",
    "    .add_node(\"nodeA\", funcA)\n",
    "    .add_node(\"nodeB\", funcB)\n",
    "    .add_edge(START, \"nodeA\")\n",
    "    .add_edge(\"nodeA\", \"nodeB\")\n",
    "    .add_edge(\"nodeB\", END)\n",
    ")\n",
    "\n",
    "runnable = graph.compile()\n",
    "\n",
    "# Invoke the graph\n",
    "result = runnable.invoke([HumanMessage(content=\"Input; \")])\n",
    "print(result)"
   ]
  },
  {
   "cell_type": "markdown",
   "metadata": {},
   "source": [
    "# Conditional Graph Edges"
   ]
  },
  {
   "cell_type": "code",
   "execution_count": 4,
   "metadata": {},
   "outputs": [
    {
     "name": "stdout",
     "output_type": "stream",
     "text": [
      "[HumanMessage(content='Latest news SP500 is down to 5000 ==> Agent will buy stocks', additional_kwargs={}, response_metadata={}, id='f569c937-71eb-4d8d-a2b6-369b6f993ef3'), HumanMessage(content='actionBuyStocks', additional_kwargs={}, response_metadata={}, id='3fd56673-e499-429a-bafb-2ec4b0b95a67')]\n"
     ]
    }
   ],
   "source": [
    "from langchain_core.messages import HumanMessage\n",
    "from langgraph.graph import MessageGraph, START, END\n",
    "\n",
    "def fun_buy(input):\n",
    "    input[0].content += \" ==> Agent will buy stocks\"\n",
    "    return input\n",
    "\n",
    "def fun_sell(input):\n",
    "    input[0].content += \" ==> Agent will sell stocks\"\n",
    "    return input\n",
    "\n",
    "def fun_decision(input):\n",
    "    last = input[0].content\n",
    "    is_market_down = \"SP500\" in last and \"down\" in last\n",
    "    return \"actionBuyStocks\" if is_market_down else \"actionSellStocks\"\n",
    "\n",
    "# Build the graph\n",
    "graph = (\n",
    "    MessageGraph()\n",
    "    .add_node(\"decision\", fun_decision)\n",
    "    .add_node(\"actionBuyStocks\", fun_buy)\n",
    "    .add_node(\"actionSellStocks\", fun_sell)\n",
    "    .add_edge(START, \"decision\")\n",
    "    .add_conditional_edges(\"decision\", fun_decision, [\"actionBuyStocks\", \"actionSellStocks\"])\n",
    "    .add_edge(\"actionBuyStocks\", END)\n",
    "    .add_edge(\"actionSellStocks\", END)\n",
    ")\n",
    "\n",
    "runnable = graph.compile()\n",
    "\n",
    "# Invoke the graph\n",
    "result = runnable.invoke([HumanMessage(content=\"Latest news SP500 is down to 5000\")])\n",
    "print(result)"
   ]
  },
  {
   "cell_type": "markdown",
   "metadata": {},
   "source": [
    "## Cycles"
   ]
  },
  {
   "cell_type": "code",
   "execution_count": 5,
   "metadata": {},
   "outputs": [
    {
     "name": "stdout",
     "output_type": "stream",
     "text": [
      "[HumanMessage(content='Start game', additional_kwargs={}, response_metadata={}, id='9ef537cf-43a1-41ff-8123-61627eaaafa4'), HumanMessage(content='Dice rolled: 3', additional_kwargs={}, response_metadata={}, id='dcbd87be-2b4f-4f34-876d-f018f210f552'), HumanMessage(content='Dice rolled: 1', additional_kwargs={}, response_metadata={}, id='8cfd219e-e2fc-44d6-ba38-78e0911e838a'), HumanMessage(content='Dice rolled: 4', additional_kwargs={}, response_metadata={}, id='423bd635-6603-4b6a-b6d8-cdc77501434e'), HumanMessage(content='Dice rolled: 4', additional_kwargs={}, response_metadata={}, id='6c3efc47-245a-4547-a6b2-964243b10760'), HumanMessage(content='Dice rolled: 3', additional_kwargs={}, response_metadata={}, id='f3b40d09-2a7d-4d8c-a1b6-260591924f7f'), HumanMessage(content='Dice rolled: 2', additional_kwargs={}, response_metadata={}, id='0688ca8f-61ef-4c47-8a9c-ad0d8c50f2dd'), HumanMessage(content='Dice rolled: 4', additional_kwargs={}, response_metadata={}, id='7e65b2fb-07dd-4829-bfc7-da69f6484df7'), HumanMessage(content='Dice rolled: 3', additional_kwargs={}, response_metadata={}, id='7dd23328-16a2-47fe-a139-aa0578afe838'), HumanMessage(content='Dice rolled: 5', additional_kwargs={}, response_metadata={}, id='7cd2a456-c249-471c-9304-5ff6bfa1b0e0'), HumanMessage(content='objective_achieved', additional_kwargs={}, response_metadata={}, id='5c0b364b-dffa-45b9-a179-6302ed169598')]\n"
     ]
    }
   ],
   "source": [
    "from langchain_core.messages import HumanMessage\n",
    "from langgraph.graph import MessageGraph, START, END\n",
    "import random\n",
    "\n",
    "def fun_agent(input):\n",
    "    return input\n",
    "\n",
    "def fun_use_dice_tool(input):\n",
    "    dice = 1 + random.randint(0, 5)\n",
    "    content = f\"Dice rolled: {dice}\" if dice != 6 else \"objective_achieved\"\n",
    "    input.append(HumanMessage(content=content))\n",
    "    return input\n",
    "\n",
    "def should_continue(input):\n",
    "    return \"end\" if input.pop().content == \"objective_achieved\" else \"useDiceTool\"\n",
    "\n",
    "# Build the graph\n",
    "graph = (\n",
    "    MessageGraph()\n",
    "    .add_node(\"agent\", fun_agent)\n",
    "    .add_node(\"useDiceTool\", fun_use_dice_tool)\n",
    "    .add_edge(START, \"agent\")\n",
    "    .add_edge(\"useDiceTool\", \"agent\")\n",
    "    .add_conditional_edges(\n",
    "        \"agent\", \n",
    "        should_continue, \n",
    "        {\"useDiceTool\": \"useDiceTool\", \"end\": END}\n",
    "    )\n",
    ")\n",
    "\n",
    "runnable = graph.compile()\n",
    "\n",
    "# Invoke the graph\n",
    "result = runnable.invoke([HumanMessage(content=\"Start game\")])\n",
    "print(result)"
   ]
  },
  {
   "cell_type": "markdown",
   "metadata": {},
   "source": [
    "## Visualize Graphs"
   ]
  },
  {
   "cell_type": "code",
   "execution_count": 29,
   "metadata": {},
   "outputs": [
    {
     "data": {
      "text/plain": [
       "<Figure size 800x600 with 0 Axes>"
      ]
     },
     "metadata": {},
     "output_type": "display_data"
    },
    {
     "data": {
      "image/png": "[encoded data removed]",
      "text/plain": [
       "<Figure size 600x600 with 1 Axes>"
      ]
     },
     "metadata": {},
     "output_type": "display_data"
    }
   ],
   "source": [
    "def funcA(input):\n",
    "    input[0].content += \"A\"\n",
    "    return input\n",
    "\n",
    "def funcB(input):\n",
    "    input[0].content += \"B\"\n",
    "    return input\n",
    "\n",
    "def funcC(input):\n",
    "    input[0].content += \"C\"\n",
    "    return input\n",
    "\n",
    "def funcD(input):\n",
    "    input[0].content += \"D\"\n",
    "    return input\n",
    "\n",
    "def funcE(input):\n",
    "    input[0].content += \"E\"\n",
    "    return input\n",
    "\n",
    "# Build the graph\n",
    "graph = (\n",
    "    MessageGraph()\n",
    "    .add_node(\"nodeA\", funcA)\n",
    "    .add_node(\"nodeB\", funcB)\n",
    "    .add_node(\"nodeC\", funcC)\n",
    "    .add_node(\"nodeD\", funcD)\n",
    "    .add_node(\"funcE\", funcE)\n",
    "    .add_edge(START, \"nodeA\")\n",
    "    .add_edge(\"nodeA\", \"nodeB\")\n",
    "    .add_edge(\"nodeA\", \"nodeC\")\n",
    "    .add_edge(\"nodeA\", \"nodeD\")\n",
    "    .add_edge(\"nodeB\", \"funcE\")\n",
    "    .add_edge(\"nodeC\", \"funcE\")\n",
    "    .add_edge(\"nodeD\", \"funcE\")\n",
    "    .add_edge(\"funcE\", END)\n",
    ")\n",
    "\n",
    "runnable = graph.compile()\n",
    "\n",
    "pos = {\n",
    "    \"START\": (0, 2),\n",
    "    \"nodeA\": (1, 2),\n",
    "    \"nodeB\": (2, 3),\n",
    "    \"nodeC\": (2, 1),\n",
    "    \"nodeD\": (3, 2),\n",
    "    \"funcE\": (4, 2),\n",
    "    \"END\": (5, 2)\n",
    "}\n",
    "\n",
    "rotated_pos = rotate_positions(pos, -90)\n",
    "\n",
    "# Generate and show the graph structure\n",
    "G = nx.DiGraph()\n",
    "G.add_edges_from([\n",
    "    (\"START\", \"nodeA\"), (\"nodeA\", \"nodeB\"), (\"nodeA\", \"nodeC\"), (\"nodeA\", \"nodeD\"),\n",
    "    (\"nodeB\", \"funcE\"), (\"nodeC\", \"funcE\"), (\"nodeD\", \"funcE\"), (\"funcE\", \"END\")\n",
    "])\n",
    "\n",
    "plt.figure(figsize=(8, 6))\n",
    "\n",
    "# Define node groups\n",
    "start_nodes = [\"START\"]\n",
    "end_nodes = [\"END\"]\n",
    "interior_nodes = [node for node in G.nodes if node not in start_nodes + end_nodes]\n",
    "\n",
    "node_colors = {node: \"#90EE90\" if node in start_nodes else \"#FFE4E1\" if node in end_nodes else \"#ADD8E6\" for node in pos.keys()}\n",
    "\n",
    "# Generate and show the graph\n",
    "G = nx.DiGraph()\n",
    "G.add_edges_from([\n",
    "    (\"START\", \"nodeA\"), (\"nodeA\", \"nodeB\"), (\"nodeA\", \"nodeC\"), (\"nodeA\", \"nodeD\"),\n",
    "    (\"nodeB\", \"funcE\"), (\"nodeC\", \"funcE\"), (\"nodeD\", \"funcE\"), (\"funcE\", \"END\")\n",
    "])\n",
    "\n",
    "plt.figure(figsize=(6, 6))\n",
    "\n",
    "# Draw full graph with color mapping\n",
    "nx.draw(G, rotated_pos, with_labels=True, node_color=[node_colors[node] for node in G.nodes()], edge_color=\"gray\", node_size=3000, font_size=10)\n",
    "\n",
    "plt.show()"
   ]
  }
 ],
 "metadata": {
  "kernelspec": {
   "display_name": "agentic-3.11.2",
   "language": "python",
   "name": "python3"
  },
  "language_info": {
   "codemirror_mode": {
    "name": "ipython",
    "version": 3
   },
   "file_extension": ".py",
   "mimetype": "text/x-python",
   "name": "python",
   "nbconvert_exporter": "python",
   "pygments_lexer": "ipython3",
   "version": "3.11.2"
  }
 },
 "nbformat": 4,
 "nbformat_minor": 2
}
