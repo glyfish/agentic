{
 "cells": [
  {
   "cell_type": "markdown",
   "metadata": {},
   "source": [
    "# Using Stateful Graphs"
   ]
  },
  {
   "cell_type": "code",
   "execution_count": 2,
   "metadata": {},
   "outputs": [],
   "source": [
    "import os\n",
    "import sys\n",
    "import random\n",
    "import json\n",
    "from pydantic import BaseModel, Field\n",
    "from dataclasses import dataclass, field\n",
    "\n",
    "from typing import Annotated, Literal, Sequence\n",
    "from typing_extensions import TypedDict\n",
    "\n",
    "from langchain_core.messages import HumanMessage, SystemMessage, BaseMessage, FunctionMessage\n",
    "from langchain_openai import OpenAI, ChatOpenAI\n",
    "from langgraph.graph import StateGraph, START, END\n",
    "from langgraph.prebuilt import ToolNode\n",
    "from langgraph.graph.message import add_messages\n",
    "from langchain_core.tools import tool\n",
    "\n",
    "from IPython.display import Image, display\n",
    "\n",
    "sys.path.append(os.path.abspath(os.path.join(os.getcwd(), '..')))\n",
    "\n",
    "from lib.utils import set_chatgpt_env, set_langsmith_env"
   ]
  },
  {
   "cell_type": "code",
   "execution_count": 3,
   "metadata": {},
   "outputs": [],
   "source": [
    "set_langsmith_env()\n",
    "set_chatgpt_env()"
   ]
  },
  {
   "cell_type": "code",
   "execution_count": 16,
   "metadata": {},
   "outputs": [],
   "source": [
    "@dataclass\n",
    "class GraphState:\n",
    "    messages: Annotated[Sequence[BaseMessage], add_messages] = field(default_factory=list)\n",
    "    steps: int = field(default=0)\n",
    "\n",
    "\n",
    "def func_green(state):\n",
    "    print('function Green')\n",
    "    print(state)\n",
    "    return {\n",
    "        \"messages\": state.messages + [SystemMessage(content=\"Green function executed\")],\n",
    "        \"steps\": state.steps + 1\n",
    "    }\n",
    "\n",
    "def func_yellow(state):\n",
    "    print('function Yellow')\n",
    "    print(state)\n",
    "    return {\n",
    "        \"messages\": state.messages + [SystemMessage(content=\"Yellow function executed\")],\n",
    "        \"steps\": state.steps + 1\n",
    "    }\n",
    "    \n",
    "    return {\n",
    "        \"messages\": current_messages + [SystemMessage(content=\"Yellow function executed\")],\n",
    "        \"steps\": current_steps + 1\n",
    "    }\n",
    "\n",
    "\n",
    "workflow = StateGraph(GraphState)\n",
    "workflow.add_node(\"green\", func_green)\n",
    "workflow.add_node(\"yellow\", func_yellow)\n",
    "workflow.add_edge(START, \"green\")\n",
    "workflow.add_edge(\"green\", \"yellow\")\n",
    "workflow.add_edge(\"yellow\", END)\n",
    "\n",
    "graph = workflow.compile()"
   ]
  },
  {
   "cell_type": "code",
   "execution_count": 14,
   "metadata": {},
   "outputs": [
    {
     "data": {
      "image/png": "[encoded data removed]",
      "text/plain": [
       "<IPython.core.display.Image object>"
      ]
     },
     "metadata": {},
     "output_type": "display_data"
    }
   ],
   "source": [
    "display(Image(graph.get_graph(xray=True).draw_mermaid_png()))"
   ]
  },
  {
   "cell_type": "code",
   "execution_count": 18,
   "metadata": {},
   "outputs": [
    {
     "name": "stdout",
     "output_type": "stream",
     "text": [
      "function Green\n",
      "GraphState(messages=[], steps=0)\n",
      "function Yellow\n",
      "GraphState(messages=[SystemMessage(content='Green function executed', additional_kwargs={}, response_metadata={}, id='f6f7df92-0c73-49d2-8f92-1b575451b25a')], steps=1)\n"
     ]
    }
   ],
   "source": [
    "result = graph.invoke({\n",
    "    \"messages\": [],\n",
    "    \"steps\": 0\n",
    "})"
   ]
  }
 ],
 "metadata": {
  "kernelspec": {
   "display_name": "agentic-3.11.2",
   "language": "python",
   "name": "python3"
  },
  "language_info": {
   "codemirror_mode": {
    "name": "ipython",
    "version": 3
   },
   "file_extension": ".py",
   "mimetype": "text/x-python",
   "name": "python",
   "nbconvert_exporter": "python",
   "pygments_lexer": "ipython3",
   "version": "3.11.2"
  }
 },
 "nbformat": 4,
 "nbformat_minor": 2
}
