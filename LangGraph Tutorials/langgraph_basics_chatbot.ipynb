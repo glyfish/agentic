{
 "cells": [
  {
   "cell_type": "markdown",
   "metadata": {},
   "source": [
    "# Basic Chatbot"
   ]
  },
  {
   "cell_type": "code",
   "execution_count": 17,
   "metadata": {},
   "outputs": [],
   "source": [
    "import os\n",
    "import sys\n",
    "import json\n",
    "import datetime\n",
    "\n",
    "from typing import Annotated\n",
    "from typing_extensions import TypedDict\n",
    "\n",
    "from IPython.display import Image, display\n",
    "import networkx as nx\n",
    "\n",
    "from langgraph.graph import StateGraph, START, END\n",
    "from langgraph.graph.message import add_messages\n",
    "from langchain_openai import OpenAI, ChatOpenAI\n",
    "from langchain_community.tools import TavilySearchResults\n",
    "from langchain.chat_models import init_chat_model\n",
    "from langchain_core.prompts import ChatPromptTemplate\n",
    "from langchain_core.runnables import RunnableConfig, chain\n",
    "\n",
    "sys.path.append(os.path.abspath(os.path.join(os.getcwd(), '..')))\n",
    "\n",
    "from lib.utils import set_chatgpt_env, set_langsmith_env, set_tavily_env"
   ]
  },
  {
   "cell_type": "code",
   "execution_count": 2,
   "metadata": {},
   "outputs": [],
   "source": [
    "set_chatgpt_env()\n",
    "set_langsmith_env()\n",
    "set_tavily_env()"
   ]
  },
  {
   "cell_type": "code",
   "execution_count": 4,
   "metadata": {},
   "outputs": [
    {
     "data": {
      "image/png": "[encoded data removed]",
      "text/plain": [
       "<IPython.core.display.Image object>"
      ]
     },
     "metadata": {},
     "output_type": "display_data"
    }
   ],
   "source": [
    "llm = ChatOpenAI(model='gpt-4-turbo')\n",
    "\n",
    "class State(TypedDict):\n",
    "    # Messages have the type \"list\". The `add_messages` function\n",
    "    # in the annotation defines how this state key should be updated\n",
    "    # (in this case, it appends messages to the list, rather than overwriting them)\n",
    "    messages: Annotated[list, add_messages]\n",
    "\n",
    "def chatbot(state: State):\n",
    "    return {\"messages\": [llm.invoke(state[\"messages\"])]}\n",
    "\n",
    "graph_builder = StateGraph(State)\n",
    "\n",
    "graph_builder.add_node(\"chatbot\", chatbot)\n",
    "graph_builder.add_edge(START, \"chatbot\")\n",
    "graph_builder.add_edge(\"chatbot\", END)\n",
    "\n",
    "graph = graph_builder.compile()\n",
    "\n",
    "display(Image(graph.get_graph().draw_mermaid_png()))"
   ]
  },
  {
   "cell_type": "code",
   "execution_count": 6,
   "metadata": {},
   "outputs": [],
   "source": [
    "def stream_graph_updates(user_input: str):\n",
    "    for event in graph.stream({\"messages\": [{\"role\": \"user\", \"content\": user_input}]}):\n",
    "        for value in event.values():\n",
    "            print(\"Assistant:\", value[\"messages\"][-1].content)"
   ]
  },
  {
   "cell_type": "code",
   "execution_count": 8,
   "metadata": {},
   "outputs": [
    {
     "name": "stdout",
     "output_type": "stream",
     "text": [
      "Assistant: Tullahoma is a city in Coffee and Franklin counties in the south-central part of Tennessee, United States. It serves as a major hub in the area largely due to its strategic location. The city’s history and development are tied to several key factors including transportation, military significance, and its role in local industry.\n",
      "\n",
      "### Founding and Name Origin\n",
      "Tullahoma was founded in 1852 as a work camp along the new Nashville and Chattanooga Railroad. The name \"Tullahoma\" is derived from the Choctaw words \"tulla\" meaning rock and \"homa\" meaning red, translating roughly to \"red rock.\" This name may have been inspired by the red clay soil of the area.\n",
      "\n",
      "### Civil War Significance\n",
      "The city is perhaps best known historically for its role during the Civil War. In 1863, it became the headquarters for the Confederate Army of Tennessee under General Braxton Bragg. This was during a period known as the Tullahoma Campaign, which took place from June to July 1863. Despite its potential for a major confrontation, the campaign is noted for its minimal skirmishing, with the Union forces under Major General William S. Rosecrans maneuvering Bragg’s forces out of Tullahoma without a major battle. This campaign is considered a significant turning point as it opened the door for Union advances into Chattanooga and eventually Atlanta.\n",
      "\n",
      "### Post-Civil War Development\n",
      "After the Civil War, Tullahoma gradually shifted from a primarily military-centric location to a more diversified economy. The establishment of various institutions and industries helped in this transformation.\n",
      "\n",
      "### Industrial Growth and Economic Development\n",
      "Throughout the 20th century, Tullahoma emerged as a center for aerospace, engineering, and aviation industries, significantly influenced by the presence of the Arnold Engineering Development Complex (AEDC) which was established during World War II to test high-speed aircraft and later missile and space programs. This installation helped drive significant population growth and technological advancements in the area.\n",
      "\n",
      "### Education and Culture\n",
      "Tullahoma is also known for its commitment to education and culture, featuring several educational institutions and cultural facilities, including the South Jackson Civic Center, which hosts a range of cultural events and performances.\n",
      "\n",
      "### Modern Tullahoma\n",
      "Today, Tullahoma is characterized by its blend of rich historical background and modern technological advancements. The local government and community organizations continue to foster a strong sense of community while supporting growth and innovation in various sectors. The city’s strategic initiatives often focus on improving quality of life, expanding educational opportunities, and developing the local economy, particularly in high-tech industries.\n",
      "\n",
      "Tullahoma’s history reflects the broader trends in American society, from Civil War upheavals and industrial growth to modern technological advancements, making it a unique microcosm of the American South.\n",
      "Goodbye!\n"
     ]
    }
   ],
   "source": [
    "while True:\n",
    "    user_input = input(\"User: \")\n",
    "    if user_input.lower() in [\"quit\", \"exit\", \"q\"]:\n",
    "        print(\"Goodbye!\")\n",
    "        break\n",
    "\n",
    "    stream_graph_updates(user_input)"
   ]
  },
  {
   "cell_type": "markdown",
   "metadata": {},
   "source": [
    "## Tavily Search"
   ]
  },
  {
   "cell_type": "code",
   "execution_count": 18,
   "metadata": {},
   "outputs": [],
   "source": [
    "search_tool = TavilySearchResults(\n",
    "    max_results=5,\n",
    "    search_depth=\"advanced\",\n",
    "    include_answer=True,\n",
    "    include_raw_content=True,\n",
    "    include_images=True,\n",
    "    # include_domains=[...],\n",
    "    # exclude_domains=[...],\n",
    "    # name=\"...\",            # overwrite default tool name\n",
    "    # description=\"...\",     # overwrite default tool description\n",
    "    # args_schema=...,       # overwrite default args_schema: BaseModel\n",
    ")"
   ]
  },
  {
   "cell_type": "code",
   "execution_count": 6,
   "metadata": {},
   "outputs": [
    {
     "data": {
      "text/plain": [
       "[{'url': 'https://www.nbcnews.com/news/sports/andy-murray-wimbledon-tennis-singles-draw-rcna159912',\n",
       "  'content': \"NBC News Now LONDON — Andy Murray, one of the last decade's most successful male tennis players, has pulled out of the singles tournament at what is almost certain to be his last Wimbledon, his team confirmed Tuesday. Murray, 37, who has won the Wimbledon singles title twice and the U.S Open once, has been battling to be fit to play at the All England Club for weeks. “Unfortunately, despite working incredibly hard on his recovery since his operation just over a week ago, Andy has taken the very difficult decision not to play the singles this year,” his team said in a statement reported by Sky News. The news caps a glittering career on the ATP singles tour, which placed Murray at No. 1 in the world for 41 weeks.\"},\n",
       " {'url': 'https://www.nytimes.com/athletic/live-blogs/wimbledon-2024-live-updates-alcaraz-djokovic-mens-final-result/kJJdTKhOgkZo/mGpXBR2QIift/',\n",
       "  'content': \"Carlos Alcaraz beats Novak Djokovic to win the men's singles final In the 2023 final, Carlos Alcaraz won his first Wimbledon title, and only his second Grand Slam title, after beating Novak Djokovic in a five-set thriller on Centre Court. GO FURTHER Novak Djokovic and Carlos Alcaraz’s Wimbledon final is a duel of extraordinary quests Novak Djokovic set up a Wimbledon rematch with Carlos Alcaraz by beating Lorenzo Musetti, 6-4, 7-6, 6-3 on Centre Court on Friday, concluding his run to the final at the All England Club that started just 25 days after surgery on a torn meniscus in his right knee. GO FURTHER Novak Djokovic beats Lorenzo Musetti for Wimbledon final against Carlos Alcaraz\"},\n",
       " {'url': 'https://apnews.com/article/wimbledon-djokovic-rain-injuries-slipping-1963887a00cdbcabb4d7ea9492028245',\n",
       "  'content': \"The woman who beat her last week, Jessica Bouzas Maneiro, stopped at Wimbledon because of a back issue in the third round against Krejcikova. Frances Tiafoe pulled out of the Queen's Club tournament before Wimbledon after spraining a ligament in his right knee when he took a tumble. Tiafoe played at the All England Club with a black sleeve\"},\n",
       " {'url': 'https://www.bbc.com/sport/tennis/articles/cxe2x31ez8vo',\n",
       "  'content': 'Wimbledon men\\'s final: Novak Djokovic says \\'history will be on the line\\' against Carlos Alcaraz - BBC Sport Novak Djokovic is hoping to avenge his loss to Carlos Alcaraz in last year\\'s Wimbledon final Novak Djokovic says \"history will be on the line\" when he faces Carlos Alcaraz in the Wimbledon men\\'s singles final. Wimbledon crowd boos as Novak Djokovic performs a violin celebration after his semi-final win The third seed, who has won 13 consecutive matches at Wimbledon, had the support of most of the crowd during last year\\'s final, although he may be pushing his luck by jokingly poking fun at England supporters this week before his nation\\'s Euro 2024 final with the Three Lions.'},\n",
       " {'url': 'https://www.nytimes.com/athletic/live-blogs/wimbledon-2024-live-updates-day-two-murray-djokovic-scores-results/bVuQoHpnfnrg/EPsBusvPvmqH/',\n",
       "  'content': \"Follow live reaction of the second day at Wimbledon 2024 as Britain's Jack Draper progresses after compatriot Andy Murray withdraws amid rain delays There was one result wrapped up before play was suspended: American Jessica Pegula, the fifth seed, absolutely raced through her match against compatriot Ashlyn Krueger, winning 6-2, 6-0 on Court 2. What do tennis players do at Wimbledon when rain stops play? GO FURTHER What do tennis players do at Wimbledon when rain stops play? GO FURTHER Andy Murray Wimbledon tribute: How his tennis and his titles played with our hearts Murray's fellow Brit Jack Draper, the man tipped by some to step into the Scot's shoes as the prime figure in British tennis, is now the third match on Centre Court.\"}]"
      ]
     },
     "execution_count": 6,
     "metadata": {},
     "output_type": "execute_result"
    }
   ],
   "source": [
    "search_tool.invoke({\"query\": \"What happened at the last wimbledon\"})"
   ]
  },
  {
   "cell_type": "code",
   "execution_count": null,
   "metadata": {},
   "outputs": [
    {
     "name": "stdout",
     "output_type": "stream",
     "text": [
      "[{\"url\": \"https://footballgroundguide.com/euro-2024-host-nation\", \"content\": \"Eyes are on the Euro 2\n"
     ]
    }
   ],
   "source": [
    "# This is usually generated by a model, but we'll create a tool call directly for demo purposes.\n",
    "model_generated_tool_call = {\n",
    "    \"args\": {\"query\": \"euro 2024 host nation\"},\n",
    "    \"id\": \"1\",\n",
    "    \"name\": \"tavily\",\n",
    "    \"type\": \"tool_call\",\n",
    "}\n",
    "tool_msg = search_tool.invoke(model_generated_tool_call)\n",
    "\n",
    "# The content is a JSON string of results\n",
    "print(tool_msg.content[:100])"
   ]
  },
  {
   "cell_type": "code",
   "execution_count": 8,
   "metadata": {},
   "outputs": [
    {
     "data": {
      "text/plain": [
       "{'query': str,\n",
       " 'follow_up_questions': NoneType,\n",
       " 'answer': str,\n",
       " 'images': list,\n",
       " 'results': list,\n",
       " 'response_time': float}"
      ]
     },
     "execution_count": 8,
     "metadata": {},
     "output_type": "execute_result"
    }
   ],
   "source": [
    "# The artifact is a dict with richer, raw results\n",
    "{k: type(v) for k, v in tool_msg.artifact.items()}"
   ]
  },
  {
   "cell_type": "code",
   "execution_count": 12,
   "metadata": {},
   "outputs": [
    {
     "name": "stdout",
     "output_type": "stream",
     "text": [
      "{\n",
      "  \"query\": \"euro 2024 host nation\",\n",
      "  \"follow_up_questions\": \"None\",\n",
      "  \"answer\": \"Germany is the host nation for Euro 2024, with the tournament taking place from June 14 to July 14. The opening match will feature Germany against Scotland in Munich, followed by matches in various ci\",\n",
      "  \"images\": \"['https://img.planetafobal.com/2021/10/sedes-uefa-euro-2024-alemania-fg.jpg', 'https://i.ytimg.com/vi/7qunL8ij1A0/maxresdefault.jpg', 'https://thepeninsulaqatar.com/get/maximage/20180927_1538055318-20\",\n",
      "  \"results\": \"[{'title': 'Germany as a football destination: A guide to the Euro 2024 host nation', 'url': 'https://footballgroundguide.com/euro-2024-host-nation', 'content': 'Eyes are on the Euro 2024 host nation,\",\n",
      "  \"response_time\": \"3.61\"\n",
      "}\n"
     ]
    }
   ],
   "source": [
    "print(json.dumps({k: str(v)[:200] for k, v in tool_msg.artifact.items()}, indent=2))"
   ]
  },
  {
   "cell_type": "markdown",
   "metadata": {},
   "source": [
    "### Chaining"
   ]
  },
  {
   "cell_type": "code",
   "execution_count": 19,
   "metadata": {},
   "outputs": [],
   "source": [
    "llm = init_chat_model(\"gpt-4o-mini\", model_provider=\"openai\")"
   ]
  },
  {
   "cell_type": "code",
   "execution_count": 20,
   "metadata": {},
   "outputs": [],
   "source": [
    "today = datetime.datetime.today().strftime(\"%D\")\n",
    "prompt = ChatPromptTemplate(\n",
    "    [\n",
    "        (\"system\", f\"You are a helpful assistant. The date today is {today}.\"),\n",
    "        (\"human\", \"{user_input}\"),\n",
    "        (\"placeholder\", \"{messages}\"),\n",
    "    ]\n",
    ")"
   ]
  },
  {
   "cell_type": "code",
   "execution_count": 22,
   "metadata": {},
   "outputs": [
    {
     "data": {
      "text/plain": [
       "\"The last women's singles winner at Wimbledon, as of 2024, was Markéta Vondroušová, who won the title in 2023. She defeated Elina Svitolina in the final.\""
      ]
     },
     "execution_count": 22,
     "metadata": {},
     "output_type": "execute_result"
    }
   ],
   "source": [
    "# specifying tool_choice will force the model to call this tool.\n",
    "llm_with_tools = llm.bind_tools([search_tool])\n",
    "llm_chain = prompt | llm_with_tools\n",
    "\n",
    "@chain\n",
    "def tool_chain(user_input: str, config: RunnableConfig):\n",
    "    input_ = {\"user_input\": user_input}\n",
    "    ai_msg = llm_chain.invoke(input_, config=config)\n",
    "    tool_msgs = search_tool.batch(ai_msg.tool_calls, config=config)\n",
    "    return llm_chain.invoke({**input_, \"messages\": [ai_msg, *tool_msgs]}, config=config)\n",
    "\n",
    "\n",
    "tool_chain.invoke(\"who won the last womens singles wimbledon\").content"
   ]
  },
  {
   "cell_type": "markdown",
   "metadata": {},
   "source": [
    "### Graphing"
   ]
  }
 ],
 "metadata": {
  "kernelspec": {
   "display_name": "agentic-3.11.2",
   "language": "python",
   "name": "python3"
  },
  "language_info": {
   "codemirror_mode": {
    "name": "ipython",
    "version": 3
   },
   "file_extension": ".py",
   "mimetype": "text/x-python",
   "name": "python",
   "nbconvert_exporter": "python",
   "pygments_lexer": "ipython3",
   "version": "3.11.2"
  }
 },
 "nbformat": 4,
 "nbformat_minor": 2
}
